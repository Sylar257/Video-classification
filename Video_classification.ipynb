{
 "cells": [
  {
   "cell_type": "code",
   "execution_count": 1,
   "metadata": {
    "scrolled": true
   },
   "outputs": [],
   "source": [
    "# Commonly used CV tools\n",
    "import os\n",
    "import cv2     # for capturing videos\n",
    "import math   # for mathematical operations\n",
    "import pickle\n",
    "import matplotlib.pyplot as plt    # for plotting the images\n",
    "%matplotlib inline\n",
    "import pandas as pd\n",
    "import numpy as np    # for mathematical operations\n",
    "from skimage.transform import resize   # for resizing images\n",
    "from sklearn.model_selection import train_test_split\n",
    "from sklearn.preprocessing import OneHotEncoder, LabelEncoder\n",
    "from sklearn.metrics import accuracy_score\n",
    "from glob import glob\n",
    "from tqdm import tqdm\n",
    "\n",
    "# for model architectures\n",
    "import torch\n",
    "import torch.nn as nn\n",
    "import torch.nn.functional as F\n",
    "import torchvision.models as models\n",
    "import torchvision.transforms as transforms\n",
    "import torch.utils.data as data\n",
    "import torchvision\n",
    "from torch.autograd import Variable\n",
    "from functions import *\n"
   ]
  },
  {
   "cell_type": "markdown",
   "metadata": {},
   "source": [
    "### Read file names into the train dataframe"
   ]
  },
  {
   "cell_type": "code",
   "execution_count": 2,
   "metadata": {},
   "outputs": [
    {
     "data": {
      "text/html": [
       "<div>\n",
       "<style scoped>\n",
       "    .dataframe tbody tr th:only-of-type {\n",
       "        vertical-align: middle;\n",
       "    }\n",
       "\n",
       "    .dataframe tbody tr th {\n",
       "        vertical-align: top;\n",
       "    }\n",
       "\n",
       "    .dataframe thead th {\n",
       "        text-align: right;\n",
       "    }\n",
       "</style>\n",
       "<table border=\"1\" class=\"dataframe\">\n",
       "  <thead>\n",
       "    <tr style=\"text-align: right;\">\n",
       "      <th></th>\n",
       "      <th>video_name</th>\n",
       "    </tr>\n",
       "  </thead>\n",
       "  <tbody>\n",
       "    <tr>\n",
       "      <th>0</th>\n",
       "      <td>ApplyEyeMakeup/v_ApplyEyeMakeup_g08_c01.avi 1</td>\n",
       "    </tr>\n",
       "    <tr>\n",
       "      <th>1</th>\n",
       "      <td>ApplyEyeMakeup/v_ApplyEyeMakeup_g08_c02.avi 1</td>\n",
       "    </tr>\n",
       "    <tr>\n",
       "      <th>2</th>\n",
       "      <td>ApplyEyeMakeup/v_ApplyEyeMakeup_g08_c03.avi 1</td>\n",
       "    </tr>\n",
       "    <tr>\n",
       "      <th>3</th>\n",
       "      <td>ApplyEyeMakeup/v_ApplyEyeMakeup_g08_c04.avi 1</td>\n",
       "    </tr>\n",
       "    <tr>\n",
       "      <th>4</th>\n",
       "      <td>ApplyEyeMakeup/v_ApplyEyeMakeup_g08_c05.avi 1</td>\n",
       "    </tr>\n",
       "  </tbody>\n",
       "</table>\n",
       "</div>"
      ],
      "text/plain": [
       "                                      video_name\n",
       "0  ApplyEyeMakeup/v_ApplyEyeMakeup_g08_c01.avi 1\n",
       "1  ApplyEyeMakeup/v_ApplyEyeMakeup_g08_c02.avi 1\n",
       "2  ApplyEyeMakeup/v_ApplyEyeMakeup_g08_c03.avi 1\n",
       "3  ApplyEyeMakeup/v_ApplyEyeMakeup_g08_c04.avi 1\n",
       "4  ApplyEyeMakeup/v_ApplyEyeMakeup_g08_c05.avi 1"
      ]
     },
     "execution_count": 2,
     "metadata": {},
     "output_type": "execute_result"
    }
   ],
   "source": [
    "# open the .txt file which have names of training videos\n",
    "f = open(\"trainlist01.txt\", \"r\")\n",
    "temp = f.read()\n",
    "videos = temp.split('\\n')\n",
    "\n",
    "# creating a dataframe having video names\n",
    "train = pd.DataFrame()\n",
    "train['video_name'] = videos\n",
    "train = train[:-1]\n",
    "train.head()"
   ]
  },
  {
   "cell_type": "markdown",
   "metadata": {},
   "source": [
    "### Get the tagnames from folder names"
   ]
  },
  {
   "cell_type": "code",
   "execution_count": 3,
   "metadata": {},
   "outputs": [
    {
     "data": {
      "text/html": [
       "<div>\n",
       "<style scoped>\n",
       "    .dataframe tbody tr th:only-of-type {\n",
       "        vertical-align: middle;\n",
       "    }\n",
       "\n",
       "    .dataframe tbody tr th {\n",
       "        vertical-align: top;\n",
       "    }\n",
       "\n",
       "    .dataframe thead th {\n",
       "        text-align: right;\n",
       "    }\n",
       "</style>\n",
       "<table border=\"1\" class=\"dataframe\">\n",
       "  <thead>\n",
       "    <tr style=\"text-align: right;\">\n",
       "      <th></th>\n",
       "      <th>video_name</th>\n",
       "      <th>tag</th>\n",
       "    </tr>\n",
       "  </thead>\n",
       "  <tbody>\n",
       "    <tr>\n",
       "      <th>0</th>\n",
       "      <td>ApplyEyeMakeup/v_ApplyEyeMakeup_g08_c01.avi 1</td>\n",
       "      <td>ApplyEyeMakeup</td>\n",
       "    </tr>\n",
       "    <tr>\n",
       "      <th>1</th>\n",
       "      <td>ApplyEyeMakeup/v_ApplyEyeMakeup_g08_c02.avi 1</td>\n",
       "      <td>ApplyEyeMakeup</td>\n",
       "    </tr>\n",
       "    <tr>\n",
       "      <th>2</th>\n",
       "      <td>ApplyEyeMakeup/v_ApplyEyeMakeup_g08_c03.avi 1</td>\n",
       "      <td>ApplyEyeMakeup</td>\n",
       "    </tr>\n",
       "    <tr>\n",
       "      <th>3</th>\n",
       "      <td>ApplyEyeMakeup/v_ApplyEyeMakeup_g08_c04.avi 1</td>\n",
       "      <td>ApplyEyeMakeup</td>\n",
       "    </tr>\n",
       "    <tr>\n",
       "      <th>4</th>\n",
       "      <td>ApplyEyeMakeup/v_ApplyEyeMakeup_g08_c05.avi 1</td>\n",
       "      <td>ApplyEyeMakeup</td>\n",
       "    </tr>\n",
       "  </tbody>\n",
       "</table>\n",
       "</div>"
      ],
      "text/plain": [
       "                                      video_name             tag\n",
       "0  ApplyEyeMakeup/v_ApplyEyeMakeup_g08_c01.avi 1  ApplyEyeMakeup\n",
       "1  ApplyEyeMakeup/v_ApplyEyeMakeup_g08_c02.avi 1  ApplyEyeMakeup\n",
       "2  ApplyEyeMakeup/v_ApplyEyeMakeup_g08_c03.avi 1  ApplyEyeMakeup\n",
       "3  ApplyEyeMakeup/v_ApplyEyeMakeup_g08_c04.avi 1  ApplyEyeMakeup\n",
       "4  ApplyEyeMakeup/v_ApplyEyeMakeup_g08_c05.avi 1  ApplyEyeMakeup"
      ]
     },
     "execution_count": 3,
     "metadata": {},
     "output_type": "execute_result"
    }
   ],
   "source": [
    "train_video_tag = []\n",
    "for i in range(train.shape[0]):\n",
    "    train_video_tag.append(train['video_name'][i].split('/')[0])\n",
    "\n",
    "train['tag'] = train_video_tag\n",
    "train.head()"
   ]
  },
  {
   "cell_type": "markdown",
   "metadata": {},
   "source": [
    "### Create test data frame and corresponding tags"
   ]
  },
  {
   "cell_type": "code",
   "execution_count": 4,
   "metadata": {},
   "outputs": [
    {
     "data": {
      "text/html": [
       "<div>\n",
       "<style scoped>\n",
       "    .dataframe tbody tr th:only-of-type {\n",
       "        vertical-align: middle;\n",
       "    }\n",
       "\n",
       "    .dataframe tbody tr th {\n",
       "        vertical-align: top;\n",
       "    }\n",
       "\n",
       "    .dataframe thead th {\n",
       "        text-align: right;\n",
       "    }\n",
       "</style>\n",
       "<table border=\"1\" class=\"dataframe\">\n",
       "  <thead>\n",
       "    <tr style=\"text-align: right;\">\n",
       "      <th></th>\n",
       "      <th>video_name</th>\n",
       "      <th>tag</th>\n",
       "    </tr>\n",
       "  </thead>\n",
       "  <tbody>\n",
       "    <tr>\n",
       "      <th>0</th>\n",
       "      <td>ApplyEyeMakeup/v_ApplyEyeMakeup_g01_c01.avi</td>\n",
       "      <td>ApplyEyeMakeup</td>\n",
       "    </tr>\n",
       "    <tr>\n",
       "      <th>1</th>\n",
       "      <td>ApplyEyeMakeup/v_ApplyEyeMakeup_g01_c02.avi</td>\n",
       "      <td>ApplyEyeMakeup</td>\n",
       "    </tr>\n",
       "    <tr>\n",
       "      <th>2</th>\n",
       "      <td>ApplyEyeMakeup/v_ApplyEyeMakeup_g01_c03.avi</td>\n",
       "      <td>ApplyEyeMakeup</td>\n",
       "    </tr>\n",
       "    <tr>\n",
       "      <th>3</th>\n",
       "      <td>ApplyEyeMakeup/v_ApplyEyeMakeup_g01_c04.avi</td>\n",
       "      <td>ApplyEyeMakeup</td>\n",
       "    </tr>\n",
       "    <tr>\n",
       "      <th>4</th>\n",
       "      <td>ApplyEyeMakeup/v_ApplyEyeMakeup_g01_c05.avi</td>\n",
       "      <td>ApplyEyeMakeup</td>\n",
       "    </tr>\n",
       "  </tbody>\n",
       "</table>\n",
       "</div>"
      ],
      "text/plain": [
       "                                    video_name             tag\n",
       "0  ApplyEyeMakeup/v_ApplyEyeMakeup_g01_c01.avi  ApplyEyeMakeup\n",
       "1  ApplyEyeMakeup/v_ApplyEyeMakeup_g01_c02.avi  ApplyEyeMakeup\n",
       "2  ApplyEyeMakeup/v_ApplyEyeMakeup_g01_c03.avi  ApplyEyeMakeup\n",
       "3  ApplyEyeMakeup/v_ApplyEyeMakeup_g01_c04.avi  ApplyEyeMakeup\n",
       "4  ApplyEyeMakeup/v_ApplyEyeMakeup_g01_c05.avi  ApplyEyeMakeup"
      ]
     },
     "execution_count": 4,
     "metadata": {},
     "output_type": "execute_result"
    }
   ],
   "source": [
    "# open the .txt file which have names of test videos\n",
    "f = open(\"testlist01.txt\", \"r\")\n",
    "temp = f.read()\n",
    "videos = temp.split('\\n')\n",
    "\n",
    "# creating a dataframe having video names\n",
    "test = pd.DataFrame()\n",
    "test['video_name'] = videos\n",
    "test = test[:-1]\n",
    "\n",
    "# creating tags for test videos\n",
    "test_video_tag = []\n",
    "for i in range(test.shape[0]):\n",
    "    test_video_tag.append(test['video_name'][i].split('/')[0])\n",
    "    \n",
    "test['tag'] = test_video_tag\n",
    "test.head()"
   ]
  },
  {
   "cell_type": "markdown",
   "metadata": {},
   "source": [
    "## Create a new folder 'train_1' to contain extracted frames\n",
    "use `cap.get( )` from `cv2` to get certain properties of the video capture"
   ]
  },
  {
   "cell_type": "code",
   "execution_count": 5,
   "metadata": {},
   "outputs": [
    {
     "name": "stderr",
     "output_type": "stream",
     "text": [
      "  0%|          | 1/9537 [00:00<1:13:43,  2.16it/s]"
     ]
    },
    {
     "name": "stdout",
     "output_type": "stream",
     "text": [
      "The video is taking at 25.0 frames per second\n",
      "The video is taking at 25.0 frames per second\n",
      "The video is taking at 25.0 frames per second\n"
     ]
    },
    {
     "name": "stderr",
     "output_type": "stream",
     "text": [
      "  0%|          | 7/9537 [00:00<39:22,  4.03it/s]  "
     ]
    },
    {
     "name": "stdout",
     "output_type": "stream",
     "text": [
      "The video is taking at 25.0 frames per second\n",
      "The video is taking at 25.0 frames per second\n",
      "The video is taking at 25.0 frames per second\n",
      "The video is taking at 25.0 frames per second\n",
      "The video is taking at 25.0 frames per second\n"
     ]
    },
    {
     "name": "stderr",
     "output_type": "stream",
     "text": [
      "  0%|          | 13/9537 [00:00<22:20,  7.11it/s]"
     ]
    },
    {
     "name": "stdout",
     "output_type": "stream",
     "text": [
      "The video is taking at 25.0 frames per second\n",
      "The video is taking at 25.0 frames per second\n",
      "The video is taking at 25.0 frames per second\n",
      "The video is taking at 25.0 frames per second\n",
      "The video is taking at 25.0 frames per second\n",
      "The video is taking at 25.0 frames per second\n"
     ]
    },
    {
     "name": "stderr",
     "output_type": "stream",
     "text": [
      "\r",
      "  0%|          | 18/9537 [00:01<16:42,  9.50it/s]"
     ]
    },
    {
     "name": "stdout",
     "output_type": "stream",
     "text": [
      "The video is taking at 25.0 frames per second\n",
      "The video is taking at 25.0 frames per second\n",
      "The video is taking at 25.0 frames per second\n",
      "The video is taking at 25.0 frames per second\n",
      "The video is taking at 25.0 frames per second\n",
      "The video is taking at 25.0 frames per second\n",
      "The video is taking at 25.0 frames per second\n",
      "The video is taking at 25.0 frames per second\n"
     ]
    },
    {
     "name": "stderr",
     "output_type": "stream",
     "text": [
      "  0%|          | 26/9537 [00:01<10:43, 14.77it/s]"
     ]
    },
    {
     "name": "stdout",
     "output_type": "stream",
     "text": [
      "The video is taking at 25.0 frames per second\n",
      "The video is taking at 25.0 frames per second\n",
      "The video is taking at 25.0 frames per second\n",
      "The video is taking at 25.0 frames per second\n",
      "The video is taking at 25.0 frames per second\n",
      "The video is taking at 25.0 frames per second\n",
      "The video is taking at 25.0 frames per second\n"
     ]
    },
    {
     "name": "stderr",
     "output_type": "stream",
     "text": [
      "  0%|          | 34/9537 [00:01<07:28, 21.20it/s]"
     ]
    },
    {
     "name": "stdout",
     "output_type": "stream",
     "text": [
      "The video is taking at 25.0 frames per second\n",
      "The video is taking at 25.0 frames per second\n",
      "The video is taking at 25.0 frames per second\n",
      "The video is taking at 25.0 frames per second\n",
      "The video is taking at 25.0 frames per second\n",
      "The video is taking at 25.0 frames per second\n",
      "The video is taking at 25.0 frames per second\n",
      "The video is taking at 25.0 frames per second\n"
     ]
    },
    {
     "name": "stderr",
     "output_type": "stream",
     "text": [
      "  0%|          | 42/9537 [00:01<06:23, 24.74it/s]"
     ]
    },
    {
     "name": "stdout",
     "output_type": "stream",
     "text": [
      "The video is taking at 25.0 frames per second\n",
      "The video is taking at 25.0 frames per second\n",
      "The video is taking at 25.0 frames per second\n",
      "The video is taking at 25.0 frames per second\n",
      "The video is taking at 25.0 frames per second\n",
      "The video is taking at 25.0 frames per second\n",
      "The video is taking at 25.0 frames per second\n"
     ]
    },
    {
     "name": "stderr",
     "output_type": "stream",
     "text": [
      "  1%|          | 50/9537 [00:02<05:43, 27.65it/s]"
     ]
    },
    {
     "name": "stdout",
     "output_type": "stream",
     "text": [
      "The video is taking at 25.0 frames per second\n",
      "The video is taking at 25.0 frames per second\n",
      "The video is taking at 25.0 frames per second\n",
      "The video is taking at 25.0 frames per second\n",
      "The video is taking at 25.0 frames per second\n",
      "The video is taking at 25.0 frames per second\n",
      "The video is taking at 25.0 frames per second\n"
     ]
    },
    {
     "name": "stderr",
     "output_type": "stream",
     "text": [
      "  1%|          | 58/9537 [00:02<05:11, 30.40it/s]"
     ]
    },
    {
     "name": "stdout",
     "output_type": "stream",
     "text": [
      "The video is taking at 25.0 frames per second\n",
      "The video is taking at 25.0 frames per second\n",
      "The video is taking at 25.0 frames per second\n",
      "The video is taking at 25.0 frames per second\n",
      "The video is taking at 25.0 frames per second\n",
      "The video is taking at 25.0 frames per second\n",
      "The video is taking at 25.0 frames per second\n"
     ]
    },
    {
     "name": "stderr",
     "output_type": "stream",
     "text": [
      "\r",
      "  1%|          | 62/9537 [00:02<05:19, 29.66it/s]"
     ]
    },
    {
     "name": "stdout",
     "output_type": "stream",
     "text": [
      "The video is taking at 25.0 frames per second\n",
      "The video is taking at 25.0 frames per second\n",
      "The video is taking at 25.0 frames per second\n",
      "The video is taking at 25.0 frames per second\n",
      "The video is taking at 25.0 frames per second\n",
      "The video is taking at 25.0 frames per second\n"
     ]
    },
    {
     "name": "stderr",
     "output_type": "stream",
     "text": [
      "  1%|          | 70/9537 [00:02<05:09, 30.56it/s]"
     ]
    },
    {
     "name": "stdout",
     "output_type": "stream",
     "text": [
      "The video is taking at 25.0 frames per second\n",
      "The video is taking at 25.0 frames per second\n",
      "The video is taking at 25.0 frames per second\n",
      "The video is taking at 25.0 frames per second\n",
      "The video is taking at 25.0 frames per second\n",
      "The video is taking at 25.0 frames per second\n",
      "The video is taking at 25.0 frames per second\n"
     ]
    },
    {
     "name": "stderr",
     "output_type": "stream",
     "text": [
      "\r",
      "  1%|          | 74/9537 [00:02<05:14, 30.08it/s]"
     ]
    },
    {
     "name": "stdout",
     "output_type": "stream",
     "text": [
      "The video is taking at 25.0 frames per second\n",
      "The video is taking at 25.0 frames per second\n",
      "The video is taking at 25.0 frames per second\n",
      "The video is taking at 25.0 frames per second\n",
      "The video is taking at 25.0 frames per second\n",
      "The video is taking at 25.0 frames per second\n"
     ]
    },
    {
     "name": "stderr",
     "output_type": "stream",
     "text": [
      "  1%|          | 81/9537 [00:03<05:36, 28.06it/s]"
     ]
    },
    {
     "name": "stdout",
     "output_type": "stream",
     "text": [
      "The video is taking at 25.0 frames per second\n",
      "The video is taking at 25.0 frames per second\n",
      "The video is taking at 25.0 frames per second\n",
      "The video is taking at 25.0 frames per second\n",
      "The video is taking at 25.0 frames per second\n",
      "The video is taking at 25.0 frames per second\n"
     ]
    },
    {
     "name": "stderr",
     "output_type": "stream",
     "text": [
      "  1%|          | 88/9537 [00:03<05:28, 28.78it/s]"
     ]
    },
    {
     "name": "stdout",
     "output_type": "stream",
     "text": [
      "The video is taking at 25.0 frames per second\n",
      "The video is taking at 25.0 frames per second\n",
      "The video is taking at 25.0 frames per second\n",
      "The video is taking at 25.0 frames per second\n",
      "The video is taking at 25.0 frames per second\n",
      "The video is taking at 25.0 frames per second\n",
      "The video is taking at 25.0 frames per second\n"
     ]
    },
    {
     "name": "stderr",
     "output_type": "stream",
     "text": [
      "\r",
      "  1%|          | 92/9537 [00:03<05:07, 30.75it/s]"
     ]
    },
    {
     "name": "stdout",
     "output_type": "stream",
     "text": [
      "The video is taking at 25.0 frames per second\n",
      "The video is taking at 25.0 frames per second\n",
      "The video is taking at 25.0 frames per second\n",
      "The video is taking at 25.0 frames per second\n",
      "The video is taking at 25.0 frames per second\n",
      "The video is taking at 25.0 frames per second\n"
     ]
    },
    {
     "name": "stderr",
     "output_type": "stream",
     "text": [
      "  1%|          | 101/9537 [00:03<04:55, 31.90it/s]"
     ]
    },
    {
     "name": "stdout",
     "output_type": "stream",
     "text": [
      "The video is taking at 25.0 frames per second\n",
      "The video is taking at 25.0 frames per second\n",
      "The video is taking at 25.0 frames per second\n",
      "The video is taking at 25.0 frames per second\n",
      "The video is taking at 25.0 frames per second\n",
      "The video is taking at 25.0 frames per second\n",
      "The video is taking at 25.0 frames per second\n"
     ]
    },
    {
     "name": "stderr",
     "output_type": "stream",
     "text": [
      "\r",
      "  1%|          | 105/9537 [00:03<05:55, 26.54it/s]"
     ]
    },
    {
     "name": "stdout",
     "output_type": "stream",
     "text": [
      "The video is taking at 25.0 frames per second\n",
      "The video is taking at 25.0 frames per second\n",
      "The video is taking at 25.0 frames per second\n",
      "The video is taking at 25.0 frames per second\n",
      "The video is taking at 25.0 frames per second\n"
     ]
    },
    {
     "name": "stderr",
     "output_type": "stream",
     "text": [
      "  1%|          | 112/9537 [00:04<05:22, 29.21it/s]"
     ]
    },
    {
     "name": "stdout",
     "output_type": "stream",
     "text": [
      "The video is taking at 25.0 frames per second\n",
      "The video is taking at 25.0 frames per second\n",
      "The video is taking at 25.0 frames per second\n",
      "The video is taking at 25.0 frames per second\n",
      "The video is taking at 25.0 frames per second\n",
      "The video is taking at 25.0 frames per second\n",
      "The video is taking at 25.0 frames per second\n"
     ]
    },
    {
     "name": "stderr",
     "output_type": "stream",
     "text": [
      "  1%|▏         | 120/9537 [00:04<05:05, 30.87it/s]"
     ]
    },
    {
     "name": "stdout",
     "output_type": "stream",
     "text": [
      "The video is taking at 25.0 frames per second\n",
      "The video is taking at 25.0 frames per second\n",
      "The video is taking at 25.0 frames per second\n",
      "The video is taking at 25.0 frames per second\n",
      "The video is taking at 25.0 frames per second\n",
      "The video is taking at 25.0 frames per second\n",
      "The video is taking at 25.0 frames per second\n"
     ]
    },
    {
     "name": "stderr",
     "output_type": "stream",
     "text": [
      "\r",
      "  1%|▏         | 124/9537 [00:04<05:15, 29.87it/s]"
     ]
    },
    {
     "name": "stdout",
     "output_type": "stream",
     "text": [
      "The video is taking at 25.0 frames per second\n",
      "The video is taking at 25.0 frames per second\n",
      "The video is taking at 25.0 frames per second\n",
      "The video is taking at 25.0 frames per second\n",
      "The video is taking at 25.0 frames per second\n",
      "The video is taking at 25.0 frames per second\n"
     ]
    },
    {
     "name": "stderr",
     "output_type": "stream",
     "text": [
      "  1%|▏         | 132/9537 [00:04<05:14, 29.91it/s]"
     ]
    },
    {
     "name": "stdout",
     "output_type": "stream",
     "text": [
      "The video is taking at 25.0 frames per second\n",
      "The video is taking at 25.0 frames per second\n",
      "The video is taking at 25.0 frames per second\n",
      "The video is taking at 25.0 frames per second\n",
      "The video is taking at 25.0 frames per second\n",
      "The video is taking at 25.0 frames per second\n",
      "The video is taking at 25.0 frames per second\n"
     ]
    },
    {
     "name": "stderr",
     "output_type": "stream",
     "text": [
      "  1%|▏         | 140/9537 [00:05<04:51, 32.23it/s]"
     ]
    },
    {
     "name": "stdout",
     "output_type": "stream",
     "text": [
      "The video is taking at 25.0 frames per second\n",
      "The video is taking at 25.0 frames per second\n",
      "The video is taking at 25.0 frames per second\n",
      "The video is taking at 25.0 frames per second\n",
      "The video is taking at 25.0 frames per second\n",
      "The video is taking at 25.0 frames per second\n",
      "The video is taking at 25.0 frames per second\n",
      "The video is taking at 25.0 frames per second\n"
     ]
    },
    {
     "name": "stderr",
     "output_type": "stream",
     "text": [
      "  2%|▏         | 148/9537 [00:05<04:38, 33.75it/s]"
     ]
    },
    {
     "name": "stdout",
     "output_type": "stream",
     "text": [
      "The video is taking at 25.0 frames per second\n",
      "The video is taking at 25.0 frames per second\n",
      "The video is taking at 25.0 frames per second\n",
      "The video is taking at 25.0 frames per second\n",
      "The video is taking at 25.0 frames per second\n",
      "The video is taking at 25.0 frames per second\n",
      "The video is taking at 25.0 frames per second\n"
     ]
    },
    {
     "name": "stderr",
     "output_type": "stream",
     "text": [
      "  2%|▏         | 156/9537 [00:05<04:41, 33.33it/s]"
     ]
    },
    {
     "name": "stdout",
     "output_type": "stream",
     "text": [
      "The video is taking at 25.0 frames per second\n",
      "The video is taking at 25.0 frames per second\n",
      "The video is taking at 25.0 frames per second\n",
      "The video is taking at 25.0 frames per second\n",
      "The video is taking at 25.0 frames per second\n",
      "The video is taking at 25.0 frames per second\n",
      "The video is taking at 25.0 frames per second\n"
     ]
    },
    {
     "name": "stderr",
     "output_type": "stream",
     "text": [
      "  2%|▏         | 165/9537 [00:05<04:21, 35.89it/s]"
     ]
    },
    {
     "name": "stdout",
     "output_type": "stream",
     "text": [
      "The video is taking at 25.0 frames per second\n",
      "The video is taking at 25.0 frames per second\n",
      "The video is taking at 25.0 frames per second\n",
      "The video is taking at 25.0 frames per second\n",
      "The video is taking at 25.0 frames per second\n",
      "The video is taking at 25.0 frames per second\n",
      "The video is taking at 25.0 frames per second\n",
      "The video is taking at 25.0 frames per second\n",
      "The video is taking at 25.0 frames per second\n"
     ]
    },
    {
     "name": "stderr",
     "output_type": "stream",
     "text": [
      "\r",
      "  2%|▏         | 169/9537 [00:05<04:32, 34.33it/s]"
     ]
    },
    {
     "name": "stdout",
     "output_type": "stream",
     "text": [
      "The video is taking at 25.0 frames per second\n",
      "The video is taking at 25.0 frames per second\n",
      "The video is taking at 25.0 frames per second\n",
      "The video is taking at 25.0 frames per second\n",
      "The video is taking at 25.0 frames per second\n",
      "The video is taking at 25.0 frames per second\n",
      "The video is taking at 25.0 frames per second\n",
      "The video is taking at 25.0 frames per second\n"
     ]
    },
    {
     "name": "stderr",
     "output_type": "stream",
     "text": [
      "  2%|▏         | 178/9537 [00:06<04:24, 35.43it/s]"
     ]
    },
    {
     "name": "stdout",
     "output_type": "stream",
     "text": [
      "The video is taking at 25.0 frames per second\n",
      "The video is taking at 25.0 frames per second\n",
      "The video is taking at 25.0 frames per second\n",
      "The video is taking at 25.0 frames per second\n",
      "The video is taking at 25.0 frames per second\n",
      "The video is taking at 25.0 frames per second\n",
      "The video is taking at 25.0 frames per second\n"
     ]
    },
    {
     "name": "stderr",
     "output_type": "stream",
     "text": [
      "\r",
      "  2%|▏         | 182/9537 [00:06<04:44, 32.89it/s]"
     ]
    },
    {
     "name": "stdout",
     "output_type": "stream",
     "text": [
      "The video is taking at 25.0 frames per second\n",
      "The video is taking at 25.0 frames per second\n",
      "The video is taking at 25.0 frames per second\n",
      "The video is taking at 25.0 frames per second\n",
      "The video is taking at 25.0 frames per second\n"
     ]
    },
    {
     "name": "stderr",
     "output_type": "stream",
     "text": [
      "  2%|▏         | 190/9537 [00:06<05:32, 28.12it/s]"
     ]
    },
    {
     "name": "stdout",
     "output_type": "stream",
     "text": [
      "The video is taking at 25.0 frames per second\n",
      "The video is taking at 25.0 frames per second\n",
      "The video is taking at 25.0 frames per second\n",
      "The video is taking at 25.0 frames per second\n",
      "The video is taking at 25.0 frames per second\n",
      "The video is taking at 25.0 frames per second\n",
      "The video is taking at 25.0 frames per second\n"
     ]
    },
    {
     "name": "stderr",
     "output_type": "stream",
     "text": [
      "  2%|▏         | 199/9537 [00:06<04:56, 31.46it/s]"
     ]
    },
    {
     "name": "stdout",
     "output_type": "stream",
     "text": [
      "The video is taking at 25.0 frames per second\n",
      "The video is taking at 25.0 frames per second\n",
      "The video is taking at 25.0 frames per second\n",
      "The video is taking at 25.0 frames per second\n",
      "The video is taking at 25.0 frames per second\n",
      "The video is taking at 25.0 frames per second\n",
      "The video is taking at 25.0 frames per second\n"
     ]
    },
    {
     "name": "stderr",
     "output_type": "stream",
     "text": [
      "\r",
      "  2%|▏         | 203/9537 [00:06<05:01, 30.97it/s]"
     ]
    },
    {
     "name": "stdout",
     "output_type": "stream",
     "text": [
      "The video is taking at 25.0 frames per second\n",
      "The video is taking at 25.0 frames per second\n",
      "The video is taking at 25.0 frames per second\n",
      "The video is taking at 25.0 frames per second\n",
      "The video is taking at 25.0 frames per second\n"
     ]
    },
    {
     "name": "stderr",
     "output_type": "stream",
     "text": [
      "\r",
      "  2%|▏         | 207/9537 [00:07<05:58, 26.05it/s]"
     ]
    },
    {
     "name": "stdout",
     "output_type": "stream",
     "text": [
      "The video is taking at 25.0 frames per second\n",
      "The video is taking at 25.0 frames per second\n",
      "The video is taking at 25.0 frames per second\n",
      "The video is taking at 25.0 frames per second\n",
      "The video is taking at 25.0 frames per second\n"
     ]
    },
    {
     "name": "stderr",
     "output_type": "stream",
     "text": [
      "  2%|▏         | 213/9537 [00:07<07:11, 21.60it/s]"
     ]
    },
    {
     "name": "stdout",
     "output_type": "stream",
     "text": [
      "The video is taking at 25.0 frames per second\n",
      "The video is taking at 25.0 frames per second\n",
      "The video is taking at 25.0 frames per second\n",
      "The video is taking at 25.0 frames per second\n",
      "The video is taking at 25.0 frames per second\n"
     ]
    },
    {
     "name": "stderr",
     "output_type": "stream",
     "text": [
      "  2%|▏         | 220/9537 [00:07<06:04, 25.59it/s]"
     ]
    },
    {
     "name": "stdout",
     "output_type": "stream",
     "text": [
      "The video is taking at 25.0 frames per second\n",
      "The video is taking at 25.0 frames per second\n",
      "The video is taking at 25.0 frames per second\n",
      "The video is taking at 25.0 frames per second\n",
      "The video is taking at 25.0 frames per second\n",
      "The video is taking at 25.0 frames per second\n"
     ]
    },
    {
     "name": "stderr",
     "output_type": "stream",
     "text": [
      "  2%|▏         | 226/9537 [00:07<05:45, 26.94it/s]"
     ]
    },
    {
     "name": "stdout",
     "output_type": "stream",
     "text": [
      "The video is taking at 25.0 frames per second\n",
      "The video is taking at 25.0 frames per second\n",
      "The video is taking at 25.0 frames per second\n",
      "The video is taking at 25.0 frames per second\n",
      "The video is taking at 25.0 frames per second\n",
      "The video is taking at 25.0 frames per second\n"
     ]
    },
    {
     "name": "stderr",
     "output_type": "stream",
     "text": [
      "  2%|▏         | 232/9537 [00:08<05:43, 27.12it/s]"
     ]
    },
    {
     "name": "stdout",
     "output_type": "stream",
     "text": [
      "The video is taking at 25.0 frames per second\n",
      "The video is taking at 25.0 frames per second\n",
      "The video is taking at 25.0 frames per second\n",
      "The video is taking at 25.0 frames per second\n",
      "The video is taking at 25.0 frames per second\n",
      "The video is taking at 25.0 frames per second\n"
     ]
    },
    {
     "name": "stderr",
     "output_type": "stream",
     "text": [
      "\r",
      "  2%|▏         | 235/9537 [00:08<06:00, 25.82it/s]"
     ]
    },
    {
     "name": "stdout",
     "output_type": "stream",
     "text": [
      "The video is taking at 25.0 frames per second\n",
      "The video is taking at 25.0 frames per second\n",
      "The video is taking at 25.0 frames per second\n",
      "The video is taking at 25.0 frames per second\n",
      "The video is taking at 25.0 frames per second\n"
     ]
    },
    {
     "name": "stderr",
     "output_type": "stream",
     "text": [
      "  3%|▎         | 242/9537 [00:08<06:07, 25.30it/s]"
     ]
    },
    {
     "name": "stdout",
     "output_type": "stream",
     "text": [
      "The video is taking at 25.0 frames per second\n",
      "The video is taking at 25.0 frames per second\n",
      "The video is taking at 25.0 frames per second\n",
      "The video is taking at 25.0 frames per second\n",
      "The video is taking at 25.0 frames per second\n",
      "The video is taking at 25.0 frames per second\n"
     ]
    },
    {
     "name": "stderr",
     "output_type": "stream",
     "text": [
      "  3%|▎         | 249/9537 [00:08<05:37, 27.49it/s]"
     ]
    },
    {
     "name": "stdout",
     "output_type": "stream",
     "text": [
      "The video is taking at 25.0 frames per second\n",
      "The video is taking at 25.0 frames per second\n",
      "The video is taking at 25.0 frames per second\n",
      "The video is taking at 25.0 frames per second\n",
      "The video is taking at 25.0 frames per second\n",
      "The video is taking at 25.0 frames per second\n",
      "The video is taking at 25.0 frames per second\n"
     ]
    },
    {
     "name": "stderr",
     "output_type": "stream",
     "text": [
      "  3%|▎         | 258/9537 [00:08<04:34, 33.75it/s]"
     ]
    },
    {
     "name": "stdout",
     "output_type": "stream",
     "text": [
      "The video is taking at 25.0 frames per second\n",
      "The video is taking at 25.0 frames per second\n",
      "The video is taking at 25.0 frames per second\n",
      "The video is taking at 25.0 frames per second\n",
      "The video is taking at 25.0 frames per second\n",
      "The video is taking at 25.0 frames per second\n",
      "The video is taking at 25.0 frames per second\n",
      "The video is taking at 25.0 frames per second\n",
      "The video is taking at 25.0 frames per second\n"
     ]
    },
    {
     "name": "stderr",
     "output_type": "stream",
     "text": [
      "\r",
      "  3%|▎         | 262/9537 [00:09<05:19, 29.00it/s]"
     ]
    },
    {
     "name": "stdout",
     "output_type": "stream",
     "text": [
      "The video is taking at 25.0 frames per second\n",
      "The video is taking at 25.0 frames per second\n",
      "The video is taking at 25.0 frames per second\n",
      "The video is taking at 25.0 frames per second\n",
      "The video is taking at 25.0 frames per second\n",
      "The video is taking at 25.0 frames per second\n",
      "The video is taking at 25.0 frames per second\n"
     ]
    },
    {
     "name": "stderr",
     "output_type": "stream",
     "text": [
      "  3%|▎         | 274/9537 [00:09<04:07, 37.46it/s]"
     ]
    },
    {
     "name": "stdout",
     "output_type": "stream",
     "text": [
      "The video is taking at 25.0 frames per second\n",
      "The video is taking at 25.0 frames per second\n",
      "The video is taking at 25.0 frames per second\n",
      "The video is taking at 25.0 frames per second\n",
      "The video is taking at 25.0 frames per second\n",
      "The video is taking at 25.0 frames per second\n",
      "The video is taking at 25.0 frames per second\n",
      "The video is taking at 25.0 frames per second\n",
      "The video is taking at 25.0 frames per second\n"
     ]
    },
    {
     "name": "stderr",
     "output_type": "stream",
     "text": [
      "\r",
      "  3%|▎         | 279/9537 [00:09<04:10, 36.91it/s]"
     ]
    },
    {
     "name": "stdout",
     "output_type": "stream",
     "text": [
      "The video is taking at 25.0 frames per second\n",
      "The video is taking at 25.0 frames per second\n",
      "The video is taking at 25.0 frames per second\n",
      "The video is taking at 25.0 frames per second\n",
      "The video is taking at 25.0 frames per second\n",
      "The video is taking at 25.0 frames per second\n",
      "The video is taking at 25.0 frames per second\n"
     ]
    },
    {
     "name": "stderr",
     "output_type": "stream",
     "text": [
      "\r",
      "  3%|▎         | 284/9537 [00:09<04:35, 33.64it/s]"
     ]
    },
    {
     "name": "stdout",
     "output_type": "stream",
     "text": [
      "The video is taking at 25.0 frames per second\n",
      "The video is taking at 25.0 frames per second\n",
      "The video is taking at 25.0 frames per second\n",
      "The video is taking at 25.0 frames per second\n",
      "The video is taking at 25.0 frames per second\n"
     ]
    },
    {
     "name": "stderr",
     "output_type": "stream",
     "text": [
      "  3%|▎         | 292/9537 [00:09<04:56, 31.16it/s]"
     ]
    },
    {
     "name": "stdout",
     "output_type": "stream",
     "text": [
      "The video is taking at 25.0 frames per second\n",
      "The video is taking at 25.0 frames per second\n",
      "The video is taking at 25.0 frames per second\n",
      "The video is taking at 25.0 frames per second\n",
      "The video is taking at 25.0 frames per second\n",
      "The video is taking at 25.0 frames per second\n",
      "The video is taking at 25.0 frames per second\n"
     ]
    },
    {
     "name": "stderr",
     "output_type": "stream",
     "text": [
      "  3%|▎         | 301/9537 [00:10<04:44, 32.52it/s]"
     ]
    },
    {
     "name": "stdout",
     "output_type": "stream",
     "text": [
      "The video is taking at 25.0 frames per second\n",
      "The video is taking at 25.0 frames per second\n",
      "The video is taking at 25.0 frames per second\n",
      "The video is taking at 25.0 frames per second\n",
      "The video is taking at 25.0 frames per second\n",
      "The video is taking at 25.0 frames per second\n",
      "The video is taking at 25.0 frames per second\n",
      "The video is taking at 25.0 frames per second\n"
     ]
    },
    {
     "name": "stderr",
     "output_type": "stream",
     "text": [
      "  3%|▎         | 309/9537 [00:10<04:26, 34.66it/s]"
     ]
    },
    {
     "name": "stdout",
     "output_type": "stream",
     "text": [
      "The video is taking at 25.0 frames per second\n",
      "The video is taking at 25.0 frames per second\n",
      "The video is taking at 25.0 frames per second\n",
      "The video is taking at 25.0 frames per second\n",
      "The video is taking at 25.0 frames per second\n",
      "The video is taking at 25.0 frames per second\n",
      "The video is taking at 25.0 frames per second\n",
      "The video is taking at 25.0 frames per second\n"
     ]
    },
    {
     "name": "stderr",
     "output_type": "stream",
     "text": [
      "\r",
      "  3%|▎         | 313/9537 [00:10<04:55, 31.23it/s]"
     ]
    },
    {
     "name": "stdout",
     "output_type": "stream",
     "text": [
      "The video is taking at 25.0 frames per second\n",
      "The video is taking at 25.0 frames per second\n",
      "The video is taking at 25.0 frames per second\n",
      "The video is taking at 25.0 frames per second\n",
      "The video is taking at 25.0 frames per second\n"
     ]
    },
    {
     "name": "stderr",
     "output_type": "stream",
     "text": [
      "  3%|▎         | 320/9537 [00:10<05:27, 28.13it/s]"
     ]
    },
    {
     "name": "stdout",
     "output_type": "stream",
     "text": [
      "The video is taking at 25.0 frames per second\n",
      "The video is taking at 25.0 frames per second\n",
      "The video is taking at 25.0 frames per second\n",
      "The video is taking at 25.0 frames per second\n",
      "The video is taking at 25.0 frames per second\n",
      "The video is taking at 25.0 frames per second\n"
     ]
    },
    {
     "name": "stderr",
     "output_type": "stream",
     "text": [
      "  3%|▎         | 326/9537 [00:11<06:15, 24.51it/s]"
     ]
    },
    {
     "name": "stdout",
     "output_type": "stream",
     "text": [
      "The video is taking at 25.0 frames per second\n",
      "The video is taking at 25.0 frames per second\n",
      "The video is taking at 25.0 frames per second\n",
      "The video is taking at 25.0 frames per second\n",
      "The video is taking at 25.0 frames per second\n"
     ]
    },
    {
     "name": "stderr",
     "output_type": "stream",
     "text": [
      "\r",
      "  3%|▎         | 329/9537 [00:11<06:31, 23.52it/s]"
     ]
    },
    {
     "name": "stdout",
     "output_type": "stream",
     "text": [
      "The video is taking at 25.0 frames per second\n",
      "The video is taking at 25.0 frames per second\n",
      "The video is taking at 25.0 frames per second\n",
      "The video is taking at 25.0 frames per second\n",
      "The video is taking at 25.0 frames per second\n"
     ]
    },
    {
     "name": "stderr",
     "output_type": "stream",
     "text": [
      "  4%|▎         | 335/9537 [00:11<07:09, 21.42it/s]"
     ]
    },
    {
     "name": "stdout",
     "output_type": "stream",
     "text": [
      "The video is taking at 25.0 frames per second\n",
      "The video is taking at 25.0 frames per second\n",
      "The video is taking at 25.0 frames per second\n",
      "The video is taking at 25.0 frames per second\n",
      "The video is taking at 25.0 frames per second\n",
      "The video is taking at 25.0 frames per second\n"
     ]
    },
    {
     "name": "stderr",
     "output_type": "stream",
     "text": [
      "  4%|▎         | 342/9537 [00:11<06:30, 23.56it/s]"
     ]
    },
    {
     "name": "stdout",
     "output_type": "stream",
     "text": [
      "The video is taking at 25.0 frames per second\n",
      "The video is taking at 25.0 frames per second\n",
      "The video is taking at 25.0 frames per second\n",
      "The video is taking at 25.0 frames per second\n",
      "The video is taking at 25.0 frames per second\n"
     ]
    },
    {
     "name": "stderr",
     "output_type": "stream",
     "text": [
      "  4%|▎         | 349/9537 [00:12<05:56, 25.76it/s]"
     ]
    },
    {
     "name": "stdout",
     "output_type": "stream",
     "text": [
      "The video is taking at 25.0 frames per second\n",
      "The video is taking at 25.0 frames per second\n",
      "The video is taking at 25.0 frames per second\n",
      "The video is taking at 25.0 frames per second\n",
      "The video is taking at 25.0 frames per second\n",
      "The video is taking at 25.0 frames per second\n"
     ]
    },
    {
     "name": "stderr",
     "output_type": "stream",
     "text": [
      "\r",
      "  4%|▎         | 352/9537 [00:12<06:35, 23.24it/s]"
     ]
    },
    {
     "name": "stdout",
     "output_type": "stream",
     "text": [
      "The video is taking at 25.0 frames per second\n",
      "The video is taking at 25.0 frames per second\n",
      "The video is taking at 25.0 frames per second\n",
      "The video is taking at 25.0 frames per second\n"
     ]
    },
    {
     "name": "stderr",
     "output_type": "stream",
     "text": [
      "\r",
      "  4%|▎         | 355/9537 [00:12<06:30, 23.49it/s]"
     ]
    },
    {
     "name": "stdout",
     "output_type": "stream",
     "text": [
      "The video is taking at 25.0 frames per second\n",
      "The video is taking at 25.0 frames per second\n",
      "The video is taking at 25.0 frames per second\n",
      "The video is taking at 25.0 frames per second\n",
      "The video is taking at 25.0 frames per second\n"
     ]
    },
    {
     "name": "stderr",
     "output_type": "stream",
     "text": [
      "  4%|▍         | 361/9537 [00:12<06:21, 24.06it/s]"
     ]
    },
    {
     "name": "stdout",
     "output_type": "stream",
     "text": [
      "The video is taking at 25.0 frames per second\n",
      "The video is taking at 25.0 frames per second\n",
      "The video is taking at 25.0 frames per second\n",
      "The video is taking at 25.0 frames per second\n",
      "The video is taking at 25.0 frames per second\n"
     ]
    },
    {
     "name": "stderr",
     "output_type": "stream",
     "text": [
      "  4%|▍         | 368/9537 [00:12<05:57, 25.68it/s]"
     ]
    },
    {
     "name": "stdout",
     "output_type": "stream",
     "text": [
      "The video is taking at 25.0 frames per second\n",
      "The video is taking at 25.0 frames per second\n",
      "The video is taking at 25.0 frames per second\n",
      "The video is taking at 25.0 frames per second\n",
      "The video is taking at 25.0 frames per second\n",
      "The video is taking at 25.0 frames per second\n",
      "The video is taking at 25.0 frames per second\n"
     ]
    },
    {
     "name": "stderr",
     "output_type": "stream",
     "text": [
      "  4%|▍         | 376/9537 [00:13<05:16, 28.96it/s]"
     ]
    },
    {
     "name": "stdout",
     "output_type": "stream",
     "text": [
      "The video is taking at 25.0 frames per second\n",
      "The video is taking at 25.0 frames per second\n",
      "The video is taking at 25.0 frames per second\n",
      "The video is taking at 25.0 frames per second\n",
      "The video is taking at 25.0 frames per second\n",
      "The video is taking at 25.0 frames per second\n",
      "The video is taking at 25.0 frames per second\n"
     ]
    },
    {
     "name": "stderr",
     "output_type": "stream",
     "text": [
      "\r",
      "  4%|▍         | 379/9537 [00:13<05:49, 26.22it/s]"
     ]
    },
    {
     "name": "stdout",
     "output_type": "stream",
     "text": [
      "The video is taking at 25.0 frames per second\n",
      "The video is taking at 25.0 frames per second\n",
      "The video is taking at 25.0 frames per second\n",
      "The video is taking at 25.0 frames per second\n",
      "The video is taking at 25.0 frames per second\n"
     ]
    },
    {
     "name": "stderr",
     "output_type": "stream",
     "text": [
      "  4%|▍         | 385/9537 [00:13<06:19, 24.12it/s]"
     ]
    },
    {
     "name": "stdout",
     "output_type": "stream",
     "text": [
      "The video is taking at 25.0 frames per second\n",
      "The video is taking at 25.0 frames per second\n",
      "The video is taking at 25.0 frames per second\n",
      "The video is taking at 25.0 frames per second\n",
      "The video is taking at 25.0 frames per second\n"
     ]
    },
    {
     "name": "stderr",
     "output_type": "stream",
     "text": [
      "  4%|▍         | 393/9537 [00:13<05:20, 28.53it/s]"
     ]
    },
    {
     "name": "stdout",
     "output_type": "stream",
     "text": [
      "The video is taking at 25.0 frames per second\n",
      "The video is taking at 25.0 frames per second\n",
      "The video is taking at 25.0 frames per second\n",
      "The video is taking at 25.0 frames per second\n",
      "The video is taking at 25.0 frames per second\n",
      "The video is taking at 25.0 frames per second\n",
      "The video is taking at 25.0 frames per second\n",
      "The video is taking at 25.0 frames per second\n"
     ]
    },
    {
     "name": "stderr",
     "output_type": "stream",
     "text": [
      "  4%|▍         | 401/9537 [00:14<04:38, 32.82it/s]"
     ]
    },
    {
     "name": "stdout",
     "output_type": "stream",
     "text": [
      "The video is taking at 25.0 frames per second\n",
      "The video is taking at 25.0 frames per second\n",
      "The video is taking at 25.0 frames per second\n",
      "The video is taking at 25.0 frames per second\n",
      "The video is taking at 25.0 frames per second\n",
      "The video is taking at 25.0 frames per second\n",
      "The video is taking at 25.0 frames per second\n",
      "The video is taking at 25.0 frames per second\n"
     ]
    },
    {
     "name": "stderr",
     "output_type": "stream",
     "text": [
      "  4%|▍         | 410/9537 [00:14<04:15, 35.66it/s]"
     ]
    },
    {
     "name": "stdout",
     "output_type": "stream",
     "text": [
      "The video is taking at 25.0 frames per second\n",
      "The video is taking at 25.0 frames per second\n",
      "The video is taking at 25.0 frames per second\n",
      "The video is taking at 25.0 frames per second\n",
      "The video is taking at 25.0 frames per second\n",
      "The video is taking at 25.0 frames per second\n",
      "The video is taking at 25.0 frames per second\n",
      "The video is taking at 25.0 frames per second\n",
      "The video is taking at 25.0 frames per second\n"
     ]
    },
    {
     "name": "stderr",
     "output_type": "stream",
     "text": [
      "  4%|▍         | 418/9537 [00:14<04:38, 32.79it/s]"
     ]
    },
    {
     "name": "stdout",
     "output_type": "stream",
     "text": [
      "The video is taking at 25.0 frames per second\n",
      "The video is taking at 25.0 frames per second\n",
      "The video is taking at 25.0 frames per second\n",
      "The video is taking at 25.0 frames per second\n",
      "The video is taking at 25.0 frames per second\n",
      "The video is taking at 25.0 frames per second\n",
      "The video is taking at 25.0 frames per second\n"
     ]
    },
    {
     "name": "stderr",
     "output_type": "stream",
     "text": [
      "\r",
      "  4%|▍         | 422/9537 [00:14<04:56, 30.72it/s]"
     ]
    },
    {
     "name": "stdout",
     "output_type": "stream",
     "text": [
      "The video is taking at 25.0 frames per second\n",
      "The video is taking at 25.0 frames per second\n",
      "The video is taking at 25.0 frames per second\n",
      "The video is taking at 25.0 frames per second\n",
      "The video is taking at 25.0 frames per second\n"
     ]
    },
    {
     "name": "stderr",
     "output_type": "stream",
     "text": [
      "\r",
      "  4%|▍         | 426/9537 [00:14<05:25, 27.99it/s]"
     ]
    },
    {
     "name": "stdout",
     "output_type": "stream",
     "text": [
      "The video is taking at 25.0 frames per second\n",
      "The video is taking at 25.0 frames per second\n",
      "The video is taking at 25.0 frames per second\n",
      "The video is taking at 25.0 frames per second\n",
      "The video is taking at 25.0 frames per second\n",
      "The video is taking at 25.0 frames per second\n"
     ]
    },
    {
     "name": "stderr",
     "output_type": "stream",
     "text": [
      "  5%|▍         | 434/9537 [00:15<05:06, 29.71it/s]"
     ]
    },
    {
     "name": "stdout",
     "output_type": "stream",
     "text": [
      "The video is taking at 25.0 frames per second\n",
      "The video is taking at 25.0 frames per second\n",
      "The video is taking at 25.0 frames per second\n",
      "The video is taking at 25.0 frames per second\n",
      "The video is taking at 25.0 frames per second\n",
      "The video is taking at 25.0 frames per second\n"
     ]
    },
    {
     "name": "stderr",
     "output_type": "stream",
     "text": [
      "  5%|▍         | 442/9537 [00:15<04:48, 31.57it/s]"
     ]
    },
    {
     "name": "stdout",
     "output_type": "stream",
     "text": [
      "The video is taking at 25.0 frames per second\n",
      "The video is taking at 25.0 frames per second\n",
      "The video is taking at 25.0 frames per second\n",
      "The video is taking at 25.0 frames per second\n",
      "The video is taking at 25.0 frames per second\n",
      "The video is taking at 25.0 frames per second\n",
      "The video is taking at 25.0 frames per second\n",
      "The video is taking at 25.0 frames per second\n"
     ]
    },
    {
     "name": "stderr",
     "output_type": "stream",
     "text": [
      "  5%|▍         | 451/9537 [00:15<04:11, 36.15it/s]"
     ]
    },
    {
     "name": "stdout",
     "output_type": "stream",
     "text": [
      "The video is taking at 25.0 frames per second\n",
      "The video is taking at 25.0 frames per second\n",
      "The video is taking at 25.0 frames per second\n",
      "The video is taking at 25.0 frames per second\n",
      "The video is taking at 25.0 frames per second\n",
      "The video is taking at 25.0 frames per second\n",
      "The video is taking at 25.0 frames per second\n",
      "The video is taking at 25.0 frames per second\n",
      "The video is taking at 25.0 frames per second\n"
     ]
    },
    {
     "name": "stderr",
     "output_type": "stream",
     "text": [
      "  5%|▍         | 461/9537 [00:15<03:59, 37.96it/s]"
     ]
    },
    {
     "name": "stdout",
     "output_type": "stream",
     "text": [
      "The video is taking at 25.0 frames per second\n",
      "The video is taking at 25.0 frames per second\n",
      "The video is taking at 25.0 frames per second\n",
      "The video is taking at 25.0 frames per second\n",
      "The video is taking at 25.0 frames per second\n",
      "The video is taking at 25.0 frames per second\n",
      "The video is taking at 25.0 frames per second\n",
      "The video is taking at 25.0 frames per second\n"
     ]
    },
    {
     "name": "stderr",
     "output_type": "stream",
     "text": [
      "\r",
      "  5%|▍         | 465/9537 [00:15<04:02, 37.40it/s]"
     ]
    },
    {
     "name": "stdout",
     "output_type": "stream",
     "text": [
      "The video is taking at 25.0 frames per second\n",
      "The video is taking at 25.0 frames per second\n",
      "The video is taking at 25.0 frames per second\n",
      "The video is taking at 25.0 frames per second\n",
      "The video is taking at 25.0 frames per second\n",
      "The video is taking at 25.0 frames per second\n",
      "The video is taking at 25.0 frames per second\n"
     ]
    },
    {
     "name": "stderr",
     "output_type": "stream",
     "text": [
      "  5%|▍         | 473/9537 [00:16<04:08, 36.47it/s]"
     ]
    },
    {
     "name": "stdout",
     "output_type": "stream",
     "text": [
      "The video is taking at 25.0 frames per second\n",
      "The video is taking at 25.0 frames per second\n",
      "The video is taking at 25.0 frames per second\n",
      "The video is taking at 25.0 frames per second\n",
      "The video is taking at 25.0 frames per second\n",
      "The video is taking at 25.0 frames per second\n",
      "The video is taking at 25.0 frames per second\n",
      "The video is taking at 25.0 frames per second\n"
     ]
    },
    {
     "name": "stderr",
     "output_type": "stream",
     "text": [
      "  5%|▌         | 481/9537 [00:16<04:15, 35.43it/s]"
     ]
    },
    {
     "name": "stdout",
     "output_type": "stream",
     "text": [
      "The video is taking at 25.0 frames per second\n",
      "The video is taking at 25.0 frames per second\n",
      "The video is taking at 25.0 frames per second\n",
      "The video is taking at 25.0 frames per second\n",
      "The video is taking at 25.0 frames per second\n",
      "The video is taking at 25.0 frames per second\n",
      "The video is taking at 25.0 frames per second\n"
     ]
    },
    {
     "name": "stderr",
     "output_type": "stream",
     "text": [
      "\r",
      "  5%|▌         | 485/9537 [00:16<05:27, 27.60it/s]"
     ]
    },
    {
     "name": "stdout",
     "output_type": "stream",
     "text": [
      "The video is taking at 25.0 frames per second\n",
      "The video is taking at 25.0 frames per second\n",
      "The video is taking at 25.0 frames per second\n",
      "The video is taking at 25.0 frames per second\n"
     ]
    },
    {
     "name": "stderr",
     "output_type": "stream",
     "text": [
      "\r",
      "  5%|▌         | 489/9537 [00:16<06:17, 23.97it/s]"
     ]
    },
    {
     "name": "stdout",
     "output_type": "stream",
     "text": [
      "The video is taking at 25.0 frames per second\n",
      "The video is taking at 25.0 frames per second\n",
      "The video is taking at 25.0 frames per second\n"
     ]
    },
    {
     "name": "stderr",
     "output_type": "stream",
     "text": [
      "\r",
      "  5%|▌         | 492/9537 [00:17<09:09, 16.47it/s]"
     ]
    },
    {
     "name": "stdout",
     "output_type": "stream",
     "text": [
      "The video is taking at 25.0 frames per second\n",
      "The video is taking at 25.0 frames per second\n",
      "The video is taking at 25.0 frames per second\n"
     ]
    },
    {
     "name": "stderr",
     "output_type": "stream",
     "text": [
      "\r",
      "  5%|▌         | 495/9537 [00:17<10:23, 14.51it/s]"
     ]
    },
    {
     "name": "stdout",
     "output_type": "stream",
     "text": [
      "The video is taking at 25.0 frames per second\n",
      "The video is taking at 25.0 frames per second\n",
      "The video is taking at 25.0 frames per second\n"
     ]
    },
    {
     "name": "stderr",
     "output_type": "stream",
     "text": [
      "\r",
      "  5%|▌         | 497/9537 [00:17<11:23, 13.23it/s]"
     ]
    },
    {
     "name": "stdout",
     "output_type": "stream",
     "text": [
      "The video is taking at 25.0 frames per second\n",
      "The video is taking at 25.0 frames per second\n",
      "The video is taking at 25.0 frames per second\n"
     ]
    },
    {
     "name": "stderr",
     "output_type": "stream",
     "text": [
      "  5%|▌         | 502/9537 [00:17<10:24, 14.47it/s]"
     ]
    },
    {
     "name": "stdout",
     "output_type": "stream",
     "text": [
      "The video is taking at 25.0 frames per second\n",
      "The video is taking at 25.0 frames per second\n",
      "The video is taking at 25.0 frames per second\n",
      "The video is taking at 25.0 frames per second\n"
     ]
    },
    {
     "name": "stderr",
     "output_type": "stream",
     "text": [
      "  5%|▌         | 506/9537 [00:18<10:01, 15.01it/s]"
     ]
    },
    {
     "name": "stdout",
     "output_type": "stream",
     "text": [
      "The video is taking at 25.0 frames per second\n",
      "The video is taking at 25.0 frames per second\n",
      "The video is taking at 25.0 frames per second\n",
      "The video is taking at 25.0 frames per second\n"
     ]
    },
    {
     "name": "stderr",
     "output_type": "stream",
     "text": [
      "\r",
      "  5%|▌         | 508/9537 [00:18<10:42, 14.06it/s]"
     ]
    },
    {
     "name": "stdout",
     "output_type": "stream",
     "text": [
      "The video is taking at 25.0 frames per second\n",
      "The video is taking at 25.0 frames per second\n",
      "The video is taking at 25.0 frames per second\n"
     ]
    },
    {
     "name": "stderr",
     "output_type": "stream",
     "text": [
      "  5%|▌         | 512/9537 [00:18<11:44, 12.80it/s]"
     ]
    },
    {
     "name": "stdout",
     "output_type": "stream",
     "text": [
      "The video is taking at 25.0 frames per second\n",
      "The video is taking at 25.0 frames per second\n",
      "The video is taking at 25.0 frames per second\n"
     ]
    },
    {
     "name": "stderr",
     "output_type": "stream",
     "text": [
      "  5%|▌         | 517/9537 [00:18<08:55, 16.86it/s]"
     ]
    },
    {
     "name": "stdout",
     "output_type": "stream",
     "text": [
      "The video is taking at 25.0 frames per second\n",
      "The video is taking at 25.0 frames per second\n",
      "The video is taking at 25.0 frames per second\n",
      "The video is taking at 25.0 frames per second\n",
      "The video is taking at 25.0 frames per second\n",
      "The video is taking at 25.0 frames per second\n"
     ]
    },
    {
     "name": "stderr",
     "output_type": "stream",
     "text": [
      "  5%|▌         | 523/9537 [00:19<07:21, 20.41it/s]"
     ]
    },
    {
     "name": "stdout",
     "output_type": "stream",
     "text": [
      "The video is taking at 25.0 frames per second\n",
      "The video is taking at 25.0 frames per second\n",
      "The video is taking at 25.0 frames per second\n",
      "The video is taking at 25.0 frames per second\n",
      "The video is taking at 25.0 frames per second\n"
     ]
    },
    {
     "name": "stderr",
     "output_type": "stream",
     "text": [
      "\r",
      "  6%|▌         | 526/9537 [00:19<08:45, 17.14it/s]"
     ]
    },
    {
     "name": "stdout",
     "output_type": "stream",
     "text": [
      "The video is taking at 25.0 frames per second\n",
      "The video is taking at 25.0 frames per second\n",
      "The video is taking at 25.0 frames per second\n"
     ]
    },
    {
     "name": "stderr",
     "output_type": "stream",
     "text": [
      "\r",
      "  6%|▌         | 528/9537 [00:19<09:27, 15.88it/s]"
     ]
    },
    {
     "name": "stdout",
     "output_type": "stream",
     "text": [
      "The video is taking at 25.0 frames per second\n",
      "The video is taking at 25.0 frames per second\n",
      "The video is taking at 25.0 frames per second\n",
      "The video is taking at 25.0 frames per second\n"
     ]
    },
    {
     "name": "stderr",
     "output_type": "stream",
     "text": [
      "  6%|▌         | 533/9537 [00:19<09:01, 16.63it/s]"
     ]
    },
    {
     "name": "stdout",
     "output_type": "stream",
     "text": [
      "The video is taking at 25.0 frames per second\n",
      "The video is taking at 25.0 frames per second\n",
      "The video is taking at 25.0 frames per second\n",
      "The video is taking at 25.0 frames per second\n"
     ]
    },
    {
     "name": "stderr",
     "output_type": "stream",
     "text": [
      "\r",
      "  6%|▌         | 535/9537 [00:19<09:24, 15.94it/s]"
     ]
    },
    {
     "name": "stdout",
     "output_type": "stream",
     "text": [
      "The video is taking at 25.0 frames per second\n",
      "The video is taking at 25.0 frames per second\n"
     ]
    },
    {
     "name": "stderr",
     "output_type": "stream",
     "text": [
      "  6%|▌         | 539/9537 [00:20<10:36, 14.14it/s]"
     ]
    },
    {
     "name": "stdout",
     "output_type": "stream",
     "text": [
      "The video is taking at 25.0 frames per second\n",
      "The video is taking at 25.0 frames per second\n",
      "The video is taking at 25.0 frames per second\n",
      "The video is taking at 25.0 frames per second\n"
     ]
    },
    {
     "name": "stderr",
     "output_type": "stream",
     "text": [
      "\r",
      "  6%|▌         | 541/9537 [00:20<09:53, 15.17it/s]"
     ]
    },
    {
     "name": "stdout",
     "output_type": "stream",
     "text": [
      "The video is taking at 25.0 frames per second\n",
      "The video is taking at 25.0 frames per second\n",
      "The video is taking at 25.0 frames per second\n"
     ]
    },
    {
     "name": "stderr",
     "output_type": "stream",
     "text": [
      "  6%|▌         | 546/9537 [00:20<10:41, 14.01it/s]"
     ]
    },
    {
     "name": "stdout",
     "output_type": "stream",
     "text": [
      "The video is taking at 25.0 frames per second\n",
      "The video is taking at 25.0 frames per second\n",
      "The video is taking at 25.0 frames per second\n"
     ]
    },
    {
     "name": "stderr",
     "output_type": "stream",
     "text": [
      "\r",
      "  6%|▌         | 548/9537 [00:20<12:56, 11.58it/s]"
     ]
    },
    {
     "name": "stdout",
     "output_type": "stream",
     "text": [
      "The video is taking at 25.0 frames per second\n",
      "The video is taking at 25.0 frames per second\n"
     ]
    },
    {
     "name": "stderr",
     "output_type": "stream",
     "text": [
      "  6%|▌         | 552/9537 [00:21<12:14, 12.23it/s]"
     ]
    },
    {
     "name": "stdout",
     "output_type": "stream",
     "text": [
      "The video is taking at 25.0 frames per second\n",
      "The video is taking at 25.0 frames per second\n",
      "The video is taking at 25.0 frames per second\n",
      "The video is taking at 25.0 frames per second\n"
     ]
    },
    {
     "name": "stderr",
     "output_type": "stream",
     "text": [
      "\r",
      "  6%|▌         | 554/9537 [00:21<10:55, 13.69it/s]"
     ]
    },
    {
     "name": "stdout",
     "output_type": "stream",
     "text": [
      "The video is taking at 25.0 frames per second\n",
      "The video is taking at 25.0 frames per second\n",
      "The video is taking at 25.0 frames per second\n"
     ]
    },
    {
     "name": "stderr",
     "output_type": "stream",
     "text": [
      "  6%|▌         | 558/9537 [00:21<12:24, 12.06it/s]"
     ]
    },
    {
     "name": "stdout",
     "output_type": "stream",
     "text": [
      "The video is taking at 25.0 frames per second\n",
      "The video is taking at 25.0 frames per second\n",
      "The video is taking at 25.0 frames per second\n",
      "The video is taking at 25.0 frames per second\n"
     ]
    },
    {
     "name": "stderr",
     "output_type": "stream",
     "text": [
      "\r",
      "  6%|▌         | 561/9537 [00:21<10:52, 13.75it/s]"
     ]
    },
    {
     "name": "stdout",
     "output_type": "stream",
     "text": [
      "The video is taking at 25.0 frames per second\n",
      "The video is taking at 25.0 frames per second\n",
      "The video is taking at 25.0 frames per second\n",
      "The video is taking at 25.0 frames per second\n"
     ]
    },
    {
     "name": "stderr",
     "output_type": "stream",
     "text": [
      "  6%|▌         | 566/9537 [00:22<09:42, 15.40it/s]"
     ]
    },
    {
     "name": "stdout",
     "output_type": "stream",
     "text": [
      "The video is taking at 25.0 frames per second\n",
      "The video is taking at 25.0 frames per second\n",
      "The video is taking at 25.0 frames per second\n",
      "The video is taking at 25.0 frames per second\n"
     ]
    },
    {
     "name": "stderr",
     "output_type": "stream",
     "text": [
      "  6%|▌         | 572/9537 [00:22<08:08, 18.36it/s]"
     ]
    },
    {
     "name": "stdout",
     "output_type": "stream",
     "text": [
      "The video is taking at 25.0 frames per second\n",
      "The video is taking at 25.0 frames per second\n",
      "The video is taking at 25.0 frames per second\n",
      "The video is taking at 25.0 frames per second\n",
      "The video is taking at 25.0 frames per second\n"
     ]
    },
    {
     "name": "stderr",
     "output_type": "stream",
     "text": [
      "  6%|▌         | 580/9537 [00:22<06:35, 22.66it/s]"
     ]
    },
    {
     "name": "stdout",
     "output_type": "stream",
     "text": [
      "The video is taking at 29.97002997002997 frames per second\n",
      "The video is taking at 29.97002997002997 frames per second\n",
      "The video is taking at 29.97002997002997 frames per second\n",
      "The video is taking at 29.97002997002997 frames per second\n",
      "The video is taking at 29.97002997002997 frames per second\n",
      "The video is taking at 29.97002997002997 frames per second\n",
      "The video is taking at 29.97002997002997 frames per second\n",
      "The video is taking at 29.97002997002997 frames per second\n",
      "The video is taking at 29.97002997002997 frames per second\n",
      "The video is taking at 29.97002997002997 frames per second\n",
      "The video is taking at 29.97002997002997 frames per second\n",
      "The video is taking at 29.97002997002997 frames per second\n",
      "The video is taking at 29.97002997002997 frames per second\n"
     ]
    },
    {
     "name": "stderr",
     "output_type": "stream",
     "text": [
      "  6%|▌         | 593/9537 [00:22<04:36, 32.35it/s]"
     ]
    },
    {
     "name": "stdout",
     "output_type": "stream",
     "text": [
      "The video is taking at 29.97002997002997 frames per second\n",
      "The video is taking at 29.97002997002997 frames per second\n",
      "The video is taking at 29.97002997002997 frames per second\n",
      "The video is taking at 29.97002997002997 frames per second\n",
      "The video is taking at 29.97002997002997 frames per second\n",
      "The video is taking at 29.97002997002997 frames per second\n",
      "The video is taking at 29.97002997002997 frames per second\n",
      "The video is taking at 29.97002997002997 frames per second\n",
      "The video is taking at 29.97002997002997 frames per second\n",
      "The video is taking at 29.97002997002997 frames per second\n",
      "The video is taking at 29.97002997002997 frames per second\n"
     ]
    },
    {
     "name": "stderr",
     "output_type": "stream",
     "text": [
      "  6%|▋         | 605/9537 [00:23<03:40, 40.55it/s]"
     ]
    },
    {
     "name": "stdout",
     "output_type": "stream",
     "text": [
      "The video is taking at 29.97002997002997 frames per second\n",
      "The video is taking at 29.97002997002997 frames per second\n",
      "The video is taking at 29.97002997002997 frames per second\n",
      "The video is taking at 29.97002997002997 frames per second\n",
      "The video is taking at 29.97002997002997 frames per second\n",
      "The video is taking at 29.97002997002997 frames per second\n",
      "The video is taking at 29.97002997002997 frames per second\n",
      "The video is taking at 29.97002997002997 frames per second\n",
      "The video is taking at 29.97002997002997 frames per second\n",
      "The video is taking at 29.97002997002997 frames per second\n",
      "The video is taking at 29.97002997002997 frames per second\n"
     ]
    },
    {
     "name": "stderr",
     "output_type": "stream",
     "text": [
      "  6%|▋         | 618/9537 [00:23<03:01, 49.22it/s]"
     ]
    },
    {
     "name": "stdout",
     "output_type": "stream",
     "text": [
      "The video is taking at 29.97002997002997 frames per second\n",
      "The video is taking at 29.97002997002997 frames per second\n",
      "The video is taking at 29.97002997002997 frames per second\n",
      "The video is taking at 29.97002997002997 frames per second\n",
      "The video is taking at 29.97002997002997 frames per second\n",
      "The video is taking at 29.97002997002997 frames per second\n",
      "The video is taking at 29.97002997002997 frames per second\n",
      "The video is taking at 29.97002997002997 frames per second\n",
      "The video is taking at 29.97002997002997 frames per second\n",
      "The video is taking at 29.97002997002997 frames per second\n",
      "The video is taking at 29.97002997002997 frames per second\n",
      "The video is taking at 29.97002997002997 frames per second\n",
      "The video is taking at 29.97002997002997 frames per second\n"
     ]
    },
    {
     "name": "stderr",
     "output_type": "stream",
     "text": [
      "  7%|▋         | 630/9537 [00:23<02:49, 52.64it/s]"
     ]
    },
    {
     "name": "stdout",
     "output_type": "stream",
     "text": [
      "The video is taking at 29.97002997002997 frames per second\n",
      "The video is taking at 29.97002997002997 frames per second\n",
      "The video is taking at 29.97002997002997 frames per second\n",
      "The video is taking at 29.97002997002997 frames per second\n",
      "The video is taking at 29.97002997002997 frames per second\n",
      "The video is taking at 29.97002997002997 frames per second\n",
      "The video is taking at 29.97002997002997 frames per second\n",
      "The video is taking at 29.97002997002997 frames per second\n",
      "The video is taking at 29.97002997002997 frames per second\n",
      "The video is taking at 29.97002997002997 frames per second\n",
      "The video is taking at 29.97002997002997 frames per second\n",
      "The video is taking at 29.97002997002997 frames per second\n"
     ]
    },
    {
     "name": "stderr",
     "output_type": "stream",
     "text": [
      "  7%|▋         | 642/9537 [00:23<02:51, 51.80it/s]"
     ]
    },
    {
     "name": "stdout",
     "output_type": "stream",
     "text": [
      "The video is taking at 29.97002997002997 frames per second\n",
      "The video is taking at 29.97002997002997 frames per second\n",
      "The video is taking at 29.97002997002997 frames per second\n",
      "The video is taking at 29.97002997002997 frames per second\n",
      "The video is taking at 29.97002997002997 frames per second\n",
      "The video is taking at 29.97002997002997 frames per second\n",
      "The video is taking at 29.97002997002997 frames per second\n",
      "The video is taking at 29.97002997002997 frames per second\n",
      "The video is taking at 29.97002997002997 frames per second\n",
      "The video is taking at 29.97002997002997 frames per second\n"
     ]
    },
    {
     "name": "stderr",
     "output_type": "stream",
     "text": [
      "\r",
      "  7%|▋         | 648/9537 [00:23<02:51, 51.73it/s]"
     ]
    },
    {
     "name": "stdout",
     "output_type": "stream",
     "text": [
      "The video is taking at 29.97002997002997 frames per second\n",
      "The video is taking at 29.97002997002997 frames per second\n",
      "The video is taking at 29.97002997002997 frames per second\n",
      "The video is taking at 29.97002997002997 frames per second\n",
      "The video is taking at 29.97002997002997 frames per second\n",
      "The video is taking at 29.97002997002997 frames per second\n",
      "The video is taking at 29.97002997002997 frames per second\n",
      "The video is taking at 29.97002997002997 frames per second\n",
      "The video is taking at 29.97002997002997 frames per second\n",
      "The video is taking at 29.97002997002997 frames per second\n"
     ]
    },
    {
     "name": "stderr",
     "output_type": "stream",
     "text": [
      "  7%|▋         | 660/9537 [00:24<02:55, 50.47it/s]"
     ]
    },
    {
     "name": "stdout",
     "output_type": "stream",
     "text": [
      "The video is taking at 29.97002997002997 frames per second\n",
      "The video is taking at 29.97002997002997 frames per second\n",
      "The video is taking at 29.97002997002997 frames per second\n",
      "The video is taking at 29.97002997002997 frames per second\n",
      "The video is taking at 29.97002997002997 frames per second\n",
      "The video is taking at 29.97002997002997 frames per second\n",
      "The video is taking at 29.97002997002997 frames per second\n",
      "The video is taking at 29.97002997002997 frames per second\n",
      "The video is taking at 29.97002997002997 frames per second\n",
      "The video is taking at 29.97002997002997 frames per second\n",
      "The video is taking at 29.97002997002997 frames per second\n",
      "The video is taking at 29.97002997002997 frames per second\n"
     ]
    },
    {
     "name": "stderr",
     "output_type": "stream",
     "text": [
      "\r",
      "  7%|▋         | 666/9537 [00:24<02:53, 51.16it/s]"
     ]
    },
    {
     "name": "stdout",
     "output_type": "stream",
     "text": [
      "The video is taking at 29.97002997002997 frames per second\n",
      "The video is taking at 29.97002997002997 frames per second\n"
     ]
    },
    {
     "ename": "KeyboardInterrupt",
     "evalue": "",
     "output_type": "error",
     "traceback": [
      "\u001b[0;31m---------------------------------------------------------------------------\u001b[0m",
      "\u001b[0;31mKeyboardInterrupt\u001b[0m                         Traceback (most recent call last)",
      "\u001b[0;32m<ipython-input-5-e73449181487>\u001b[0m in \u001b[0;36m<module>\u001b[0;34m\u001b[0m\n\u001b[1;32m      9\u001b[0m     \u001b[0;32mwhile\u001b[0m\u001b[0;34m(\u001b[0m\u001b[0mcap\u001b[0m\u001b[0;34m.\u001b[0m\u001b[0misOpened\u001b[0m\u001b[0;34m(\u001b[0m\u001b[0;34m)\u001b[0m\u001b[0;34m)\u001b[0m\u001b[0;34m:\u001b[0m\u001b[0;34m\u001b[0m\u001b[0;34m\u001b[0m\u001b[0m\n\u001b[1;32m     10\u001b[0m         \u001b[0mframeId\u001b[0m \u001b[0;34m=\u001b[0m \u001b[0mcap\u001b[0m\u001b[0;34m.\u001b[0m\u001b[0mget\u001b[0m\u001b[0;34m(\u001b[0m\u001b[0;36m1\u001b[0m\u001b[0;34m)\u001b[0m \u001b[0;31m# get current frame number\u001b[0m\u001b[0;34m\u001b[0m\u001b[0;34m\u001b[0m\u001b[0m\n\u001b[0;32m---> 11\u001b[0;31m         \u001b[0mret\u001b[0m\u001b[0;34m,\u001b[0m \u001b[0mframe\u001b[0m \u001b[0;34m=\u001b[0m \u001b[0mcap\u001b[0m\u001b[0;34m.\u001b[0m\u001b[0mread\u001b[0m\u001b[0;34m(\u001b[0m\u001b[0;34m)\u001b[0m\u001b[0;34m\u001b[0m\u001b[0;34m\u001b[0m\u001b[0m\n\u001b[0m\u001b[1;32m     12\u001b[0m         \u001b[0;32mif\u001b[0m\u001b[0;34m(\u001b[0m\u001b[0mret\u001b[0m \u001b[0;34m!=\u001b[0m \u001b[0;32mTrue\u001b[0m\u001b[0;34m)\u001b[0m\u001b[0;34m:\u001b[0m\u001b[0;34m\u001b[0m\u001b[0;34m\u001b[0m\u001b[0m\n\u001b[1;32m     13\u001b[0m             \u001b[0;32mbreak\u001b[0m\u001b[0;34m\u001b[0m\u001b[0;34m\u001b[0m\u001b[0m\n",
      "\u001b[0;31mKeyboardInterrupt\u001b[0m: "
     ]
    }
   ],
   "source": [
    "# storing the frames from training videos\n",
    "for i in tqdm(range(train.shape[0])):\n",
    "    count = 0\n",
    "    videoFile = train['video_name'][i]\n",
    "    cap = cv2.VideoCapture('UCF-101/'+videoFile.split(' ')[0])\n",
    "    frameRate = cap.get(5) # get frames per second\n",
    "    print(f'The video is taking at {frameRate} frames per second')\n",
    "    \n",
    "    while(cap.isOpened()):\n",
    "        frameId = cap.get(1) # get current frame number\n",
    "        ret, frame = cap.read()\n",
    "        if(ret != True):\n",
    "            break\n",
    "        if (frameId % math.floor(frameRate) == 0):\n",
    "            # storing the frames in a new folder named train_1\n",
    "            filename = 'train_1/' + videoFile.split('/')[1].split(' ')[0] +\"_frame%d.jpg\" % count;count+=1\n",
    "            cv2.imwrite(filename, frame)\n",
    "    cap.release()"
   ]
  },
  {
   "cell_type": "markdown",
   "metadata": {},
   "source": [
    "## Next, create a `.csv` file that contains paths to these images as well as their `class`"
   ]
  },
  {
   "cell_type": "code",
   "execution_count": 64,
   "metadata": {},
   "outputs": [
    {
     "name": "stderr",
     "output_type": "stream",
     "text": [
      "100%|██████████| 73844/73844 [00:00<00:00, 600840.34it/s]\n"
     ]
    }
   ],
   "source": [
    "# get the names of all the images\n",
    "images = glob('train_1/*.jpg')\n",
    "train_image = []\n",
    "train_class = []\n",
    "for i in tqdm(range(len(images))):\n",
    "    # create the image name\n",
    "    train_image.append(images[i].split('/')[1])\n",
    "    # create the class of this image, the activity name\n",
    "    train_class.append(images[i].split('/')[1].split('_')[1])\n",
    "    \n",
    "# storing the images and their class in a dataframe\n",
    "train_data = pd.DataFrame()\n",
    "train_data['image'] = train_image\n",
    "train_data['class'] = train_class\n",
    "\n",
    "# save dataframe into `.csv` file\n",
    "train_data.to_csv('UCF-101/train_new.csv', header = True, index=False)"
   ]
  },
  {
   "cell_type": "markdown",
   "metadata": {},
   "source": [
    "# Training most basic video classification model"
   ]
  },
  {
   "cell_type": "markdown",
   "metadata": {},
   "source": [
    "## Here we will consider using the most basic architecure 3D-CNN with a very light base architecture: VGG-16\n",
    "We have created our training image names are corresponding classes in a dataframe.\n",
    "Now we just need to:\n",
    "* Define model architecture\n",
    "* Train and validate performance using unseen data\n",
    "* Hyper-parameter tuning\n",
    "* Upgrade model capability and repeat process for better accuracy"
   ]
  },
  {
   "cell_type": "code",
   "execution_count": 6,
   "metadata": {},
   "outputs": [],
   "source": [
    "data_path = './jpegs_256'                 # preprocessed RGB images\n",
    "action_name_path = './UCF101actions.pkl' # preprocessed action names\n",
    "save_model_path = './Conv3D_ckpt'"
   ]
  },
  {
   "cell_type": "markdown",
   "metadata": {},
   "source": [
    "#### 3D CNN patameters"
   ]
  },
  {
   "cell_type": "code",
   "execution_count": 7,
   "metadata": {},
   "outputs": [],
   "source": [
    "# architecture parameters\n",
    "fc_hidden1, fc_hidden2 = 256, 256\n",
    "dropout = 0.0        # dropout probability\n",
    "\n",
    "# training parameters\n",
    "k = 101            # number of target category\n",
    "epochs = 10        # do adjust here for shorter training period\n",
    "batch_size = 8\n",
    "learning_rate = 1e-4\n",
    "log_interval = 10\n",
    "img_x, img_y = 256, 342  # resize video 2d frame size"
   ]
  },
  {
   "cell_type": "markdown",
   "metadata": {},
   "source": [
    "#### For 3D CNN we will need to determine a fixed No.frames and here we take 28 for UCF 101"
   ]
  },
  {
   "cell_type": "code",
   "execution_count": 8,
   "metadata": {},
   "outputs": [],
   "source": [
    "begin_frame, end_frame, skip_frame = 1, 29, 1"
   ]
  },
  {
   "cell_type": "code",
   "execution_count": 9,
   "metadata": {},
   "outputs": [],
   "source": [
    "def train(log_interval, model, device, train_loader, optimizer, epoch):\n",
    "    model.train() # training model, enable dropout and \n",
    "    \n",
    "    losses = []\n",
    "    scores = []\n",
    "    N_count = 0 # count total trained sample in one epoch\n",
    "    \n",
    "    for batch_idx, (X, y) in enumerate(train_loader):\n",
    "        X, y = X.to(device), y.to(device).view(-1,)\n",
    "        \n",
    "        N_count += X.size(0)\n",
    "        \n",
    "        optimizer.zero_grad()\n",
    "        output = model(X)    # output size = (batch, number of classes)\n",
    "        \n",
    "        loss = F.cross_entropy(output, y)\n",
    "        losses.append(loss.item())\n",
    "        \n",
    "        # to compute accuracy\n",
    "        y_pred = torch.max(output, 1)[1]  # y_pred != output\n",
    "        step_score = accuracy_score(y.cpu().data.squeeze().numpy(), y_pred.cpu().data.squeeze().numpy()) # computed on CPU\n",
    "        scores.append(step_score)         \n",
    "        \n",
    "        loss.backward()\n",
    "        optimizer.step()\n",
    "        \n",
    "        # show information\n",
    "        if (batch_idx + 1) % log_interval == 0:\n",
    "            print('Train Epoch: {} [{}/{} ({:.0f}%)]\\tLoss: {:.6f}, Accu: {:.2f}%'.format(\n",
    "                epoch + 1, N_count, len(train_loader.dataset), 100. * (batch_idx + 1) / len(train_loader), loss.item(), 100 * step_score))\n",
    "\n",
    "    return losses, scores"
   ]
  },
  {
   "cell_type": "code",
   "execution_count": 10,
   "metadata": {},
   "outputs": [],
   "source": [
    "def validation(model, device, optimizer, test_loader):\n",
    "    # set model as testing mode\n",
    "    model.eval()\n",
    "\n",
    "    test_loss = 0\n",
    "    all_y = []\n",
    "    all_y_pred = []\n",
    "    with torch.no_grad():\n",
    "        for X, y in test_loader:\n",
    "            # distribute data to device\n",
    "            X, y = X.to(device), y.to(device).view(-1, )\n",
    "\n",
    "            output = model(X)\n",
    "\n",
    "            loss = F.cross_entropy(output, y, reduction='sum')\n",
    "            test_loss += loss.item()                 # sum up batch loss\n",
    "            y_pred = output.max(1, keepdim=True)[1]  # (y_pred != output) get the index of the max log-probability\n",
    "\n",
    "            # collect all y and y_pred in all batches\n",
    "            all_y.extend(y)\n",
    "            all_y_pred.extend(y_pred)\n",
    "\n",
    "    test_loss /= len(test_loader.dataset)\n",
    "\n",
    "    # to compute accuracy\n",
    "    all_y = torch.stack(all_y, dim=0)\n",
    "    all_y_pred = torch.stack(all_y_pred, dim=0)\n",
    "    test_score = accuracy_score(all_y.cpu().data.squeeze().numpy(), all_y_pred.cpu().data.squeeze().numpy())\n",
    "\n",
    "    # show information\n",
    "    print('\\nTest set ({:d} samples): Average loss: {:.4f}, Accuracy: {:.2f}%\\n'.format(len(all_y), test_loss, 100* test_score))\n",
    "\n",
    "    # save Pytorch models of best record\n",
    "    torch.save(model.state_dict(), os.path.join(save_model_path, '3dcnn_epoch{}.pth'.format(epoch + 1)))  # save spatial_encoder\n",
    "    torch.save(optimizer.state_dict(), os.path.join(save_model_path, '3dcnn_optimizer_epoch{}.pth'.format(epoch + 1)))      # save optimizer\n",
    "    print(\"Epoch {} model saved!\".format(epoch + 1))\n",
    "\n",
    "    return test_loss, test_score"
   ]
  },
  {
   "cell_type": "markdown",
   "metadata": {},
   "source": [
    "## 3D CNN module"
   ]
  },
  {
   "cell_type": "code",
   "execution_count": 14,
   "metadata": {},
   "outputs": [],
   "source": [
    "class CNN3D(nn.Module):\n",
    "    def __init__(self, t_dim=120, img_x=90, img_y=120, drop_p=0.2, fc_hidden1=256, fc_hidden2=128, num_classes=50):\n",
    "        super(CNN3D, self).__init__()\n",
    "\n",
    "        # set video dimension\n",
    "        self.t_dim = t_dim\n",
    "        self.img_x = img_x\n",
    "        self.img_y = img_y\n",
    "        # fully connected layer hidden nodes\n",
    "        self.fc_hidden1, self.fc_hidden2 = fc_hidden1, fc_hidden2\n",
    "        self.drop_p = drop_p\n",
    "        self.num_classes = num_classes\n",
    "        self.ch1, self.ch2 = 32, 48\n",
    "        self.k1, self.k2 = (5, 5, 5), (3, 3, 3)  # 3d kernel size\n",
    "        self.s1, self.s2 = (2, 2, 2), (2, 2, 2)  # 3d strides\n",
    "        self.pd1, self.pd2 = (0, 0, 0), (0, 0, 0)  # 3d padding\n",
    "\n",
    "        # compute conv1 & conv2 output shape\n",
    "        self.conv1_outshape = conv3D_output_size((self.t_dim, self.img_x, self.img_y), self.pd1, self.k1, self.s1)\n",
    "        self.conv2_outshape = conv3D_output_size(self.conv1_outshape, self.pd2, self.k2, self.s2)\n",
    "\n",
    "        self.conv1 = nn.Conv3d(in_channels=1, out_channels=self.ch1, kernel_size=self.k1, stride=self.s1,\n",
    "                               padding=self.pd1)\n",
    "        self.bn1 = nn.BatchNorm3d(self.ch1)\n",
    "        self.conv2 = nn.Conv3d(in_channels=self.ch1, out_channels=self.ch2, kernel_size=self.k2, stride=self.s2,\n",
    "                               padding=self.pd2)\n",
    "        self.bn2 = nn.BatchNorm3d(self.ch2)\n",
    "        self.relu = nn.ReLU(inplace=True)\n",
    "        self.drop = nn.Dropout3d(self.drop_p)\n",
    "        self.pool = nn.MaxPool3d(2)\n",
    "        self.fc1 = nn.Linear(self.ch2 * self.conv2_outshape[0] * self.conv2_outshape[1] * self.conv2_outshape[2],\n",
    "                             self.fc_hidden1)  # fully connected hidden layer\n",
    "        self.fc2 = nn.Linear(self.fc_hidden1, self.fc_hidden2)\n",
    "        self.fc3 = nn.Linear(self.fc_hidden2, self.num_classes)  # fully connected layer, output = multi-classes\n",
    "\n",
    "    def forward(self, x_3d):\n",
    "        # Conv 1\n",
    "        x = self.conv1(x_3d)\n",
    "        x = self.bn1(x)\n",
    "        x = self.relu(x)\n",
    "        x = self.drop(x)\n",
    "        # Conv 2\n",
    "        x = self.conv2(x)\n",
    "        x = self.bn2(x)\n",
    "        x = self.relu(x)\n",
    "        x = self.drop(x)\n",
    "        # FC 1 and 2\n",
    "        x = x.view(x.size(0), -1)\n",
    "        x = F.relu(self.fc1(x))\n",
    "        x = F.relu(self.fc2(x))\n",
    "        x = F.dropout(x, p=self.drop_p, training=self.training)\n",
    "        x = self.fc3(x)\n",
    "\n",
    "        return x"
   ]
  },
  {
   "cell_type": "code",
   "execution_count": 15,
   "metadata": {},
   "outputs": [],
   "source": [
    "from torchsummaryX import summary"
   ]
  },
  {
   "cell_type": "code",
   "execution_count": 21,
   "metadata": {},
   "outputs": [
    {
     "data": {
      "text/plain": [
       "torch.Size([8, 1, 28, 256, 342])"
      ]
     },
     "execution_count": 21,
     "metadata": {},
     "output_type": "execute_result"
    }
   ],
   "source": [
    "input_X, label = next(iter(train_loader))\n",
    "input_X.shape"
   ]
  },
  {
   "cell_type": "code",
   "execution_count": null,
   "metadata": {},
   "outputs": [],
   "source": []
  },
  {
   "cell_type": "code",
   "execution_count": 24,
   "metadata": {
    "scrolled": false
   },
   "outputs": [
    {
     "name": "stdout",
     "output_type": "stream",
     "text": [
      "============================================================================\n",
      "              Kernel Shape           Output Shape       Params    Mult-Adds\n",
      "Layer                                                                      \n",
      "0_conv1   [1, 32, 5, 5, 5]  [8, 32, 12, 126, 169]       4.032k    1.022112G\n",
      "1_bn1                 [32]  [8, 32, 12, 126, 169]         64.0         32.0\n",
      "2_relu                   -  [8, 32, 12, 126, 169]            -            -\n",
      "3_drop                   -  [8, 32, 12, 126, 169]            -            -\n",
      "4_conv2  [32, 48, 3, 3, 3]     [8, 48, 5, 62, 84]       41.52k  1.07993088G\n",
      "5_bn2                 [48]     [8, 48, 5, 62, 84]         96.0         48.0\n",
      "6_relu                   -     [8, 48, 5, 62, 84]            -            -\n",
      "7_drop                   -     [8, 48, 5, 62, 84]            -            -\n",
      "8_fc1       [1249920, 256]               [8, 256]  319.979776M   319.97952M\n",
      "9_fc2           [256, 256]               [8, 256]      65.792k      65.536k\n",
      "10_fc3          [256, 101]               [8, 101]      25.957k      25.856k\n",
      "----------------------------------------------------------------------------\n",
      "                            Totals\n",
      "Total params           320.117237M\n",
      "Trainable params       320.117237M\n",
      "Non-trainable params           0.0\n",
      "Mult-Adds             2.422113872G\n",
      "============================================================================\n"
     ]
    },
    {
     "data": {
      "text/html": [
       "<div>\n",
       "<style scoped>\n",
       "    .dataframe tbody tr th:only-of-type {\n",
       "        vertical-align: middle;\n",
       "    }\n",
       "\n",
       "    .dataframe tbody tr th {\n",
       "        vertical-align: top;\n",
       "    }\n",
       "\n",
       "    .dataframe thead th {\n",
       "        text-align: right;\n",
       "    }\n",
       "</style>\n",
       "<table border=\"1\" class=\"dataframe\">\n",
       "  <thead>\n",
       "    <tr style=\"text-align: right;\">\n",
       "      <th></th>\n",
       "      <th>Kernel Shape</th>\n",
       "      <th>Output Shape</th>\n",
       "      <th>Params</th>\n",
       "      <th>Mult-Adds</th>\n",
       "    </tr>\n",
       "    <tr>\n",
       "      <th>Layer</th>\n",
       "      <th></th>\n",
       "      <th></th>\n",
       "      <th></th>\n",
       "      <th></th>\n",
       "    </tr>\n",
       "  </thead>\n",
       "  <tbody>\n",
       "    <tr>\n",
       "      <th>0_conv1</th>\n",
       "      <td>[1, 32, 5, 5, 5]</td>\n",
       "      <td>[8, 32, 12, 126, 169]</td>\n",
       "      <td>4032.0</td>\n",
       "      <td>1.022112e+09</td>\n",
       "    </tr>\n",
       "    <tr>\n",
       "      <th>1_bn1</th>\n",
       "      <td>[32]</td>\n",
       "      <td>[8, 32, 12, 126, 169]</td>\n",
       "      <td>64.0</td>\n",
       "      <td>3.200000e+01</td>\n",
       "    </tr>\n",
       "    <tr>\n",
       "      <th>2_relu</th>\n",
       "      <td>-</td>\n",
       "      <td>[8, 32, 12, 126, 169]</td>\n",
       "      <td>NaN</td>\n",
       "      <td>NaN</td>\n",
       "    </tr>\n",
       "    <tr>\n",
       "      <th>3_drop</th>\n",
       "      <td>-</td>\n",
       "      <td>[8, 32, 12, 126, 169]</td>\n",
       "      <td>NaN</td>\n",
       "      <td>NaN</td>\n",
       "    </tr>\n",
       "    <tr>\n",
       "      <th>4_conv2</th>\n",
       "      <td>[32, 48, 3, 3, 3]</td>\n",
       "      <td>[8, 48, 5, 62, 84]</td>\n",
       "      <td>41520.0</td>\n",
       "      <td>1.079931e+09</td>\n",
       "    </tr>\n",
       "    <tr>\n",
       "      <th>5_bn2</th>\n",
       "      <td>[48]</td>\n",
       "      <td>[8, 48, 5, 62, 84]</td>\n",
       "      <td>96.0</td>\n",
       "      <td>4.800000e+01</td>\n",
       "    </tr>\n",
       "    <tr>\n",
       "      <th>6_relu</th>\n",
       "      <td>-</td>\n",
       "      <td>[8, 48, 5, 62, 84]</td>\n",
       "      <td>NaN</td>\n",
       "      <td>NaN</td>\n",
       "    </tr>\n",
       "    <tr>\n",
       "      <th>7_drop</th>\n",
       "      <td>-</td>\n",
       "      <td>[8, 48, 5, 62, 84]</td>\n",
       "      <td>NaN</td>\n",
       "      <td>NaN</td>\n",
       "    </tr>\n",
       "    <tr>\n",
       "      <th>8_fc1</th>\n",
       "      <td>[1249920, 256]</td>\n",
       "      <td>[8, 256]</td>\n",
       "      <td>319979776.0</td>\n",
       "      <td>3.199795e+08</td>\n",
       "    </tr>\n",
       "    <tr>\n",
       "      <th>9_fc2</th>\n",
       "      <td>[256, 256]</td>\n",
       "      <td>[8, 256]</td>\n",
       "      <td>65792.0</td>\n",
       "      <td>6.553600e+04</td>\n",
       "    </tr>\n",
       "    <tr>\n",
       "      <th>10_fc3</th>\n",
       "      <td>[256, 101]</td>\n",
       "      <td>[8, 101]</td>\n",
       "      <td>25957.0</td>\n",
       "      <td>2.585600e+04</td>\n",
       "    </tr>\n",
       "  </tbody>\n",
       "</table>\n",
       "</div>"
      ],
      "text/plain": [
       "              Kernel Shape           Output Shape       Params     Mult-Adds\n",
       "Layer                                                                       \n",
       "0_conv1   [1, 32, 5, 5, 5]  [8, 32, 12, 126, 169]       4032.0  1.022112e+09\n",
       "1_bn1                 [32]  [8, 32, 12, 126, 169]         64.0  3.200000e+01\n",
       "2_relu                   -  [8, 32, 12, 126, 169]          NaN           NaN\n",
       "3_drop                   -  [8, 32, 12, 126, 169]          NaN           NaN\n",
       "4_conv2  [32, 48, 3, 3, 3]     [8, 48, 5, 62, 84]      41520.0  1.079931e+09\n",
       "5_bn2                 [48]     [8, 48, 5, 62, 84]         96.0  4.800000e+01\n",
       "6_relu                   -     [8, 48, 5, 62, 84]          NaN           NaN\n",
       "7_drop                   -     [8, 48, 5, 62, 84]          NaN           NaN\n",
       "8_fc1       [1249920, 256]               [8, 256]  319979776.0  3.199795e+08\n",
       "9_fc2           [256, 256]               [8, 256]      65792.0  6.553600e+04\n",
       "10_fc3          [256, 101]               [8, 101]      25957.0  2.585600e+04"
      ]
     },
     "execution_count": 24,
     "metadata": {},
     "output_type": "execute_result"
    }
   ],
   "source": [
    "model = cnn3d.cpu()\n",
    "summary(model, torch.zeros((8, 1, 28, 256, 342)))"
   ]
  },
  {
   "cell_type": "code",
   "execution_count": 28,
   "metadata": {},
   "outputs": [],
   "source": [
    "from torchviz import make_dot, make_dot_from_trace"
   ]
  },
  {
   "cell_type": "code",
   "execution_count": 29,
   "metadata": {},
   "outputs": [
    {
     "data": {
      "image/svg+xml": [
       "<?xml version=\"1.0\" encoding=\"UTF-8\" standalone=\"no\"?>\n",
       "<!DOCTYPE svg PUBLIC \"-//W3C//DTD SVG 1.1//EN\"\n",
       " \"http://www.w3.org/Graphics/SVG/1.1/DTD/svg11.dtd\">\n",
       "<!-- Generated by graphviz version 2.40.1 (20161225.0304)\n",
       " -->\n",
       "<!-- Title: %3 Pages: 1 -->\n",
       "<svg width=\"608pt\" height=\"843pt\"\n",
       " viewBox=\"0.00 0.00 608.00 843.00\" xmlns=\"http://www.w3.org/2000/svg\" xmlns:xlink=\"http://www.w3.org/1999/xlink\">\n",
       "<g id=\"graph0\" class=\"graph\" transform=\"scale(1 1) rotate(0) translate(4 839)\">\n",
       "<title>%3</title>\n",
       "<polygon fill=\"#ffffff\" stroke=\"transparent\" points=\"-4,4 -4,-839 604,-839 604,4 -4,4\"/>\n",
       "<!-- 139761797391696 -->\n",
       "<g id=\"node1\" class=\"node\">\n",
       "<title>139761797391696</title>\n",
       "<polygon fill=\"#caff70\" stroke=\"#000000\" points=\"498.5,-21 394.5,-21 394.5,0 498.5,0 498.5,-21\"/>\n",
       "<text text-anchor=\"middle\" x=\"446.5\" y=\"-7.4\" font-family=\"Times,serif\" font-size=\"12.00\" fill=\"#000000\">AddmmBackward</text>\n",
       "</g>\n",
       "<!-- 139761797392088 -->\n",
       "<g id=\"node2\" class=\"node\">\n",
       "<title>139761797392088</title>\n",
       "<polygon fill=\"#add8e6\" stroke=\"#000000\" points=\"381.5,-91 327.5,-91 327.5,-57 381.5,-57 381.5,-91\"/>\n",
       "<text text-anchor=\"middle\" x=\"354.5\" y=\"-77.4\" font-family=\"Times,serif\" font-size=\"12.00\" fill=\"#000000\">fc3.bias</text>\n",
       "<text text-anchor=\"middle\" x=\"354.5\" y=\"-64.4\" font-family=\"Times,serif\" font-size=\"12.00\" fill=\"#000000\"> (101)</text>\n",
       "</g>\n",
       "<!-- 139761797392088&#45;&gt;139761797391696 -->\n",
       "<g id=\"edge1\" class=\"edge\">\n",
       "<title>139761797392088&#45;&gt;139761797391696</title>\n",
       "<path fill=\"none\" stroke=\"#000000\" d=\"M379.1543,-56.9832C392.6894,-47.641 409.3926,-36.1122 422.778,-26.8734\"/>\n",
       "<polygon fill=\"#000000\" stroke=\"#000000\" points=\"424.7865,-29.7398 431.0283,-21.1788 420.8102,-23.9788 424.7865,-29.7398\"/>\n",
       "</g>\n",
       "<!-- 139761797391528 -->\n",
       "<g id=\"node3\" class=\"node\">\n",
       "<title>139761797391528</title>\n",
       "<polygon fill=\"#d3d3d3\" stroke=\"#000000\" points=\"493.5,-84.5 399.5,-84.5 399.5,-63.5 493.5,-63.5 493.5,-84.5\"/>\n",
       "<text text-anchor=\"middle\" x=\"446.5\" y=\"-70.9\" font-family=\"Times,serif\" font-size=\"12.00\" fill=\"#000000\">ReluBackward0</text>\n",
       "</g>\n",
       "<!-- 139761797391528&#45;&gt;139761797391696 -->\n",
       "<g id=\"edge2\" class=\"edge\">\n",
       "<title>139761797391528&#45;&gt;139761797391696</title>\n",
       "<path fill=\"none\" stroke=\"#000000\" d=\"M446.5,-63.2281C446.5,-54.5091 446.5,-41.9699 446.5,-31.3068\"/>\n",
       "<polygon fill=\"#000000\" stroke=\"#000000\" points=\"450.0001,-31.1128 446.5,-21.1128 443.0001,-31.1129 450.0001,-31.1128\"/>\n",
       "</g>\n",
       "<!-- 139761797391976 -->\n",
       "<g id=\"node4\" class=\"node\">\n",
       "<title>139761797391976</title>\n",
       "<polygon fill=\"#d3d3d3\" stroke=\"#000000\" points=\"497.5,-154.5 393.5,-154.5 393.5,-133.5 497.5,-133.5 497.5,-154.5\"/>\n",
       "<text text-anchor=\"middle\" x=\"445.5\" y=\"-140.9\" font-family=\"Times,serif\" font-size=\"12.00\" fill=\"#000000\">AddmmBackward</text>\n",
       "</g>\n",
       "<!-- 139761797391976&#45;&gt;139761797391528 -->\n",
       "<g id=\"edge3\" class=\"edge\">\n",
       "<title>139761797391976&#45;&gt;139761797391528</title>\n",
       "<path fill=\"none\" stroke=\"#000000\" d=\"M445.6519,-133.3685C445.7972,-123.1925 446.0206,-107.5606 446.2016,-94.8912\"/>\n",
       "<polygon fill=\"#000000\" stroke=\"#000000\" points=\"449.7034,-94.7806 446.3467,-84.7315 442.7041,-94.6805 449.7034,-94.7806\"/>\n",
       "</g>\n",
       "<!-- 139761797393208 -->\n",
       "<g id=\"node5\" class=\"node\">\n",
       "<title>139761797393208</title>\n",
       "<polygon fill=\"#add8e6\" stroke=\"#000000\" points=\"380.5,-231 326.5,-231 326.5,-197 380.5,-197 380.5,-231\"/>\n",
       "<text text-anchor=\"middle\" x=\"353.5\" y=\"-217.4\" font-family=\"Times,serif\" font-size=\"12.00\" fill=\"#000000\">fc2.bias</text>\n",
       "<text text-anchor=\"middle\" x=\"353.5\" y=\"-204.4\" font-family=\"Times,serif\" font-size=\"12.00\" fill=\"#000000\"> (256)</text>\n",
       "</g>\n",
       "<!-- 139761797393208&#45;&gt;139761797391976 -->\n",
       "<g id=\"edge4\" class=\"edge\">\n",
       "<title>139761797393208&#45;&gt;139761797391976</title>\n",
       "<path fill=\"none\" stroke=\"#000000\" d=\"M376.2416,-196.6966C390.6068,-185.7666 409.0787,-171.7119 423.3325,-160.8666\"/>\n",
       "<polygon fill=\"#000000\" stroke=\"#000000\" points=\"425.7491,-163.4258 431.5881,-154.5852 421.5104,-157.855 425.7491,-163.4258\"/>\n",
       "</g>\n",
       "<!-- 139761797391864 -->\n",
       "<g id=\"node6\" class=\"node\">\n",
       "<title>139761797391864</title>\n",
       "<polygon fill=\"#d3d3d3\" stroke=\"#000000\" points=\"492.5,-224.5 398.5,-224.5 398.5,-203.5 492.5,-203.5 492.5,-224.5\"/>\n",
       "<text text-anchor=\"middle\" x=\"445.5\" y=\"-210.9\" font-family=\"Times,serif\" font-size=\"12.00\" fill=\"#000000\">ReluBackward0</text>\n",
       "</g>\n",
       "<!-- 139761797391864&#45;&gt;139761797391976 -->\n",
       "<g id=\"edge5\" class=\"edge\">\n",
       "<title>139761797391864&#45;&gt;139761797391976</title>\n",
       "<path fill=\"none\" stroke=\"#000000\" d=\"M445.5,-203.3685C445.5,-193.1925 445.5,-177.5606 445.5,-164.8912\"/>\n",
       "<polygon fill=\"#000000\" stroke=\"#000000\" points=\"449.0001,-164.7315 445.5,-154.7315 442.0001,-164.7316 449.0001,-164.7315\"/>\n",
       "</g>\n",
       "<!-- 139761797391304 -->\n",
       "<g id=\"node7\" class=\"node\">\n",
       "<title>139761797391304</title>\n",
       "<polygon fill=\"#d3d3d3\" stroke=\"#000000\" points=\"496.5,-294.5 392.5,-294.5 392.5,-273.5 496.5,-273.5 496.5,-294.5\"/>\n",
       "<text text-anchor=\"middle\" x=\"444.5\" y=\"-280.9\" font-family=\"Times,serif\" font-size=\"12.00\" fill=\"#000000\">AddmmBackward</text>\n",
       "</g>\n",
       "<!-- 139761797391304&#45;&gt;139761797391864 -->\n",
       "<g id=\"edge6\" class=\"edge\">\n",
       "<title>139761797391304&#45;&gt;139761797391864</title>\n",
       "<path fill=\"none\" stroke=\"#000000\" d=\"M444.6519,-273.3685C444.7972,-263.1925 445.0206,-247.5606 445.2016,-234.8912\"/>\n",
       "<polygon fill=\"#000000\" stroke=\"#000000\" points=\"448.7034,-234.7806 445.3467,-224.7315 441.7041,-234.6805 448.7034,-234.7806\"/>\n",
       "</g>\n",
       "<!-- 139761797391640 -->\n",
       "<g id=\"node8\" class=\"node\">\n",
       "<title>139761797391640</title>\n",
       "<polygon fill=\"#add8e6\" stroke=\"#000000\" points=\"380.5,-371 326.5,-371 326.5,-337 380.5,-337 380.5,-371\"/>\n",
       "<text text-anchor=\"middle\" x=\"353.5\" y=\"-357.4\" font-family=\"Times,serif\" font-size=\"12.00\" fill=\"#000000\">fc1.bias</text>\n",
       "<text text-anchor=\"middle\" x=\"353.5\" y=\"-344.4\" font-family=\"Times,serif\" font-size=\"12.00\" fill=\"#000000\"> (256)</text>\n",
       "</g>\n",
       "<!-- 139761797391640&#45;&gt;139761797391304 -->\n",
       "<g id=\"edge7\" class=\"edge\">\n",
       "<title>139761797391640&#45;&gt;139761797391304</title>\n",
       "<path fill=\"none\" stroke=\"#000000\" d=\"M375.9944,-336.6966C390.2034,-325.7666 408.4745,-311.7119 422.5735,-300.8666\"/>\n",
       "<polygon fill=\"#000000\" stroke=\"#000000\" points=\"424.947,-303.4565 430.7393,-294.5852 420.679,-297.9081 424.947,-303.4565\"/>\n",
       "</g>\n",
       "<!-- 139761797390688 -->\n",
       "<g id=\"node9\" class=\"node\">\n",
       "<title>139761797390688</title>\n",
       "<polygon fill=\"#d3d3d3\" stroke=\"#000000\" points=\"490.5,-364.5 398.5,-364.5 398.5,-343.5 490.5,-343.5 490.5,-364.5\"/>\n",
       "<text text-anchor=\"middle\" x=\"444.5\" y=\"-350.9\" font-family=\"Times,serif\" font-size=\"12.00\" fill=\"#000000\">ViewBackward</text>\n",
       "</g>\n",
       "<!-- 139761797390688&#45;&gt;139761797391304 -->\n",
       "<g id=\"edge8\" class=\"edge\">\n",
       "<title>139761797390688&#45;&gt;139761797391304</title>\n",
       "<path fill=\"none\" stroke=\"#000000\" d=\"M444.5,-343.3685C444.5,-333.1925 444.5,-317.5606 444.5,-304.8912\"/>\n",
       "<polygon fill=\"#000000\" stroke=\"#000000\" points=\"448.0001,-304.7315 444.5,-294.7315 441.0001,-304.7316 448.0001,-304.7315\"/>\n",
       "</g>\n",
       "<!-- 139761797393488 -->\n",
       "<g id=\"node10\" class=\"node\">\n",
       "<title>139761797393488</title>\n",
       "<polygon fill=\"#d3d3d3\" stroke=\"#000000\" points=\"488.5,-434.5 394.5,-434.5 394.5,-413.5 488.5,-413.5 488.5,-434.5\"/>\n",
       "<text text-anchor=\"middle\" x=\"441.5\" y=\"-420.9\" font-family=\"Times,serif\" font-size=\"12.00\" fill=\"#000000\">ReluBackward1</text>\n",
       "</g>\n",
       "<!-- 139761797393488&#45;&gt;139761797390688 -->\n",
       "<g id=\"edge9\" class=\"edge\">\n",
       "<title>139761797393488&#45;&gt;139761797390688</title>\n",
       "<path fill=\"none\" stroke=\"#000000\" d=\"M441.9556,-413.3685C442.3917,-403.1925 443.0617,-387.5606 443.6047,-374.8912\"/>\n",
       "<polygon fill=\"#000000\" stroke=\"#000000\" points=\"447.1086,-374.8723 444.0401,-364.7315 440.115,-374.5725 447.1086,-374.8723\"/>\n",
       "</g>\n",
       "<!-- 139761797393824 -->\n",
       "<g id=\"node11\" class=\"node\">\n",
       "<title>139761797393824</title>\n",
       "<polygon fill=\"#d3d3d3\" stroke=\"#000000\" points=\"517.5,-498 365.5,-498 365.5,-477 517.5,-477 517.5,-498\"/>\n",
       "<text text-anchor=\"middle\" x=\"441.5\" y=\"-484.4\" font-family=\"Times,serif\" font-size=\"12.00\" fill=\"#000000\">NativeBatchNormBackward</text>\n",
       "</g>\n",
       "<!-- 139761797393824&#45;&gt;139761797393488 -->\n",
       "<g id=\"edge10\" class=\"edge\">\n",
       "<title>139761797393824&#45;&gt;139761797393488</title>\n",
       "<path fill=\"none\" stroke=\"#000000\" d=\"M441.5,-476.7281C441.5,-468.0091 441.5,-455.4699 441.5,-444.8068\"/>\n",
       "<polygon fill=\"#000000\" stroke=\"#000000\" points=\"445.0001,-444.6128 441.5,-434.6128 438.0001,-444.6129 445.0001,-444.6128\"/>\n",
       "</g>\n",
       "<!-- 139761797393656 -->\n",
       "<g id=\"node12\" class=\"node\">\n",
       "<title>139761797393656</title>\n",
       "<polygon fill=\"#d3d3d3\" stroke=\"#000000\" points=\"388.5,-561.5 256.5,-561.5 256.5,-540.5 388.5,-540.5 388.5,-561.5\"/>\n",
       "<text text-anchor=\"middle\" x=\"322.5\" y=\"-547.9\" font-family=\"Times,serif\" font-size=\"12.00\" fill=\"#000000\">ThnnConv3DBackward</text>\n",
       "</g>\n",
       "<!-- 139761797393656&#45;&gt;139761797393824 -->\n",
       "<g id=\"edge11\" class=\"edge\">\n",
       "<title>139761797393656&#45;&gt;139761797393824</title>\n",
       "<path fill=\"none\" stroke=\"#000000\" d=\"M342.4179,-540.3715C361.553,-530.1608 390.6839,-514.6162 412.4131,-503.0212\"/>\n",
       "<polygon fill=\"#000000\" stroke=\"#000000\" points=\"414.3423,-505.9589 421.5171,-498.1631 411.0468,-499.7831 414.3423,-505.9589\"/>\n",
       "</g>\n",
       "<!-- 139761797393880 -->\n",
       "<g id=\"node13\" class=\"node\">\n",
       "<title>139761797393880</title>\n",
       "<polygon fill=\"#d3d3d3\" stroke=\"#000000\" points=\"257.5,-631.5 163.5,-631.5 163.5,-610.5 257.5,-610.5 257.5,-631.5\"/>\n",
       "<text text-anchor=\"middle\" x=\"210.5\" y=\"-617.9\" font-family=\"Times,serif\" font-size=\"12.00\" fill=\"#000000\">ReluBackward1</text>\n",
       "</g>\n",
       "<!-- 139761797393880&#45;&gt;139761797393656 -->\n",
       "<g id=\"edge12\" class=\"edge\">\n",
       "<title>139761797393880&#45;&gt;139761797393656</title>\n",
       "<path fill=\"none\" stroke=\"#000000\" d=\"M227.5104,-610.3685C246.0371,-598.7893 275.8665,-580.1459 297.1541,-566.8412\"/>\n",
       "<polygon fill=\"#000000\" stroke=\"#000000\" points=\"299.0715,-569.7702 305.6965,-561.5022 295.3615,-563.8342 299.0715,-569.7702\"/>\n",
       "</g>\n",
       "<!-- 139761797390464 -->\n",
       "<g id=\"node14\" class=\"node\">\n",
       "<title>139761797390464</title>\n",
       "<polygon fill=\"#d3d3d3\" stroke=\"#000000\" points=\"286.5,-695 134.5,-695 134.5,-674 286.5,-674 286.5,-695\"/>\n",
       "<text text-anchor=\"middle\" x=\"210.5\" y=\"-681.4\" font-family=\"Times,serif\" font-size=\"12.00\" fill=\"#000000\">NativeBatchNormBackward</text>\n",
       "</g>\n",
       "<!-- 139761797390464&#45;&gt;139761797393880 -->\n",
       "<g id=\"edge13\" class=\"edge\">\n",
       "<title>139761797390464&#45;&gt;139761797393880</title>\n",
       "<path fill=\"none\" stroke=\"#000000\" d=\"M210.5,-673.7281C210.5,-665.0091 210.5,-652.4699 210.5,-641.8068\"/>\n",
       "<polygon fill=\"#000000\" stroke=\"#000000\" points=\"214.0001,-641.6128 210.5,-631.6128 207.0001,-641.6129 214.0001,-641.6128\"/>\n",
       "</g>\n",
       "<!-- 139761797390576 -->\n",
       "<g id=\"node15\" class=\"node\">\n",
       "<title>139761797390576</title>\n",
       "<polygon fill=\"#d3d3d3\" stroke=\"#000000\" points=\"157.5,-758.5 25.5,-758.5 25.5,-737.5 157.5,-737.5 157.5,-758.5\"/>\n",
       "<text text-anchor=\"middle\" x=\"91.5\" y=\"-744.9\" font-family=\"Times,serif\" font-size=\"12.00\" fill=\"#000000\">ThnnConv3DBackward</text>\n",
       "</g>\n",
       "<!-- 139761797390576&#45;&gt;139761797390464 -->\n",
       "<g id=\"edge14\" class=\"edge\">\n",
       "<title>139761797390576&#45;&gt;139761797390464</title>\n",
       "<path fill=\"none\" stroke=\"#000000\" d=\"M111.4179,-737.3715C130.553,-727.1608 159.6839,-711.6162 181.4131,-700.0212\"/>\n",
       "<polygon fill=\"#000000\" stroke=\"#000000\" points=\"183.3423,-702.9589 190.5171,-695.1631 180.0468,-696.7831 183.3423,-702.9589\"/>\n",
       "</g>\n",
       "<!-- 139761795914496 -->\n",
       "<g id=\"node16\" class=\"node\">\n",
       "<title>139761795914496</title>\n",
       "<polygon fill=\"#add8e6\" stroke=\"#000000\" points=\"87,-835 0,-835 0,-801 87,-801 87,-835\"/>\n",
       "<text text-anchor=\"middle\" x=\"43.5\" y=\"-821.4\" font-family=\"Times,serif\" font-size=\"12.00\" fill=\"#000000\">conv1.weight</text>\n",
       "<text text-anchor=\"middle\" x=\"43.5\" y=\"-808.4\" font-family=\"Times,serif\" font-size=\"12.00\" fill=\"#000000\"> (32, 1, 5, 5, 5)</text>\n",
       "</g>\n",
       "<!-- 139761795914496&#45;&gt;139761797390576 -->\n",
       "<g id=\"edge15\" class=\"edge\">\n",
       "<title>139761795914496&#45;&gt;139761797390576</title>\n",
       "<path fill=\"none\" stroke=\"#000000\" d=\"M55.3652,-800.6966C62.3222,-790.551 71.1253,-777.7131 78.3008,-767.2488\"/>\n",
       "<polygon fill=\"#000000\" stroke=\"#000000\" points=\"81.3315,-769.0179 84.1003,-758.7913 75.5584,-765.0592 81.3315,-769.0179\"/>\n",
       "</g>\n",
       "<!-- 139761800680168 -->\n",
       "<g id=\"node17\" class=\"node\">\n",
       "<title>139761800680168</title>\n",
       "<polygon fill=\"#add8e6\" stroke=\"#000000\" points=\"173.5,-835 105.5,-835 105.5,-801 173.5,-801 173.5,-835\"/>\n",
       "<text text-anchor=\"middle\" x=\"139.5\" y=\"-821.4\" font-family=\"Times,serif\" font-size=\"12.00\" fill=\"#000000\">conv1.bias</text>\n",
       "<text text-anchor=\"middle\" x=\"139.5\" y=\"-808.4\" font-family=\"Times,serif\" font-size=\"12.00\" fill=\"#000000\"> (32)</text>\n",
       "</g>\n",
       "<!-- 139761800680168&#45;&gt;139761797390576 -->\n",
       "<g id=\"edge16\" class=\"edge\">\n",
       "<title>139761800680168&#45;&gt;139761797390576</title>\n",
       "<path fill=\"none\" stroke=\"#000000\" d=\"M127.6348,-800.6966C120.6778,-790.551 111.8747,-777.7131 104.6992,-767.2488\"/>\n",
       "<polygon fill=\"#000000\" stroke=\"#000000\" points=\"107.4416,-765.0592 98.8997,-758.7913 101.6685,-769.0179 107.4416,-765.0592\"/>\n",
       "</g>\n",
       "<!-- 139761798697648 -->\n",
       "<g id=\"node18\" class=\"node\">\n",
       "<title>139761798697648</title>\n",
       "<polygon fill=\"#add8e6\" stroke=\"#000000\" points=\"245.5,-765 175.5,-765 175.5,-731 245.5,-731 245.5,-765\"/>\n",
       "<text text-anchor=\"middle\" x=\"210.5\" y=\"-751.4\" font-family=\"Times,serif\" font-size=\"12.00\" fill=\"#000000\">bn1.weight</text>\n",
       "<text text-anchor=\"middle\" x=\"210.5\" y=\"-738.4\" font-family=\"Times,serif\" font-size=\"12.00\" fill=\"#000000\"> (32)</text>\n",
       "</g>\n",
       "<!-- 139761798697648&#45;&gt;139761797390464 -->\n",
       "<g id=\"edge17\" class=\"edge\">\n",
       "<title>139761798697648&#45;&gt;139761797390464</title>\n",
       "<path fill=\"none\" stroke=\"#000000\" d=\"M210.5,-730.9832C210.5,-723.1157 210.5,-713.6973 210.5,-705.4019\"/>\n",
       "<polygon fill=\"#000000\" stroke=\"#000000\" points=\"214.0001,-705.3686 210.5,-695.3687 207.0001,-705.3687 214.0001,-705.3686\"/>\n",
       "</g>\n",
       "<!-- 139761798700504 -->\n",
       "<g id=\"node19\" class=\"node\">\n",
       "<title>139761798700504</title>\n",
       "<polygon fill=\"#add8e6\" stroke=\"#000000\" points=\"319.5,-765 263.5,-765 263.5,-731 319.5,-731 319.5,-765\"/>\n",
       "<text text-anchor=\"middle\" x=\"291.5\" y=\"-751.4\" font-family=\"Times,serif\" font-size=\"12.00\" fill=\"#000000\">bn1.bias</text>\n",
       "<text text-anchor=\"middle\" x=\"291.5\" y=\"-738.4\" font-family=\"Times,serif\" font-size=\"12.00\" fill=\"#000000\"> (32)</text>\n",
       "</g>\n",
       "<!-- 139761798700504&#45;&gt;139761797390464 -->\n",
       "<g id=\"edge18\" class=\"edge\">\n",
       "<title>139761798700504&#45;&gt;139761797390464</title>\n",
       "<path fill=\"none\" stroke=\"#000000\" d=\"M269.7935,-730.9832C258.1791,-721.8781 243.9152,-710.6959 232.2884,-701.581\"/>\n",
       "<polygon fill=\"#000000\" stroke=\"#000000\" points=\"234.3933,-698.7839 224.364,-695.3687 230.0745,-704.2928 234.3933,-698.7839\"/>\n",
       "</g>\n",
       "<!-- 139761797392872 -->\n",
       "<g id=\"node20\" class=\"node\">\n",
       "<title>139761797392872</title>\n",
       "<polygon fill=\"#add8e6\" stroke=\"#000000\" points=\"369,-638 276,-638 276,-604 369,-604 369,-638\"/>\n",
       "<text text-anchor=\"middle\" x=\"322.5\" y=\"-624.4\" font-family=\"Times,serif\" font-size=\"12.00\" fill=\"#000000\">conv2.weight</text>\n",
       "<text text-anchor=\"middle\" x=\"322.5\" y=\"-611.4\" font-family=\"Times,serif\" font-size=\"12.00\" fill=\"#000000\"> (48, 32, 3, 3, 3)</text>\n",
       "</g>\n",
       "<!-- 139761797392872&#45;&gt;139761797393656 -->\n",
       "<g id=\"edge19\" class=\"edge\">\n",
       "<title>139761797392872&#45;&gt;139761797393656</title>\n",
       "<path fill=\"none\" stroke=\"#000000\" d=\"M322.5,-603.6966C322.5,-594.0634 322.5,-582.003 322.5,-571.8518\"/>\n",
       "<polygon fill=\"#000000\" stroke=\"#000000\" points=\"326.0001,-571.7912 322.5,-561.7913 319.0001,-571.7913 326.0001,-571.7912\"/>\n",
       "</g>\n",
       "<!-- 139761797394048 -->\n",
       "<g id=\"node21\" class=\"node\">\n",
       "<title>139761797394048</title>\n",
       "<polygon fill=\"#add8e6\" stroke=\"#000000\" points=\"455.5,-638 387.5,-638 387.5,-604 455.5,-604 455.5,-638\"/>\n",
       "<text text-anchor=\"middle\" x=\"421.5\" y=\"-624.4\" font-family=\"Times,serif\" font-size=\"12.00\" fill=\"#000000\">conv2.bias</text>\n",
       "<text text-anchor=\"middle\" x=\"421.5\" y=\"-611.4\" font-family=\"Times,serif\" font-size=\"12.00\" fill=\"#000000\"> (48)</text>\n",
       "</g>\n",
       "<!-- 139761797394048&#45;&gt;139761797393656 -->\n",
       "<g id=\"edge20\" class=\"edge\">\n",
       "<title>139761797394048&#45;&gt;139761797393656</title>\n",
       "<path fill=\"none\" stroke=\"#000000\" d=\"M397.2819,-603.8761C381.6821,-592.8459 361.5029,-578.5778 346.0386,-567.6435\"/>\n",
       "<polygon fill=\"#000000\" stroke=\"#000000\" points=\"347.7344,-564.556 337.5486,-561.6404 343.693,-570.2716 347.7344,-564.556\"/>\n",
       "</g>\n",
       "<!-- 139761797393712 -->\n",
       "<g id=\"node22\" class=\"node\">\n",
       "<title>139761797393712</title>\n",
       "<polygon fill=\"#add8e6\" stroke=\"#000000\" points=\"476.5,-568 406.5,-568 406.5,-534 476.5,-534 476.5,-568\"/>\n",
       "<text text-anchor=\"middle\" x=\"441.5\" y=\"-554.4\" font-family=\"Times,serif\" font-size=\"12.00\" fill=\"#000000\">bn2.weight</text>\n",
       "<text text-anchor=\"middle\" x=\"441.5\" y=\"-541.4\" font-family=\"Times,serif\" font-size=\"12.00\" fill=\"#000000\"> (48)</text>\n",
       "</g>\n",
       "<!-- 139761797393712&#45;&gt;139761797393824 -->\n",
       "<g id=\"edge21\" class=\"edge\">\n",
       "<title>139761797393712&#45;&gt;139761797393824</title>\n",
       "<path fill=\"none\" stroke=\"#000000\" d=\"M441.5,-533.9832C441.5,-526.1157 441.5,-516.6973 441.5,-508.4019\"/>\n",
       "<polygon fill=\"#000000\" stroke=\"#000000\" points=\"445.0001,-508.3686 441.5,-498.3687 438.0001,-508.3687 445.0001,-508.3686\"/>\n",
       "</g>\n",
       "<!-- 139761797392928 -->\n",
       "<g id=\"node23\" class=\"node\">\n",
       "<title>139761797392928</title>\n",
       "<polygon fill=\"#add8e6\" stroke=\"#000000\" points=\"550.5,-568 494.5,-568 494.5,-534 550.5,-534 550.5,-568\"/>\n",
       "<text text-anchor=\"middle\" x=\"522.5\" y=\"-554.4\" font-family=\"Times,serif\" font-size=\"12.00\" fill=\"#000000\">bn2.bias</text>\n",
       "<text text-anchor=\"middle\" x=\"522.5\" y=\"-541.4\" font-family=\"Times,serif\" font-size=\"12.00\" fill=\"#000000\"> (48)</text>\n",
       "</g>\n",
       "<!-- 139761797392928&#45;&gt;139761797393824 -->\n",
       "<g id=\"edge22\" class=\"edge\">\n",
       "<title>139761797392928&#45;&gt;139761797393824</title>\n",
       "<path fill=\"none\" stroke=\"#000000\" d=\"M500.7935,-533.9832C489.1791,-524.8781 474.9152,-513.6959 463.2884,-504.581\"/>\n",
       "<polygon fill=\"#000000\" stroke=\"#000000\" points=\"465.3933,-501.7839 455.364,-498.3687 461.0745,-507.2928 465.3933,-501.7839\"/>\n",
       "</g>\n",
       "<!-- 139761797393320 -->\n",
       "<g id=\"node24\" class=\"node\">\n",
       "<title>139761797393320</title>\n",
       "<polygon fill=\"#d3d3d3\" stroke=\"#000000\" points=\"587,-364.5 514,-364.5 514,-343.5 587,-343.5 587,-364.5\"/>\n",
       "<text text-anchor=\"middle\" x=\"550.5\" y=\"-350.9\" font-family=\"Times,serif\" font-size=\"12.00\" fill=\"#000000\">TBackward</text>\n",
       "</g>\n",
       "<!-- 139761797393320&#45;&gt;139761797391304 -->\n",
       "<g id=\"edge23\" class=\"edge\">\n",
       "<title>139761797393320&#45;&gt;139761797391304</title>\n",
       "<path fill=\"none\" stroke=\"#000000\" d=\"M534.4009,-343.3685C516.945,-331.841 488.8871,-313.3123 468.7584,-300.0197\"/>\n",
       "<polygon fill=\"#000000\" stroke=\"#000000\" points=\"470.6767,-297.0922 460.4033,-294.5022 466.8192,-302.9335 470.6767,-297.0922\"/>\n",
       "</g>\n",
       "<!-- 139761798699608 -->\n",
       "<g id=\"node25\" class=\"node\">\n",
       "<title>139761798699608</title>\n",
       "<polygon fill=\"#add8e6\" stroke=\"#000000\" points=\"600,-441 507,-441 507,-407 600,-407 600,-441\"/>\n",
       "<text text-anchor=\"middle\" x=\"553.5\" y=\"-427.4\" font-family=\"Times,serif\" font-size=\"12.00\" fill=\"#000000\">fc1.weight</text>\n",
       "<text text-anchor=\"middle\" x=\"553.5\" y=\"-414.4\" font-family=\"Times,serif\" font-size=\"12.00\" fill=\"#000000\"> (256, 1249920)</text>\n",
       "</g>\n",
       "<!-- 139761798699608&#45;&gt;139761797393320 -->\n",
       "<g id=\"edge24\" class=\"edge\">\n",
       "<title>139761798699608&#45;&gt;139761797393320</title>\n",
       "<path fill=\"none\" stroke=\"#000000\" d=\"M552.7584,-406.6966C552.3456,-397.0634 551.8287,-385.003 551.3937,-374.8518\"/>\n",
       "<polygon fill=\"#000000\" stroke=\"#000000\" points=\"554.8875,-374.6322 550.9625,-364.7913 547.894,-374.932 554.8875,-374.6322\"/>\n",
       "</g>\n",
       "<!-- 139761797393768 -->\n",
       "<g id=\"node26\" class=\"node\">\n",
       "<title>139761797393768</title>\n",
       "<polygon fill=\"#d3d3d3\" stroke=\"#000000\" points=\"585,-224.5 512,-224.5 512,-203.5 585,-203.5 585,-224.5\"/>\n",
       "<text text-anchor=\"middle\" x=\"548.5\" y=\"-210.9\" font-family=\"Times,serif\" font-size=\"12.00\" fill=\"#000000\">TBackward</text>\n",
       "</g>\n",
       "<!-- 139761797393768&#45;&gt;139761797391976 -->\n",
       "<g id=\"edge25\" class=\"edge\">\n",
       "<title>139761797393768&#45;&gt;139761797391976</title>\n",
       "<path fill=\"none\" stroke=\"#000000\" d=\"M532.8565,-203.3685C515.9707,-191.8927 488.8752,-173.4783 469.3354,-160.1988\"/>\n",
       "<polygon fill=\"#000000\" stroke=\"#000000\" points=\"471.1913,-157.2284 460.9532,-154.5022 467.2567,-163.0179 471.1913,-157.2284\"/>\n",
       "</g>\n",
       "<!-- 139761797391472 -->\n",
       "<g id=\"node27\" class=\"node\">\n",
       "<title>139761797391472</title>\n",
       "<polygon fill=\"#add8e6\" stroke=\"#000000\" points=\"584,-301 515,-301 515,-267 584,-267 584,-301\"/>\n",
       "<text text-anchor=\"middle\" x=\"549.5\" y=\"-287.4\" font-family=\"Times,serif\" font-size=\"12.00\" fill=\"#000000\">fc2.weight</text>\n",
       "<text text-anchor=\"middle\" x=\"549.5\" y=\"-274.4\" font-family=\"Times,serif\" font-size=\"12.00\" fill=\"#000000\"> (256, 256)</text>\n",
       "</g>\n",
       "<!-- 139761797391472&#45;&gt;139761797393768 -->\n",
       "<g id=\"edge26\" class=\"edge\">\n",
       "<title>139761797391472&#45;&gt;139761797393768</title>\n",
       "<path fill=\"none\" stroke=\"#000000\" d=\"M549.2528,-266.6966C549.1152,-257.0634 548.9429,-245.003 548.7979,-234.8518\"/>\n",
       "<polygon fill=\"#000000\" stroke=\"#000000\" points=\"552.2967,-234.7402 548.6542,-224.7913 545.2975,-234.8403 552.2967,-234.7402\"/>\n",
       "</g>\n",
       "<!-- 139761797391752 -->\n",
       "<g id=\"node28\" class=\"node\">\n",
       "<title>139761797391752</title>\n",
       "<polygon fill=\"#d3d3d3\" stroke=\"#000000\" points=\"586,-84.5 513,-84.5 513,-63.5 586,-63.5 586,-84.5\"/>\n",
       "<text text-anchor=\"middle\" x=\"549.5\" y=\"-70.9\" font-family=\"Times,serif\" font-size=\"12.00\" fill=\"#000000\">TBackward</text>\n",
       "</g>\n",
       "<!-- 139761797391752&#45;&gt;139761797391696 -->\n",
       "<g id=\"edge27\" class=\"edge\">\n",
       "<title>139761797391752&#45;&gt;139761797391696</title>\n",
       "<path fill=\"none\" stroke=\"#000000\" d=\"M532.0275,-63.2281C515.6519,-53.1325 490.9682,-37.9149 472.3209,-26.4187\"/>\n",
       "<polygon fill=\"#000000\" stroke=\"#000000\" points=\"474.0636,-23.3814 463.7145,-21.1128 470.3901,-29.3401 474.0636,-23.3814\"/>\n",
       "</g>\n",
       "<!-- 139761797391808 -->\n",
       "<g id=\"node29\" class=\"node\">\n",
       "<title>139761797391808</title>\n",
       "<polygon fill=\"#add8e6\" stroke=\"#000000\" points=\"585,-161 516,-161 516,-127 585,-127 585,-161\"/>\n",
       "<text text-anchor=\"middle\" x=\"550.5\" y=\"-147.4\" font-family=\"Times,serif\" font-size=\"12.00\" fill=\"#000000\">fc3.weight</text>\n",
       "<text text-anchor=\"middle\" x=\"550.5\" y=\"-134.4\" font-family=\"Times,serif\" font-size=\"12.00\" fill=\"#000000\"> (101, 256)</text>\n",
       "</g>\n",
       "<!-- 139761797391808&#45;&gt;139761797391752 -->\n",
       "<g id=\"edge28\" class=\"edge\">\n",
       "<title>139761797391808&#45;&gt;139761797391752</title>\n",
       "<path fill=\"none\" stroke=\"#000000\" d=\"M550.2528,-126.6966C550.1152,-117.0634 549.9429,-105.003 549.7979,-94.8518\"/>\n",
       "<polygon fill=\"#000000\" stroke=\"#000000\" points=\"553.2967,-94.7402 549.6542,-84.7913 546.2975,-94.8403 553.2967,-94.7402\"/>\n",
       "</g>\n",
       "</g>\n",
       "</svg>\n"
      ],
      "text/plain": [
       "<graphviz.dot.Digraph at 0x7f1cd45ba630>"
      ]
     },
     "execution_count": 29,
     "metadata": {},
     "output_type": "execute_result"
    }
   ],
   "source": [
    "make_dot(model(torch.zeros((8, 1, 28, 256, 342))), params = dict(model.named_parameters()))"
   ]
  },
  {
   "cell_type": "code",
   "execution_count": null,
   "metadata": {},
   "outputs": [],
   "source": []
  },
  {
   "cell_type": "code",
   "execution_count": null,
   "metadata": {},
   "outputs": [],
   "source": []
  },
  {
   "cell_type": "markdown",
   "metadata": {},
   "source": [
    "## Prepare for training"
   ]
  },
  {
   "cell_type": "code",
   "execution_count": 11,
   "metadata": {},
   "outputs": [
    {
     "name": "stdout",
     "output_type": "stream",
     "text": [
      "we have 101 categories\n"
     ]
    },
    {
     "name": "stderr",
     "output_type": "stream",
     "text": [
      "/home/projectx/anaconda3/envs/fastai/lib/python3.6/site-packages/sklearn/preprocessing/_encoders.py:415: FutureWarning: The handling of integer data will change in version 0.22. Currently, the categories are determined based on the range [0, max(values)], while in the future they will be determined based on the unique values.\n",
      "If you want the future behaviour and silence this warning, you can specify \"categories='auto'\".\n",
      "In case you used a LabelEncoder before this OneHotEncoder to convert the categories to integers, then you can now use the OneHotEncoder directly.\n",
      "  warnings.warn(msg, FutureWarning)\n"
     ]
    }
   ],
   "source": [
    "device = torch.device('cuda' if torch.cuda.is_available() else 'cpu')\n",
    "\n",
    "params = {'batch_size': batch_size, 'shuffle': True, 'num_workers': 4, 'pin_memory': True} if torch.cuda.is_available() else {}\n",
    "\n",
    "# load UCF101 label categories\n",
    "with open(action_name_path, 'rb') as f:\n",
    "    action_names = pickle.load(f)\n",
    "    \n",
    "print(f'we have {len(action_names)} categories')\n",
    "\n",
    "# conver labels to categories using LabelEncoder()\n",
    "le = LabelEncoder()\n",
    "le.fit(action_names)\n",
    "\n",
    "# Then one-hot-encoding the categorical labels\n",
    "action_category = le.transform(action_names).reshape(-1,1)  # map from names to a number from [0,100]\n",
    "enc = OneHotEncoder()\n",
    "enc.fit(action_category)\n",
    "\n",
    "actions = []\n",
    "fnames = os.listdir(data_path)\n",
    "\n",
    "all_names = []\n",
    "for f in fnames:\n",
    "    loc1 = f.find('v_')\n",
    "    loc2 = f.find('_g')\n",
    "    actions.append(f[(loc1 + 2): loc2])\n",
    "\n",
    "    all_names.append(f)\n",
    "\n",
    "all_X_list = all_names\n",
    "all_y_list = labels2cat(le, actions)\n",
    "\n",
    "# train, test split\n",
    "train_list, test_list, train_label, test_label = train_test_split(all_X_list, all_y_list, test_size=0.25, random_state=42)\n",
    "\n",
    "# image transformation\n",
    "transform = transforms.Compose([transforms.Resize([img_x, img_y]),\n",
    "                                transforms.ToTensor(),\n",
    "                                transforms.Normalize(mean=[0.5], std=[0.5])])\n",
    "\n",
    "selected_frames = np.arange(begin_frame, end_frame, skip_frame).tolist() # a list from 1 to 28\n",
    "\n",
    "train_set = Dataset_3DCNN(data_path, train_list, train_label, selected_frames, transform=transform)\n",
    "valid_set = Dataset_3DCNN(data_path, test_list, test_label, selected_frames, transform=transform)\n",
    "train_loader = data.DataLoader(train_set, **params)\n",
    "valid_loader = data.DataLoader(valid_set, **params)\n",
    "\n",
    "cnn3d = CNN3D(t_dim=len(selected_frames), \n",
    "              img_x=img_x, \n",
    "              img_y=img_y, \n",
    "              drop_p=dropout, \n",
    "              fc_hidden1=fc_hidden1,\n",
    "              fc_hidden2=fc_hidden2,\n",
    "              num_classes=k\n",
    "             ).to(device)\n",
    "\n",
    "# use classic adam optimizer\n",
    "optimizer = torch.optim.Adam(cnn3d.parameters(), lr=learning_rate)"
   ]
  },
  {
   "cell_type": "markdown",
   "metadata": {},
   "source": [
    "## Actual training"
   ]
  },
  {
   "cell_type": "code",
   "execution_count": 12,
   "metadata": {},
   "outputs": [
    {
     "name": "stdout",
     "output_type": "stream",
     "text": [
      "Train Epoch: 1 [80/9990 (1%)]\tLoss: 10.993490, Accu: 0.00%\n"
     ]
    },
    {
     "name": "stderr",
     "output_type": "stream",
     "text": [
      "\r",
      "  7%|▋         | 666/9537 [00:39<02:53, 51.16it/s]"
     ]
    },
    {
     "name": "stdout",
     "output_type": "stream",
     "text": [
      "Train Epoch: 1 [160/9990 (2%)]\tLoss: 6.703162, Accu: 0.00%\n",
      "Train Epoch: 1 [240/9990 (2%)]\tLoss: 7.436861, Accu: 0.00%\n",
      "Train Epoch: 1 [320/9990 (3%)]\tLoss: 4.776964, Accu: 12.50%\n",
      "Train Epoch: 1 [400/9990 (4%)]\tLoss: 5.013410, Accu: 0.00%\n",
      "Train Epoch: 1 [480/9990 (5%)]\tLoss: 4.727849, Accu: 0.00%\n",
      "Train Epoch: 1 [560/9990 (6%)]\tLoss: 4.699892, Accu: 0.00%\n",
      "Train Epoch: 1 [640/9990 (6%)]\tLoss: 4.630281, Accu: 0.00%\n",
      "Train Epoch: 1 [720/9990 (7%)]\tLoss: 4.645184, Accu: 0.00%\n",
      "Train Epoch: 1 [800/9990 (8%)]\tLoss: 4.678301, Accu: 0.00%\n",
      "Train Epoch: 1 [880/9990 (9%)]\tLoss: 4.604141, Accu: 0.00%\n",
      "Train Epoch: 1 [960/9990 (10%)]\tLoss: 4.612785, Accu: 0.00%\n",
      "Train Epoch: 1 [1040/9990 (10%)]\tLoss: 4.621926, Accu: 0.00%\n",
      "Train Epoch: 1 [1120/9990 (11%)]\tLoss: 4.419861, Accu: 0.00%\n",
      "Train Epoch: 1 [1200/9990 (12%)]\tLoss: 4.405658, Accu: 0.00%\n",
      "Train Epoch: 1 [1280/9990 (13%)]\tLoss: 4.675996, Accu: 0.00%\n",
      "Train Epoch: 1 [1360/9990 (14%)]\tLoss: 4.649288, Accu: 0.00%\n",
      "Train Epoch: 1 [1440/9990 (14%)]\tLoss: 4.726500, Accu: 0.00%\n",
      "Train Epoch: 1 [1520/9990 (15%)]\tLoss: 4.703369, Accu: 0.00%\n",
      "Train Epoch: 1 [1600/9990 (16%)]\tLoss: 4.178185, Accu: 12.50%\n",
      "Train Epoch: 1 [1680/9990 (17%)]\tLoss: 4.287258, Accu: 12.50%\n",
      "Train Epoch: 1 [1760/9990 (18%)]\tLoss: 4.088566, Accu: 12.50%\n",
      "Train Epoch: 1 [1840/9990 (18%)]\tLoss: 4.632154, Accu: 0.00%\n",
      "Train Epoch: 1 [1920/9990 (19%)]\tLoss: 4.590870, Accu: 0.00%\n",
      "Train Epoch: 1 [2000/9990 (20%)]\tLoss: 4.636628, Accu: 0.00%\n",
      "Train Epoch: 1 [2080/9990 (21%)]\tLoss: 4.559667, Accu: 0.00%\n",
      "Train Epoch: 1 [2160/9990 (22%)]\tLoss: 4.642521, Accu: 0.00%\n",
      "Train Epoch: 1 [2240/9990 (22%)]\tLoss: 4.558931, Accu: 0.00%\n",
      "Train Epoch: 1 [2320/9990 (23%)]\tLoss: 4.610903, Accu: 0.00%\n",
      "Train Epoch: 1 [2400/9990 (24%)]\tLoss: 4.142672, Accu: 12.50%\n",
      "Train Epoch: 1 [2480/9990 (25%)]\tLoss: 4.591047, Accu: 0.00%\n",
      "Train Epoch: 1 [2560/9990 (26%)]\tLoss: 4.560272, Accu: 0.00%\n",
      "Train Epoch: 1 [2640/9990 (26%)]\tLoss: 4.626804, Accu: 0.00%\n",
      "Train Epoch: 1 [2720/9990 (27%)]\tLoss: 4.603761, Accu: 0.00%\n",
      "Train Epoch: 1 [2800/9990 (28%)]\tLoss: 4.232730, Accu: 12.50%\n",
      "Train Epoch: 1 [2880/9990 (29%)]\tLoss: 4.786349, Accu: 0.00%\n",
      "Train Epoch: 1 [2960/9990 (30%)]\tLoss: 4.165843, Accu: 12.50%\n",
      "Train Epoch: 1 [3040/9990 (30%)]\tLoss: 4.448604, Accu: 0.00%\n",
      "Train Epoch: 1 [3120/9990 (31%)]\tLoss: 4.652991, Accu: 0.00%\n",
      "Train Epoch: 1 [3200/9990 (32%)]\tLoss: 4.625900, Accu: 0.00%\n",
      "Train Epoch: 1 [3280/9990 (33%)]\tLoss: 4.756928, Accu: 0.00%\n",
      "Train Epoch: 1 [3360/9990 (34%)]\tLoss: 4.594535, Accu: 0.00%\n",
      "Train Epoch: 1 [3440/9990 (34%)]\tLoss: 4.464824, Accu: 0.00%\n",
      "Train Epoch: 1 [3520/9990 (35%)]\tLoss: 4.637894, Accu: 0.00%\n",
      "Train Epoch: 1 [3600/9990 (36%)]\tLoss: 4.585461, Accu: 0.00%\n",
      "Train Epoch: 1 [3680/9990 (37%)]\tLoss: 4.516347, Accu: 0.00%\n",
      "Train Epoch: 1 [3760/9990 (38%)]\tLoss: 5.864919, Accu: 0.00%\n",
      "Train Epoch: 1 [3840/9990 (38%)]\tLoss: 4.624789, Accu: 0.00%\n",
      "Train Epoch: 1 [3920/9990 (39%)]\tLoss: 4.625727, Accu: 0.00%\n",
      "Train Epoch: 1 [4000/9990 (40%)]\tLoss: 4.545156, Accu: 0.00%\n",
      "Train Epoch: 1 [4080/9990 (41%)]\tLoss: 4.512455, Accu: 12.50%\n",
      "Train Epoch: 1 [4160/9990 (42%)]\tLoss: 4.671268, Accu: 0.00%\n",
      "Train Epoch: 1 [4240/9990 (42%)]\tLoss: 4.870302, Accu: 0.00%\n",
      "Train Epoch: 1 [4320/9990 (43%)]\tLoss: 4.597631, Accu: 0.00%\n",
      "Train Epoch: 1 [4400/9990 (44%)]\tLoss: 4.610737, Accu: 0.00%\n",
      "Train Epoch: 1 [4480/9990 (45%)]\tLoss: 4.750800, Accu: 0.00%\n",
      "Train Epoch: 1 [4560/9990 (46%)]\tLoss: 4.573406, Accu: 0.00%\n",
      "Train Epoch: 1 [4640/9990 (46%)]\tLoss: 4.391996, Accu: 0.00%\n",
      "Train Epoch: 1 [4720/9990 (47%)]\tLoss: 4.596122, Accu: 0.00%\n",
      "Train Epoch: 1 [4800/9990 (48%)]\tLoss: 4.609429, Accu: 0.00%\n",
      "Train Epoch: 1 [4880/9990 (49%)]\tLoss: 4.674301, Accu: 0.00%\n",
      "Train Epoch: 1 [4960/9990 (50%)]\tLoss: 4.608374, Accu: 0.00%\n",
      "Train Epoch: 1 [5040/9990 (50%)]\tLoss: 4.592020, Accu: 0.00%\n",
      "Train Epoch: 1 [5120/9990 (51%)]\tLoss: 4.652525, Accu: 0.00%\n",
      "Train Epoch: 1 [5200/9990 (52%)]\tLoss: 4.625561, Accu: 0.00%\n",
      "Train Epoch: 1 [5280/9990 (53%)]\tLoss: 4.594342, Accu: 12.50%\n",
      "Train Epoch: 1 [5360/9990 (54%)]\tLoss: 4.632411, Accu: 0.00%\n",
      "Train Epoch: 1 [5440/9990 (54%)]\tLoss: 4.617249, Accu: 0.00%\n",
      "Train Epoch: 1 [5520/9990 (55%)]\tLoss: 4.434373, Accu: 12.50%\n",
      "Train Epoch: 1 [5600/9990 (56%)]\tLoss: 4.604786, Accu: 0.00%\n",
      "Train Epoch: 1 [5680/9990 (57%)]\tLoss: 4.454266, Accu: 0.00%\n",
      "Train Epoch: 1 [5760/9990 (58%)]\tLoss: 4.490192, Accu: 0.00%\n",
      "Train Epoch: 1 [5840/9990 (58%)]\tLoss: 4.641565, Accu: 0.00%\n",
      "Train Epoch: 1 [5920/9990 (59%)]\tLoss: 4.659682, Accu: 0.00%\n",
      "Train Epoch: 1 [6000/9990 (60%)]\tLoss: 4.475909, Accu: 0.00%\n",
      "Train Epoch: 1 [6080/9990 (61%)]\tLoss: 4.688183, Accu: 0.00%\n",
      "Train Epoch: 1 [6160/9990 (62%)]\tLoss: 4.581332, Accu: 0.00%\n",
      "Train Epoch: 1 [6240/9990 (62%)]\tLoss: 4.616726, Accu: 0.00%\n",
      "Train Epoch: 1 [6320/9990 (63%)]\tLoss: 4.674457, Accu: 0.00%\n",
      "Train Epoch: 1 [6400/9990 (64%)]\tLoss: 4.554527, Accu: 0.00%\n",
      "Train Epoch: 1 [6480/9990 (65%)]\tLoss: 4.533349, Accu: 0.00%\n",
      "Train Epoch: 1 [6560/9990 (66%)]\tLoss: 4.594272, Accu: 0.00%\n",
      "Train Epoch: 1 [6640/9990 (66%)]\tLoss: 4.576856, Accu: 0.00%\n",
      "Train Epoch: 1 [6720/9990 (67%)]\tLoss: 4.625901, Accu: 0.00%\n",
      "Train Epoch: 1 [6800/9990 (68%)]\tLoss: 4.224784, Accu: 0.00%\n",
      "Train Epoch: 1 [6880/9990 (69%)]\tLoss: 4.698591, Accu: 0.00%\n",
      "Train Epoch: 1 [6960/9990 (70%)]\tLoss: 4.581931, Accu: 0.00%\n",
      "Train Epoch: 1 [7040/9990 (70%)]\tLoss: 4.695489, Accu: 12.50%\n",
      "Train Epoch: 1 [7120/9990 (71%)]\tLoss: 4.647789, Accu: 0.00%\n",
      "Train Epoch: 1 [7200/9990 (72%)]\tLoss: 4.566080, Accu: 0.00%\n",
      "Train Epoch: 1 [7280/9990 (73%)]\tLoss: 4.656874, Accu: 0.00%\n",
      "Train Epoch: 1 [7360/9990 (74%)]\tLoss: 4.642255, Accu: 0.00%\n",
      "Train Epoch: 1 [7440/9990 (74%)]\tLoss: 4.509645, Accu: 0.00%\n",
      "Train Epoch: 1 [7520/9990 (75%)]\tLoss: 4.534681, Accu: 0.00%\n",
      "Train Epoch: 1 [7600/9990 (76%)]\tLoss: 3.783592, Accu: 25.00%\n",
      "Train Epoch: 1 [7680/9990 (77%)]\tLoss: 4.521687, Accu: 0.00%\n",
      "Train Epoch: 1 [7760/9990 (78%)]\tLoss: 4.691658, Accu: 0.00%\n",
      "Train Epoch: 1 [7840/9990 (78%)]\tLoss: 4.553233, Accu: 0.00%\n",
      "Train Epoch: 1 [7920/9990 (79%)]\tLoss: 4.177547, Accu: 12.50%\n",
      "Train Epoch: 1 [8000/9990 (80%)]\tLoss: 4.641496, Accu: 0.00%\n",
      "Train Epoch: 1 [8080/9990 (81%)]\tLoss: 4.434203, Accu: 0.00%\n",
      "Train Epoch: 1 [8160/9990 (82%)]\tLoss: 4.154980, Accu: 0.00%\n",
      "Train Epoch: 1 [8240/9990 (82%)]\tLoss: 4.399735, Accu: 0.00%\n",
      "Train Epoch: 1 [8320/9990 (83%)]\tLoss: 4.237852, Accu: 0.00%\n",
      "Train Epoch: 1 [8400/9990 (84%)]\tLoss: 4.775118, Accu: 0.00%\n",
      "Train Epoch: 1 [8480/9990 (85%)]\tLoss: 4.610391, Accu: 0.00%\n",
      "Train Epoch: 1 [8560/9990 (86%)]\tLoss: 4.607644, Accu: 0.00%\n",
      "Train Epoch: 1 [8640/9990 (86%)]\tLoss: 4.602912, Accu: 0.00%\n",
      "Train Epoch: 1 [8720/9990 (87%)]\tLoss: 4.686439, Accu: 0.00%\n",
      "Train Epoch: 1 [8800/9990 (88%)]\tLoss: 4.613335, Accu: 0.00%\n",
      "Train Epoch: 1 [8880/9990 (89%)]\tLoss: 4.423551, Accu: 0.00%\n",
      "Train Epoch: 1 [8960/9990 (90%)]\tLoss: 4.614901, Accu: 0.00%\n",
      "Train Epoch: 1 [9040/9990 (90%)]\tLoss: 4.343161, Accu: 12.50%\n",
      "Train Epoch: 1 [9120/9990 (91%)]\tLoss: 4.735959, Accu: 0.00%\n",
      "Train Epoch: 1 [9200/9990 (92%)]\tLoss: 4.612672, Accu: 0.00%\n",
      "Train Epoch: 1 [9280/9990 (93%)]\tLoss: 4.617005, Accu: 0.00%\n",
      "Train Epoch: 1 [9360/9990 (94%)]\tLoss: 4.609345, Accu: 0.00%\n",
      "Train Epoch: 1 [9440/9990 (94%)]\tLoss: 4.627510, Accu: 0.00%\n",
      "Train Epoch: 1 [9520/9990 (95%)]\tLoss: 4.634925, Accu: 0.00%\n",
      "Train Epoch: 1 [9600/9990 (96%)]\tLoss: 4.551318, Accu: 0.00%\n",
      "Train Epoch: 1 [9680/9990 (97%)]\tLoss: 4.801667, Accu: 0.00%\n",
      "Train Epoch: 1 [9760/9990 (98%)]\tLoss: 4.446028, Accu: 0.00%\n",
      "Train Epoch: 1 [9840/9990 (98%)]\tLoss: 4.621036, Accu: 0.00%\n",
      "Train Epoch: 1 [9920/9990 (99%)]\tLoss: 4.614727, Accu: 0.00%\n",
      "\n",
      "Test set (3330 samples): Average loss: 4.4904, Accuracy: 2.40%\n",
      "\n",
      "Epoch 1 model saved!\n",
      "Train Epoch: 2 [80/9990 (1%)]\tLoss: 4.582760, Accu: 0.00%\n",
      "Train Epoch: 2 [160/9990 (2%)]\tLoss: 4.593677, Accu: 0.00%\n",
      "Train Epoch: 2 [240/9990 (2%)]\tLoss: 4.535340, Accu: 0.00%\n",
      "Train Epoch: 2 [320/9990 (3%)]\tLoss: 4.497634, Accu: 0.00%\n",
      "Train Epoch: 2 [400/9990 (4%)]\tLoss: 4.593149, Accu: 0.00%\n",
      "Train Epoch: 2 [480/9990 (5%)]\tLoss: 4.625445, Accu: 0.00%\n",
      "Train Epoch: 2 [560/9990 (6%)]\tLoss: 4.595428, Accu: 0.00%\n",
      "Train Epoch: 2 [640/9990 (6%)]\tLoss: 4.551944, Accu: 0.00%\n",
      "Train Epoch: 2 [720/9990 (7%)]\tLoss: 4.322203, Accu: 0.00%\n",
      "Train Epoch: 2 [800/9990 (8%)]\tLoss: 4.483097, Accu: 0.00%\n",
      "Train Epoch: 2 [880/9990 (9%)]\tLoss: 4.432405, Accu: 0.00%\n"
     ]
    },
    {
     "name": "stdout",
     "output_type": "stream",
     "text": [
      "Train Epoch: 2 [960/9990 (10%)]\tLoss: 4.073841, Accu: 0.00%\n",
      "Train Epoch: 2 [1040/9990 (10%)]\tLoss: 4.543167, Accu: 0.00%\n",
      "Train Epoch: 2 [1120/9990 (11%)]\tLoss: 4.635186, Accu: 0.00%\n",
      "Train Epoch: 2 [1200/9990 (12%)]\tLoss: 4.612535, Accu: 0.00%\n",
      "Train Epoch: 2 [1280/9990 (13%)]\tLoss: 4.603776, Accu: 0.00%\n",
      "Train Epoch: 2 [1360/9990 (14%)]\tLoss: 4.544134, Accu: 0.00%\n",
      "Train Epoch: 2 [1440/9990 (14%)]\tLoss: 4.701836, Accu: 0.00%\n",
      "Train Epoch: 2 [1520/9990 (15%)]\tLoss: 4.524114, Accu: 12.50%\n",
      "Train Epoch: 2 [1600/9990 (16%)]\tLoss: 4.456027, Accu: 0.00%\n",
      "Train Epoch: 2 [1680/9990 (17%)]\tLoss: 4.028768, Accu: 12.50%\n",
      "Train Epoch: 2 [1760/9990 (18%)]\tLoss: 4.671706, Accu: 0.00%\n",
      "Train Epoch: 2 [1840/9990 (18%)]\tLoss: 4.550974, Accu: 0.00%\n",
      "Train Epoch: 2 [1920/9990 (19%)]\tLoss: 4.516846, Accu: 0.00%\n",
      "Train Epoch: 2 [2000/9990 (20%)]\tLoss: 3.891865, Accu: 12.50%\n",
      "Train Epoch: 2 [2080/9990 (21%)]\tLoss: 4.484447, Accu: 0.00%\n",
      "Train Epoch: 2 [2160/9990 (22%)]\tLoss: 4.624910, Accu: 0.00%\n",
      "Train Epoch: 2 [2240/9990 (22%)]\tLoss: 4.017080, Accu: 12.50%\n",
      "Train Epoch: 2 [2320/9990 (23%)]\tLoss: 4.691639, Accu: 0.00%\n",
      "Train Epoch: 2 [2400/9990 (24%)]\tLoss: 4.144642, Accu: 12.50%\n",
      "Train Epoch: 2 [2480/9990 (25%)]\tLoss: 4.586169, Accu: 0.00%\n",
      "Train Epoch: 2 [2560/9990 (26%)]\tLoss: 4.604776, Accu: 0.00%\n",
      "Train Epoch: 2 [2640/9990 (26%)]\tLoss: 4.501164, Accu: 0.00%\n",
      "Train Epoch: 2 [2720/9990 (27%)]\tLoss: 4.370775, Accu: 12.50%\n",
      "Train Epoch: 2 [2800/9990 (28%)]\tLoss: 4.689009, Accu: 0.00%\n",
      "Train Epoch: 2 [2880/9990 (29%)]\tLoss: 4.450966, Accu: 12.50%\n",
      "Train Epoch: 2 [2960/9990 (30%)]\tLoss: 4.136353, Accu: 12.50%\n",
      "Train Epoch: 2 [3040/9990 (30%)]\tLoss: 4.642280, Accu: 0.00%\n",
      "Train Epoch: 2 [3120/9990 (31%)]\tLoss: 4.596927, Accu: 0.00%\n",
      "Train Epoch: 2 [3200/9990 (32%)]\tLoss: 4.277961, Accu: 0.00%\n",
      "Train Epoch: 2 [3280/9990 (33%)]\tLoss: 4.401287, Accu: 0.00%\n",
      "Train Epoch: 2 [3360/9990 (34%)]\tLoss: 4.352748, Accu: 0.00%\n",
      "Train Epoch: 2 [3440/9990 (34%)]\tLoss: 4.517560, Accu: 0.00%\n",
      "Train Epoch: 2 [3520/9990 (35%)]\tLoss: 4.388943, Accu: 0.00%\n",
      "Train Epoch: 2 [3600/9990 (36%)]\tLoss: 4.403014, Accu: 0.00%\n",
      "Train Epoch: 2 [3680/9990 (37%)]\tLoss: 4.511780, Accu: 0.00%\n",
      "Train Epoch: 2 [3760/9990 (38%)]\tLoss: 4.377556, Accu: 0.00%\n",
      "Train Epoch: 2 [3840/9990 (38%)]\tLoss: 4.209457, Accu: 12.50%\n",
      "Train Epoch: 2 [3920/9990 (39%)]\tLoss: 3.890219, Accu: 12.50%\n",
      "Train Epoch: 2 [4000/9990 (40%)]\tLoss: 4.253928, Accu: 0.00%\n",
      "Train Epoch: 2 [4080/9990 (41%)]\tLoss: 4.460890, Accu: 0.00%\n",
      "Train Epoch: 2 [4160/9990 (42%)]\tLoss: 4.644326, Accu: 0.00%\n",
      "Train Epoch: 2 [4240/9990 (42%)]\tLoss: 4.690987, Accu: 0.00%\n",
      "Train Epoch: 2 [4320/9990 (43%)]\tLoss: 4.600691, Accu: 0.00%\n",
      "Train Epoch: 2 [4400/9990 (44%)]\tLoss: 4.585017, Accu: 0.00%\n",
      "Train Epoch: 2 [4480/9990 (45%)]\tLoss: 4.551894, Accu: 12.50%\n",
      "Train Epoch: 2 [4560/9990 (46%)]\tLoss: 3.877743, Accu: 12.50%\n",
      "Train Epoch: 2 [4640/9990 (46%)]\tLoss: 4.572762, Accu: 0.00%\n",
      "Train Epoch: 2 [4720/9990 (47%)]\tLoss: 4.647525, Accu: 0.00%\n",
      "Train Epoch: 2 [4800/9990 (48%)]\tLoss: 4.613103, Accu: 0.00%\n",
      "Train Epoch: 2 [4880/9990 (49%)]\tLoss: 4.583235, Accu: 0.00%\n",
      "Train Epoch: 2 [4960/9990 (50%)]\tLoss: 4.564935, Accu: 0.00%\n",
      "Train Epoch: 2 [5040/9990 (50%)]\tLoss: 4.718941, Accu: 0.00%\n",
      "Train Epoch: 2 [5120/9990 (51%)]\tLoss: 4.419394, Accu: 12.50%\n",
      "Train Epoch: 2 [5200/9990 (52%)]\tLoss: 3.947128, Accu: 12.50%\n",
      "Train Epoch: 2 [5280/9990 (53%)]\tLoss: 4.009488, Accu: 12.50%\n",
      "Train Epoch: 2 [5360/9990 (54%)]\tLoss: 4.813241, Accu: 0.00%\n",
      "Train Epoch: 2 [5440/9990 (54%)]\tLoss: 4.517563, Accu: 0.00%\n",
      "Train Epoch: 2 [5520/9990 (55%)]\tLoss: 2.987607, Accu: 25.00%\n",
      "Train Epoch: 2 [5600/9990 (56%)]\tLoss: 4.509357, Accu: 0.00%\n",
      "Train Epoch: 2 [5680/9990 (57%)]\tLoss: 4.618011, Accu: 0.00%\n",
      "Train Epoch: 2 [5760/9990 (58%)]\tLoss: 4.551710, Accu: 0.00%\n",
      "Train Epoch: 2 [5840/9990 (58%)]\tLoss: 4.432587, Accu: 0.00%\n",
      "Train Epoch: 2 [5920/9990 (59%)]\tLoss: 4.569349, Accu: 0.00%\n",
      "Train Epoch: 2 [6000/9990 (60%)]\tLoss: 4.600958, Accu: 0.00%\n",
      "Train Epoch: 2 [6080/9990 (61%)]\tLoss: 4.467204, Accu: 0.00%\n",
      "Train Epoch: 2 [6160/9990 (62%)]\tLoss: 4.480915, Accu: 0.00%\n",
      "Train Epoch: 2 [6240/9990 (62%)]\tLoss: 4.206780, Accu: 0.00%\n",
      "Train Epoch: 2 [6320/9990 (63%)]\tLoss: 4.323991, Accu: 0.00%\n",
      "Train Epoch: 2 [6400/9990 (64%)]\tLoss: 4.535994, Accu: 12.50%\n",
      "Train Epoch: 2 [6480/9990 (65%)]\tLoss: 4.441229, Accu: 0.00%\n",
      "Train Epoch: 2 [6560/9990 (66%)]\tLoss: 4.264573, Accu: 0.00%\n",
      "Train Epoch: 2 [6640/9990 (66%)]\tLoss: 4.404244, Accu: 0.00%\n",
      "Train Epoch: 2 [6720/9990 (67%)]\tLoss: 4.496189, Accu: 0.00%\n",
      "Train Epoch: 2 [6800/9990 (68%)]\tLoss: 4.034202, Accu: 12.50%\n",
      "Train Epoch: 2 [6880/9990 (69%)]\tLoss: 4.447517, Accu: 0.00%\n",
      "Train Epoch: 2 [6960/9990 (70%)]\tLoss: 4.607500, Accu: 0.00%\n",
      "Train Epoch: 2 [7040/9990 (70%)]\tLoss: 4.402497, Accu: 0.00%\n",
      "Train Epoch: 2 [7120/9990 (71%)]\tLoss: 4.694314, Accu: 0.00%\n",
      "Train Epoch: 2 [7200/9990 (72%)]\tLoss: 4.633374, Accu: 0.00%\n",
      "Train Epoch: 2 [7280/9990 (73%)]\tLoss: 4.656045, Accu: 0.00%\n",
      "Train Epoch: 2 [7360/9990 (74%)]\tLoss: 4.427583, Accu: 0.00%\n",
      "Train Epoch: 2 [7440/9990 (74%)]\tLoss: 4.874870, Accu: 0.00%\n",
      "Train Epoch: 2 [7520/9990 (75%)]\tLoss: 4.599126, Accu: 0.00%\n",
      "Train Epoch: 2 [7600/9990 (76%)]\tLoss: 4.290459, Accu: 0.00%\n",
      "Train Epoch: 2 [7680/9990 (77%)]\tLoss: 4.766096, Accu: 0.00%\n",
      "Train Epoch: 2 [7760/9990 (78%)]\tLoss: 4.623233, Accu: 0.00%\n",
      "Train Epoch: 2 [7840/9990 (78%)]\tLoss: 4.212545, Accu: 12.50%\n",
      "Train Epoch: 2 [7920/9990 (79%)]\tLoss: 4.131368, Accu: 0.00%\n",
      "Train Epoch: 2 [8000/9990 (80%)]\tLoss: 5.110979, Accu: 0.00%\n",
      "Train Epoch: 2 [8080/9990 (81%)]\tLoss: 4.263322, Accu: 12.50%\n",
      "Train Epoch: 2 [8160/9990 (82%)]\tLoss: 4.020657, Accu: 0.00%\n",
      "Train Epoch: 2 [8240/9990 (82%)]\tLoss: 4.408051, Accu: 0.00%\n",
      "Train Epoch: 2 [8320/9990 (83%)]\tLoss: 4.507587, Accu: 0.00%\n",
      "Train Epoch: 2 [8400/9990 (84%)]\tLoss: 3.767839, Accu: 12.50%\n",
      "Train Epoch: 2 [8480/9990 (85%)]\tLoss: 4.206514, Accu: 0.00%\n",
      "Train Epoch: 2 [8560/9990 (86%)]\tLoss: 4.590042, Accu: 0.00%\n",
      "Train Epoch: 2 [8640/9990 (86%)]\tLoss: 3.619525, Accu: 25.00%\n",
      "Train Epoch: 2 [8720/9990 (87%)]\tLoss: 4.045364, Accu: 25.00%\n",
      "Train Epoch: 2 [8800/9990 (88%)]\tLoss: 4.393192, Accu: 12.50%\n",
      "Train Epoch: 2 [8880/9990 (89%)]\tLoss: 4.053673, Accu: 12.50%\n",
      "Train Epoch: 2 [8960/9990 (90%)]\tLoss: 4.152124, Accu: 12.50%\n",
      "Train Epoch: 2 [9040/9990 (90%)]\tLoss: 4.082992, Accu: 0.00%\n",
      "Train Epoch: 2 [9120/9990 (91%)]\tLoss: 4.602302, Accu: 0.00%\n",
      "Train Epoch: 2 [9200/9990 (92%)]\tLoss: 4.209714, Accu: 12.50%\n",
      "Train Epoch: 2 [9280/9990 (93%)]\tLoss: 4.311301, Accu: 0.00%\n",
      "Train Epoch: 2 [9360/9990 (94%)]\tLoss: 4.457021, Accu: 0.00%\n",
      "Train Epoch: 2 [9440/9990 (94%)]\tLoss: 4.363523, Accu: 0.00%\n",
      "Train Epoch: 2 [9520/9990 (95%)]\tLoss: 4.354538, Accu: 12.50%\n",
      "Train Epoch: 2 [9600/9990 (96%)]\tLoss: 4.334185, Accu: 0.00%\n",
      "Train Epoch: 2 [9680/9990 (97%)]\tLoss: 4.381948, Accu: 0.00%\n",
      "Train Epoch: 2 [9760/9990 (98%)]\tLoss: 4.605451, Accu: 0.00%\n",
      "Train Epoch: 2 [9840/9990 (98%)]\tLoss: 4.420894, Accu: 0.00%\n",
      "Train Epoch: 2 [9920/9990 (99%)]\tLoss: 3.893884, Accu: 12.50%\n",
      "\n",
      "Test set (3330 samples): Average loss: 4.4266, Accuracy: 2.85%\n",
      "\n",
      "Epoch 2 model saved!\n",
      "Train Epoch: 3 [80/9990 (1%)]\tLoss: 4.453508, Accu: 0.00%\n",
      "Train Epoch: 3 [160/9990 (2%)]\tLoss: 4.689147, Accu: 0.00%\n",
      "Train Epoch: 3 [240/9990 (2%)]\tLoss: 4.266014, Accu: 0.00%\n",
      "Train Epoch: 3 [320/9990 (3%)]\tLoss: 4.252967, Accu: 0.00%\n",
      "Train Epoch: 3 [400/9990 (4%)]\tLoss: 4.324338, Accu: 0.00%\n",
      "Train Epoch: 3 [480/9990 (5%)]\tLoss: 4.014144, Accu: 37.50%\n",
      "Train Epoch: 3 [560/9990 (6%)]\tLoss: 4.467165, Accu: 12.50%\n",
      "Train Epoch: 3 [640/9990 (6%)]\tLoss: 4.319516, Accu: 0.00%\n",
      "Train Epoch: 3 [720/9990 (7%)]\tLoss: 4.491969, Accu: 0.00%\n",
      "Train Epoch: 3 [800/9990 (8%)]\tLoss: 4.579185, Accu: 0.00%\n",
      "Train Epoch: 3 [880/9990 (9%)]\tLoss: 4.599324, Accu: 0.00%\n",
      "Train Epoch: 3 [960/9990 (10%)]\tLoss: 4.576809, Accu: 0.00%\n",
      "Train Epoch: 3 [1040/9990 (10%)]\tLoss: 4.490808, Accu: 0.00%\n",
      "Train Epoch: 3 [1120/9990 (11%)]\tLoss: 4.589298, Accu: 0.00%\n",
      "Train Epoch: 3 [1200/9990 (12%)]\tLoss: 4.582674, Accu: 0.00%\n",
      "Train Epoch: 3 [1280/9990 (13%)]\tLoss: 4.643225, Accu: 0.00%\n",
      "Train Epoch: 3 [1360/9990 (14%)]\tLoss: 4.210992, Accu: 0.00%\n",
      "Train Epoch: 3 [1440/9990 (14%)]\tLoss: 3.980831, Accu: 12.50%\n",
      "Train Epoch: 3 [1520/9990 (15%)]\tLoss: 3.374528, Accu: 25.00%\n",
      "Train Epoch: 3 [1600/9990 (16%)]\tLoss: 4.580738, Accu: 0.00%\n"
     ]
    },
    {
     "name": "stdout",
     "output_type": "stream",
     "text": [
      "Train Epoch: 3 [1680/9990 (17%)]\tLoss: 4.393554, Accu: 0.00%\n",
      "Train Epoch: 3 [1760/9990 (18%)]\tLoss: 4.264789, Accu: 12.50%\n",
      "Train Epoch: 3 [1840/9990 (18%)]\tLoss: 4.106568, Accu: 0.00%\n",
      "Train Epoch: 3 [1920/9990 (19%)]\tLoss: 4.613210, Accu: 0.00%\n",
      "Train Epoch: 3 [2000/9990 (20%)]\tLoss: 4.511600, Accu: 0.00%\n",
      "Train Epoch: 3 [2080/9990 (21%)]\tLoss: 4.253714, Accu: 0.00%\n",
      "Train Epoch: 3 [2160/9990 (22%)]\tLoss: 4.298306, Accu: 12.50%\n",
      "Train Epoch: 3 [2240/9990 (22%)]\tLoss: 4.578555, Accu: 12.50%\n",
      "Train Epoch: 3 [2320/9990 (23%)]\tLoss: 4.371099, Accu: 0.00%\n",
      "Train Epoch: 3 [2400/9990 (24%)]\tLoss: 4.279685, Accu: 0.00%\n",
      "Train Epoch: 3 [2480/9990 (25%)]\tLoss: 4.427888, Accu: 0.00%\n",
      "Train Epoch: 3 [2560/9990 (26%)]\tLoss: 4.560685, Accu: 0.00%\n",
      "Train Epoch: 3 [2640/9990 (26%)]\tLoss: 4.543677, Accu: 0.00%\n",
      "Train Epoch: 3 [2720/9990 (27%)]\tLoss: 3.872135, Accu: 12.50%\n",
      "Train Epoch: 3 [2800/9990 (28%)]\tLoss: 4.448277, Accu: 0.00%\n",
      "Train Epoch: 3 [2880/9990 (29%)]\tLoss: 4.226034, Accu: 12.50%\n",
      "Train Epoch: 3 [2960/9990 (30%)]\tLoss: 4.228655, Accu: 0.00%\n",
      "Train Epoch: 3 [3040/9990 (30%)]\tLoss: 4.357570, Accu: 0.00%\n",
      "Train Epoch: 3 [3120/9990 (31%)]\tLoss: 4.497796, Accu: 0.00%\n",
      "Train Epoch: 3 [3200/9990 (32%)]\tLoss: 4.282596, Accu: 0.00%\n",
      "Train Epoch: 3 [3280/9990 (33%)]\tLoss: 4.364350, Accu: 0.00%\n",
      "Train Epoch: 3 [3360/9990 (34%)]\tLoss: 4.447767, Accu: 12.50%\n",
      "Train Epoch: 3 [3440/9990 (34%)]\tLoss: 4.569395, Accu: 0.00%\n",
      "Train Epoch: 3 [3520/9990 (35%)]\tLoss: 4.453634, Accu: 0.00%\n",
      "Train Epoch: 3 [3600/9990 (36%)]\tLoss: 4.574691, Accu: 0.00%\n",
      "Train Epoch: 3 [3680/9990 (37%)]\tLoss: 4.508996, Accu: 0.00%\n",
      "Train Epoch: 3 [3760/9990 (38%)]\tLoss: 4.461747, Accu: 0.00%\n",
      "Train Epoch: 3 [3840/9990 (38%)]\tLoss: 4.460114, Accu: 0.00%\n",
      "Train Epoch: 3 [3920/9990 (39%)]\tLoss: 4.591678, Accu: 0.00%\n",
      "Train Epoch: 3 [4000/9990 (40%)]\tLoss: 4.198906, Accu: 0.00%\n",
      "Train Epoch: 3 [4080/9990 (41%)]\tLoss: 4.543542, Accu: 0.00%\n",
      "Train Epoch: 3 [4160/9990 (42%)]\tLoss: 4.416832, Accu: 0.00%\n",
      "Train Epoch: 3 [4240/9990 (42%)]\tLoss: 4.305367, Accu: 12.50%\n",
      "Train Epoch: 3 [4320/9990 (43%)]\tLoss: 4.494967, Accu: 0.00%\n",
      "Train Epoch: 3 [4400/9990 (44%)]\tLoss: 4.176436, Accu: 12.50%\n",
      "Train Epoch: 3 [4480/9990 (45%)]\tLoss: 4.404039, Accu: 0.00%\n",
      "Train Epoch: 3 [4560/9990 (46%)]\tLoss: 4.466053, Accu: 0.00%\n",
      "Train Epoch: 3 [4640/9990 (46%)]\tLoss: 4.134728, Accu: 12.50%\n",
      "Train Epoch: 3 [4720/9990 (47%)]\tLoss: 4.289608, Accu: 0.00%\n",
      "Train Epoch: 3 [4800/9990 (48%)]\tLoss: 4.633350, Accu: 0.00%\n",
      "Train Epoch: 3 [4880/9990 (49%)]\tLoss: 4.406553, Accu: 12.50%\n",
      "Train Epoch: 3 [4960/9990 (50%)]\tLoss: 4.394370, Accu: 0.00%\n",
      "Train Epoch: 3 [5040/9990 (50%)]\tLoss: 4.476233, Accu: 0.00%\n",
      "Train Epoch: 3 [5120/9990 (51%)]\tLoss: 4.154415, Accu: 0.00%\n",
      "Train Epoch: 3 [5200/9990 (52%)]\tLoss: 4.391465, Accu: 0.00%\n",
      "Train Epoch: 3 [5280/9990 (53%)]\tLoss: 4.395341, Accu: 0.00%\n",
      "Train Epoch: 3 [5360/9990 (54%)]\tLoss: 4.558038, Accu: 12.50%\n",
      "Train Epoch: 3 [5440/9990 (54%)]\tLoss: 4.585382, Accu: 0.00%\n",
      "Train Epoch: 3 [5520/9990 (55%)]\tLoss: 4.349169, Accu: 0.00%\n",
      "Train Epoch: 3 [5600/9990 (56%)]\tLoss: 4.301359, Accu: 0.00%\n",
      "Train Epoch: 3 [5680/9990 (57%)]\tLoss: 4.507809, Accu: 0.00%\n",
      "Train Epoch: 3 [5760/9990 (58%)]\tLoss: 4.396996, Accu: 12.50%\n",
      "Train Epoch: 3 [5840/9990 (58%)]\tLoss: 4.474257, Accu: 0.00%\n",
      "Train Epoch: 3 [5920/9990 (59%)]\tLoss: 4.590662, Accu: 12.50%\n",
      "Train Epoch: 3 [6000/9990 (60%)]\tLoss: 4.078555, Accu: 12.50%\n",
      "Train Epoch: 3 [6080/9990 (61%)]\tLoss: 4.630096, Accu: 0.00%\n",
      "Train Epoch: 3 [6160/9990 (62%)]\tLoss: 3.884864, Accu: 0.00%\n",
      "Train Epoch: 3 [6240/9990 (62%)]\tLoss: 4.313004, Accu: 0.00%\n",
      "Train Epoch: 3 [6320/9990 (63%)]\tLoss: 4.797214, Accu: 0.00%\n",
      "Train Epoch: 3 [6400/9990 (64%)]\tLoss: 4.944491, Accu: 0.00%\n",
      "Train Epoch: 3 [6480/9990 (65%)]\tLoss: 4.407576, Accu: 12.50%\n",
      "Train Epoch: 3 [6560/9990 (66%)]\tLoss: 4.412924, Accu: 12.50%\n",
      "Train Epoch: 3 [6640/9990 (66%)]\tLoss: 4.262603, Accu: 12.50%\n",
      "Train Epoch: 3 [6720/9990 (67%)]\tLoss: 4.598986, Accu: 0.00%\n",
      "Train Epoch: 3 [6800/9990 (68%)]\tLoss: 4.320139, Accu: 0.00%\n",
      "Train Epoch: 3 [6880/9990 (69%)]\tLoss: 4.384743, Accu: 0.00%\n",
      "Train Epoch: 3 [6960/9990 (70%)]\tLoss: 4.436473, Accu: 0.00%\n",
      "Train Epoch: 3 [7040/9990 (70%)]\tLoss: 3.907015, Accu: 12.50%\n",
      "Train Epoch: 3 [7120/9990 (71%)]\tLoss: 4.485662, Accu: 12.50%\n",
      "Train Epoch: 3 [7200/9990 (72%)]\tLoss: 4.698652, Accu: 0.00%\n",
      "Train Epoch: 3 [7280/9990 (73%)]\tLoss: 4.300875, Accu: 0.00%\n",
      "Train Epoch: 3 [7360/9990 (74%)]\tLoss: 4.584490, Accu: 0.00%\n",
      "Train Epoch: 3 [7440/9990 (74%)]\tLoss: 4.557558, Accu: 0.00%\n",
      "Train Epoch: 3 [7520/9990 (75%)]\tLoss: 4.595963, Accu: 0.00%\n",
      "Train Epoch: 3 [7600/9990 (76%)]\tLoss: 3.580000, Accu: 12.50%\n",
      "Train Epoch: 3 [7680/9990 (77%)]\tLoss: 4.540702, Accu: 0.00%\n",
      "Train Epoch: 3 [7760/9990 (78%)]\tLoss: 4.522068, Accu: 0.00%\n",
      "Train Epoch: 3 [7840/9990 (78%)]\tLoss: 4.068505, Accu: 0.00%\n",
      "Train Epoch: 3 [7920/9990 (79%)]\tLoss: 4.389960, Accu: 0.00%\n",
      "Train Epoch: 3 [8000/9990 (80%)]\tLoss: 3.911794, Accu: 12.50%\n",
      "Train Epoch: 3 [8080/9990 (81%)]\tLoss: 4.517634, Accu: 12.50%\n",
      "Train Epoch: 3 [8160/9990 (82%)]\tLoss: 4.583070, Accu: 0.00%\n",
      "Train Epoch: 3 [8240/9990 (82%)]\tLoss: 4.566960, Accu: 0.00%\n",
      "Train Epoch: 3 [8320/9990 (83%)]\tLoss: 4.028082, Accu: 12.50%\n",
      "Train Epoch: 3 [8400/9990 (84%)]\tLoss: 4.391330, Accu: 0.00%\n",
      "Train Epoch: 3 [8480/9990 (85%)]\tLoss: 4.601542, Accu: 0.00%\n",
      "Train Epoch: 3 [8560/9990 (86%)]\tLoss: 4.026078, Accu: 0.00%\n",
      "Train Epoch: 3 [8640/9990 (86%)]\tLoss: 4.607448, Accu: 0.00%\n",
      "Train Epoch: 3 [8720/9990 (87%)]\tLoss: 4.444412, Accu: 0.00%\n",
      "Train Epoch: 3 [8800/9990 (88%)]\tLoss: 4.762261, Accu: 0.00%\n",
      "Train Epoch: 3 [8880/9990 (89%)]\tLoss: 4.518425, Accu: 0.00%\n",
      "Train Epoch: 3 [8960/9990 (90%)]\tLoss: 4.602263, Accu: 0.00%\n",
      "Train Epoch: 3 [9040/9990 (90%)]\tLoss: 4.055639, Accu: 12.50%\n",
      "Train Epoch: 3 [9120/9990 (91%)]\tLoss: 4.399887, Accu: 0.00%\n",
      "Train Epoch: 3 [9200/9990 (92%)]\tLoss: 4.419978, Accu: 0.00%\n",
      "Train Epoch: 3 [9280/9990 (93%)]\tLoss: 3.809756, Accu: 12.50%\n",
      "Train Epoch: 3 [9360/9990 (94%)]\tLoss: 4.605794, Accu: 0.00%\n",
      "Train Epoch: 3 [9440/9990 (94%)]\tLoss: 4.305962, Accu: 0.00%\n",
      "Train Epoch: 3 [9520/9990 (95%)]\tLoss: 4.396227, Accu: 0.00%\n",
      "Train Epoch: 3 [9600/9990 (96%)]\tLoss: 4.452890, Accu: 0.00%\n",
      "Train Epoch: 3 [9680/9990 (97%)]\tLoss: 4.579122, Accu: 12.50%\n",
      "Train Epoch: 3 [9760/9990 (98%)]\tLoss: 4.563288, Accu: 0.00%\n",
      "Train Epoch: 3 [9840/9990 (98%)]\tLoss: 3.841669, Accu: 0.00%\n",
      "Train Epoch: 3 [9920/9990 (99%)]\tLoss: 4.417296, Accu: 0.00%\n",
      "\n",
      "Test set (3330 samples): Average loss: 4.3966, Accuracy: 4.47%\n",
      "\n",
      "Epoch 3 model saved!\n",
      "Train Epoch: 4 [80/9990 (1%)]\tLoss: 4.063162, Accu: 0.00%\n",
      "Train Epoch: 4 [160/9990 (2%)]\tLoss: 4.181101, Accu: 0.00%\n",
      "Train Epoch: 4 [240/9990 (2%)]\tLoss: 4.212908, Accu: 12.50%\n",
      "Train Epoch: 4 [320/9990 (3%)]\tLoss: 3.651939, Accu: 12.50%\n",
      "Train Epoch: 4 [400/9990 (4%)]\tLoss: 3.891934, Accu: 12.50%\n",
      "Train Epoch: 4 [480/9990 (5%)]\tLoss: 4.461826, Accu: 0.00%\n",
      "Train Epoch: 4 [560/9990 (6%)]\tLoss: 4.345519, Accu: 12.50%\n",
      "Train Epoch: 4 [640/9990 (6%)]\tLoss: 4.390724, Accu: 0.00%\n",
      "Train Epoch: 4 [720/9990 (7%)]\tLoss: 4.380944, Accu: 12.50%\n",
      "Train Epoch: 4 [800/9990 (8%)]\tLoss: 4.492894, Accu: 0.00%\n",
      "Train Epoch: 4 [880/9990 (9%)]\tLoss: 3.102150, Accu: 12.50%\n",
      "Train Epoch: 4 [960/9990 (10%)]\tLoss: 4.339582, Accu: 12.50%\n",
      "Train Epoch: 4 [1040/9990 (10%)]\tLoss: 4.377702, Accu: 12.50%\n",
      "Train Epoch: 4 [1120/9990 (11%)]\tLoss: 4.544774, Accu: 0.00%\n",
      "Train Epoch: 4 [1200/9990 (12%)]\tLoss: 4.050898, Accu: 12.50%\n",
      "Train Epoch: 4 [1280/9990 (13%)]\tLoss: 4.064649, Accu: 12.50%\n",
      "Train Epoch: 4 [1360/9990 (14%)]\tLoss: 4.704045, Accu: 0.00%\n",
      "Train Epoch: 4 [1440/9990 (14%)]\tLoss: 3.576671, Accu: 0.00%\n",
      "Train Epoch: 4 [1520/9990 (15%)]\tLoss: 4.701705, Accu: 0.00%\n",
      "Train Epoch: 4 [1600/9990 (16%)]\tLoss: 4.332932, Accu: 0.00%\n",
      "Train Epoch: 4 [1680/9990 (17%)]\tLoss: 4.143272, Accu: 12.50%\n",
      "Train Epoch: 4 [1760/9990 (18%)]\tLoss: 4.530024, Accu: 0.00%\n",
      "Train Epoch: 4 [1840/9990 (18%)]\tLoss: 4.586460, Accu: 0.00%\n",
      "Train Epoch: 4 [1920/9990 (19%)]\tLoss: 4.006250, Accu: 0.00%\n",
      "Train Epoch: 4 [2000/9990 (20%)]\tLoss: 4.315489, Accu: 0.00%\n",
      "Train Epoch: 4 [2080/9990 (21%)]\tLoss: 4.554059, Accu: 0.00%\n",
      "Train Epoch: 4 [2160/9990 (22%)]\tLoss: 3.564029, Accu: 25.00%\n",
      "Train Epoch: 4 [2240/9990 (22%)]\tLoss: 4.452487, Accu: 0.00%\n",
      "Train Epoch: 4 [2320/9990 (23%)]\tLoss: 4.491291, Accu: 0.00%\n"
     ]
    },
    {
     "name": "stdout",
     "output_type": "stream",
     "text": [
      "Train Epoch: 4 [2400/9990 (24%)]\tLoss: 4.625229, Accu: 0.00%\n",
      "Train Epoch: 4 [2480/9990 (25%)]\tLoss: 4.547662, Accu: 0.00%\n",
      "Train Epoch: 4 [2560/9990 (26%)]\tLoss: 4.338779, Accu: 0.00%\n",
      "Train Epoch: 4 [2640/9990 (26%)]\tLoss: 4.829698, Accu: 0.00%\n",
      "Train Epoch: 4 [2720/9990 (27%)]\tLoss: 3.976784, Accu: 0.00%\n",
      "Train Epoch: 4 [2800/9990 (28%)]\tLoss: 4.733864, Accu: 0.00%\n",
      "Train Epoch: 4 [2880/9990 (29%)]\tLoss: 4.609768, Accu: 0.00%\n",
      "Train Epoch: 4 [2960/9990 (30%)]\tLoss: 4.497956, Accu: 0.00%\n",
      "Train Epoch: 4 [3040/9990 (30%)]\tLoss: 4.621644, Accu: 0.00%\n",
      "Train Epoch: 4 [3120/9990 (31%)]\tLoss: 4.458299, Accu: 0.00%\n",
      "Train Epoch: 4 [3200/9990 (32%)]\tLoss: 4.317086, Accu: 0.00%\n",
      "Train Epoch: 4 [3280/9990 (33%)]\tLoss: 3.804739, Accu: 12.50%\n",
      "Train Epoch: 4 [3360/9990 (34%)]\tLoss: 3.944569, Accu: 12.50%\n",
      "Train Epoch: 4 [3440/9990 (34%)]\tLoss: 3.970656, Accu: 12.50%\n",
      "Train Epoch: 4 [3520/9990 (35%)]\tLoss: 4.317905, Accu: 0.00%\n",
      "Train Epoch: 4 [3600/9990 (36%)]\tLoss: 4.524628, Accu: 0.00%\n",
      "Train Epoch: 4 [3680/9990 (37%)]\tLoss: 3.936371, Accu: 12.50%\n",
      "Train Epoch: 4 [3760/9990 (38%)]\tLoss: 4.483179, Accu: 0.00%\n",
      "Train Epoch: 4 [3840/9990 (38%)]\tLoss: 4.468678, Accu: 12.50%\n",
      "Train Epoch: 4 [3920/9990 (39%)]\tLoss: 3.859390, Accu: 12.50%\n",
      "Train Epoch: 4 [4000/9990 (40%)]\tLoss: 4.184114, Accu: 0.00%\n",
      "Train Epoch: 4 [4080/9990 (41%)]\tLoss: 4.543621, Accu: 12.50%\n",
      "Train Epoch: 4 [4160/9990 (42%)]\tLoss: 4.273962, Accu: 0.00%\n",
      "Train Epoch: 4 [4240/9990 (42%)]\tLoss: 4.415789, Accu: 0.00%\n",
      "Train Epoch: 4 [4320/9990 (43%)]\tLoss: 4.380345, Accu: 0.00%\n",
      "Train Epoch: 4 [4400/9990 (44%)]\tLoss: 4.363260, Accu: 0.00%\n",
      "Train Epoch: 4 [4480/9990 (45%)]\tLoss: 4.492934, Accu: 12.50%\n",
      "Train Epoch: 4 [4560/9990 (46%)]\tLoss: 4.336499, Accu: 0.00%\n",
      "Train Epoch: 4 [4640/9990 (46%)]\tLoss: 4.291255, Accu: 0.00%\n",
      "Train Epoch: 4 [4720/9990 (47%)]\tLoss: 4.523627, Accu: 0.00%\n",
      "Train Epoch: 4 [4800/9990 (48%)]\tLoss: 4.474028, Accu: 0.00%\n",
      "Train Epoch: 4 [4880/9990 (49%)]\tLoss: 4.333011, Accu: 0.00%\n",
      "Train Epoch: 4 [4960/9990 (50%)]\tLoss: 3.699148, Accu: 12.50%\n",
      "Train Epoch: 4 [5040/9990 (50%)]\tLoss: 4.413964, Accu: 0.00%\n",
      "Train Epoch: 4 [5120/9990 (51%)]\tLoss: 4.712039, Accu: 0.00%\n",
      "Train Epoch: 4 [5200/9990 (52%)]\tLoss: 3.999666, Accu: 0.00%\n",
      "Train Epoch: 4 [5280/9990 (53%)]\tLoss: 4.228007, Accu: 0.00%\n",
      "Train Epoch: 4 [5360/9990 (54%)]\tLoss: 3.850058, Accu: 25.00%\n",
      "Train Epoch: 4 [5440/9990 (54%)]\tLoss: 4.188322, Accu: 12.50%\n",
      "Train Epoch: 4 [5520/9990 (55%)]\tLoss: 4.578680, Accu: 0.00%\n",
      "Train Epoch: 4 [5600/9990 (56%)]\tLoss: 4.146469, Accu: 0.00%\n",
      "Train Epoch: 4 [5680/9990 (57%)]\tLoss: 3.743508, Accu: 12.50%\n",
      "Train Epoch: 4 [5760/9990 (58%)]\tLoss: 4.469769, Accu: 0.00%\n",
      "Train Epoch: 4 [5840/9990 (58%)]\tLoss: 5.146603, Accu: 0.00%\n",
      "Train Epoch: 4 [5920/9990 (59%)]\tLoss: 4.237533, Accu: 0.00%\n",
      "Train Epoch: 4 [6000/9990 (60%)]\tLoss: 3.560681, Accu: 12.50%\n",
      "Train Epoch: 4 [6080/9990 (61%)]\tLoss: 4.277227, Accu: 0.00%\n",
      "Train Epoch: 4 [6160/9990 (62%)]\tLoss: 4.387032, Accu: 0.00%\n",
      "Train Epoch: 4 [6240/9990 (62%)]\tLoss: 4.043010, Accu: 12.50%\n",
      "Train Epoch: 4 [6320/9990 (63%)]\tLoss: 4.397911, Accu: 0.00%\n",
      "Train Epoch: 4 [6400/9990 (64%)]\tLoss: 4.553682, Accu: 0.00%\n",
      "Train Epoch: 4 [6480/9990 (65%)]\tLoss: 4.333039, Accu: 0.00%\n",
      "Train Epoch: 4 [6560/9990 (66%)]\tLoss: 3.708304, Accu: 12.50%\n",
      "Train Epoch: 4 [6640/9990 (66%)]\tLoss: 4.576283, Accu: 0.00%\n",
      "Train Epoch: 4 [6720/9990 (67%)]\tLoss: 4.505727, Accu: 0.00%\n",
      "Train Epoch: 4 [6800/9990 (68%)]\tLoss: 4.270919, Accu: 0.00%\n",
      "Train Epoch: 4 [6880/9990 (69%)]\tLoss: 4.384569, Accu: 0.00%\n",
      "Train Epoch: 4 [6960/9990 (70%)]\tLoss: 3.781392, Accu: 25.00%\n",
      "Train Epoch: 4 [7040/9990 (70%)]\tLoss: 3.850098, Accu: 12.50%\n",
      "Train Epoch: 4 [7120/9990 (71%)]\tLoss: 4.502539, Accu: 0.00%\n",
      "Train Epoch: 4 [7200/9990 (72%)]\tLoss: 4.334258, Accu: 0.00%\n",
      "Train Epoch: 4 [7280/9990 (73%)]\tLoss: 3.714355, Accu: 12.50%\n",
      "Train Epoch: 4 [7360/9990 (74%)]\tLoss: 4.007726, Accu: 0.00%\n",
      "Train Epoch: 4 [7440/9990 (74%)]\tLoss: 4.404084, Accu: 0.00%\n",
      "Train Epoch: 4 [7520/9990 (75%)]\tLoss: 4.663880, Accu: 0.00%\n",
      "Train Epoch: 4 [7600/9990 (76%)]\tLoss: 4.393479, Accu: 12.50%\n",
      "Train Epoch: 4 [7680/9990 (77%)]\tLoss: 3.407925, Accu: 12.50%\n",
      "Train Epoch: 4 [7760/9990 (78%)]\tLoss: 4.001924, Accu: 0.00%\n",
      "Train Epoch: 4 [7840/9990 (78%)]\tLoss: 4.165808, Accu: 0.00%\n",
      "Train Epoch: 4 [7920/9990 (79%)]\tLoss: 4.098381, Accu: 12.50%\n",
      "Train Epoch: 4 [8000/9990 (80%)]\tLoss: 4.252553, Accu: 0.00%\n",
      "Train Epoch: 4 [8080/9990 (81%)]\tLoss: 4.365032, Accu: 0.00%\n",
      "Train Epoch: 4 [8160/9990 (82%)]\tLoss: 4.611660, Accu: 0.00%\n",
      "Train Epoch: 4 [8240/9990 (82%)]\tLoss: 4.476851, Accu: 0.00%\n",
      "Train Epoch: 4 [8320/9990 (83%)]\tLoss: 4.371456, Accu: 0.00%\n",
      "Train Epoch: 4 [8400/9990 (84%)]\tLoss: 4.056883, Accu: 0.00%\n",
      "Train Epoch: 4 [8480/9990 (85%)]\tLoss: 4.059361, Accu: 0.00%\n",
      "Train Epoch: 4 [8560/9990 (86%)]\tLoss: 4.120414, Accu: 0.00%\n",
      "Train Epoch: 4 [8640/9990 (86%)]\tLoss: 4.498955, Accu: 12.50%\n",
      "Train Epoch: 4 [8720/9990 (87%)]\tLoss: 4.205382, Accu: 0.00%\n",
      "Train Epoch: 4 [8800/9990 (88%)]\tLoss: 4.238537, Accu: 0.00%\n",
      "Train Epoch: 4 [8880/9990 (89%)]\tLoss: 4.448916, Accu: 0.00%\n",
      "Train Epoch: 4 [8960/9990 (90%)]\tLoss: 4.199132, Accu: 0.00%\n",
      "Train Epoch: 4 [9040/9990 (90%)]\tLoss: 4.447928, Accu: 0.00%\n",
      "Train Epoch: 4 [9120/9990 (91%)]\tLoss: 4.501449, Accu: 0.00%\n",
      "Train Epoch: 4 [9200/9990 (92%)]\tLoss: 4.550525, Accu: 0.00%\n",
      "Train Epoch: 4 [9280/9990 (93%)]\tLoss: 4.218454, Accu: 0.00%\n",
      "Train Epoch: 4 [9360/9990 (94%)]\tLoss: 4.243050, Accu: 0.00%\n",
      "Train Epoch: 4 [9440/9990 (94%)]\tLoss: 4.284749, Accu: 0.00%\n",
      "Train Epoch: 4 [9520/9990 (95%)]\tLoss: 4.126640, Accu: 0.00%\n",
      "Train Epoch: 4 [9600/9990 (96%)]\tLoss: 4.502105, Accu: 0.00%\n",
      "Train Epoch: 4 [9680/9990 (97%)]\tLoss: 4.513947, Accu: 0.00%\n",
      "Train Epoch: 4 [9760/9990 (98%)]\tLoss: 4.239304, Accu: 0.00%\n",
      "Train Epoch: 4 [9840/9990 (98%)]\tLoss: 4.407721, Accu: 0.00%\n",
      "Train Epoch: 4 [9920/9990 (99%)]\tLoss: 4.249206, Accu: 0.00%\n",
      "\n",
      "Test set (3330 samples): Average loss: 4.3299, Accuracy: 4.38%\n",
      "\n",
      "Epoch 4 model saved!\n",
      "Train Epoch: 5 [80/9990 (1%)]\tLoss: 4.149395, Accu: 0.00%\n",
      "Train Epoch: 5 [160/9990 (2%)]\tLoss: 3.706266, Accu: 12.50%\n",
      "Train Epoch: 5 [240/9990 (2%)]\tLoss: 3.816831, Accu: 12.50%\n",
      "Train Epoch: 5 [320/9990 (3%)]\tLoss: 4.183245, Accu: 0.00%\n",
      "Train Epoch: 5 [400/9990 (4%)]\tLoss: 4.384568, Accu: 0.00%\n",
      "Train Epoch: 5 [480/9990 (5%)]\tLoss: 4.274152, Accu: 0.00%\n",
      "Train Epoch: 5 [560/9990 (6%)]\tLoss: 4.130763, Accu: 0.00%\n",
      "Train Epoch: 5 [640/9990 (6%)]\tLoss: 4.406151, Accu: 0.00%\n",
      "Train Epoch: 5 [720/9990 (7%)]\tLoss: 3.968810, Accu: 12.50%\n",
      "Train Epoch: 5 [800/9990 (8%)]\tLoss: 3.743174, Accu: 25.00%\n",
      "Train Epoch: 5 [880/9990 (9%)]\tLoss: 4.331670, Accu: 12.50%\n",
      "Train Epoch: 5 [960/9990 (10%)]\tLoss: 4.068410, Accu: 0.00%\n",
      "Train Epoch: 5 [1040/9990 (10%)]\tLoss: 3.945757, Accu: 0.00%\n",
      "Train Epoch: 5 [1120/9990 (11%)]\tLoss: 4.446735, Accu: 0.00%\n",
      "Train Epoch: 5 [1200/9990 (12%)]\tLoss: 3.997151, Accu: 12.50%\n",
      "Train Epoch: 5 [1280/9990 (13%)]\tLoss: 4.145482, Accu: 0.00%\n",
      "Train Epoch: 5 [1360/9990 (14%)]\tLoss: 4.288162, Accu: 0.00%\n",
      "Train Epoch: 5 [1440/9990 (14%)]\tLoss: 4.089069, Accu: 0.00%\n",
      "Train Epoch: 5 [1520/9990 (15%)]\tLoss: 4.427878, Accu: 0.00%\n",
      "Train Epoch: 5 [1600/9990 (16%)]\tLoss: 4.167092, Accu: 0.00%\n",
      "Train Epoch: 5 [1680/9990 (17%)]\tLoss: 4.410130, Accu: 0.00%\n",
      "Train Epoch: 5 [1760/9990 (18%)]\tLoss: 4.296042, Accu: 0.00%\n",
      "Train Epoch: 5 [1840/9990 (18%)]\tLoss: 4.237954, Accu: 0.00%\n",
      "Train Epoch: 5 [1920/9990 (19%)]\tLoss: 4.048270, Accu: 0.00%\n",
      "Train Epoch: 5 [2000/9990 (20%)]\tLoss: 4.256524, Accu: 0.00%\n",
      "Train Epoch: 5 [2080/9990 (21%)]\tLoss: 3.045611, Accu: 25.00%\n",
      "Train Epoch: 5 [2160/9990 (22%)]\tLoss: 4.056071, Accu: 12.50%\n",
      "Train Epoch: 5 [2240/9990 (22%)]\tLoss: 4.139885, Accu: 0.00%\n",
      "Train Epoch: 5 [2320/9990 (23%)]\tLoss: 4.206804, Accu: 12.50%\n",
      "Train Epoch: 5 [2400/9990 (24%)]\tLoss: 4.377521, Accu: 0.00%\n",
      "Train Epoch: 5 [2480/9990 (25%)]\tLoss: 3.866363, Accu: 12.50%\n",
      "Train Epoch: 5 [2560/9990 (26%)]\tLoss: 3.376725, Accu: 12.50%\n",
      "Train Epoch: 5 [2640/9990 (26%)]\tLoss: 3.912310, Accu: 0.00%\n",
      "Train Epoch: 5 [2720/9990 (27%)]\tLoss: 4.589119, Accu: 0.00%\n",
      "Train Epoch: 5 [2800/9990 (28%)]\tLoss: 4.137951, Accu: 0.00%\n",
      "Train Epoch: 5 [2880/9990 (29%)]\tLoss: 4.200485, Accu: 12.50%\n",
      "Train Epoch: 5 [2960/9990 (30%)]\tLoss: 4.216594, Accu: 0.00%\n",
      "Train Epoch: 5 [3040/9990 (30%)]\tLoss: 4.104908, Accu: 0.00%\n"
     ]
    },
    {
     "name": "stdout",
     "output_type": "stream",
     "text": [
      "Train Epoch: 5 [3120/9990 (31%)]\tLoss: 3.944328, Accu: 25.00%\n",
      "Train Epoch: 5 [3200/9990 (32%)]\tLoss: 4.397751, Accu: 0.00%\n",
      "Train Epoch: 5 [3280/9990 (33%)]\tLoss: 4.178705, Accu: 0.00%\n",
      "Train Epoch: 5 [3360/9990 (34%)]\tLoss: 4.379551, Accu: 0.00%\n",
      "Train Epoch: 5 [3440/9990 (34%)]\tLoss: 4.060918, Accu: 0.00%\n",
      "Train Epoch: 5 [3520/9990 (35%)]\tLoss: 4.328767, Accu: 0.00%\n",
      "Train Epoch: 5 [3600/9990 (36%)]\tLoss: 4.232552, Accu: 12.50%\n",
      "Train Epoch: 5 [3680/9990 (37%)]\tLoss: 4.139632, Accu: 0.00%\n",
      "Train Epoch: 5 [3760/9990 (38%)]\tLoss: 4.346842, Accu: 0.00%\n",
      "Train Epoch: 5 [3840/9990 (38%)]\tLoss: 4.223153, Accu: 0.00%\n",
      "Train Epoch: 5 [3920/9990 (39%)]\tLoss: 3.887407, Accu: 0.00%\n",
      "Train Epoch: 5 [4000/9990 (40%)]\tLoss: 4.118397, Accu: 0.00%\n",
      "Train Epoch: 5 [4080/9990 (41%)]\tLoss: 3.322828, Accu: 25.00%\n",
      "Train Epoch: 5 [4160/9990 (42%)]\tLoss: 4.181217, Accu: 0.00%\n",
      "Train Epoch: 5 [4240/9990 (42%)]\tLoss: 5.490925, Accu: 0.00%\n",
      "Train Epoch: 5 [4320/9990 (43%)]\tLoss: 4.333539, Accu: 0.00%\n",
      "Train Epoch: 5 [4400/9990 (44%)]\tLoss: 3.531677, Accu: 12.50%\n",
      "Train Epoch: 5 [4480/9990 (45%)]\tLoss: 4.117848, Accu: 0.00%\n",
      "Train Epoch: 5 [4560/9990 (46%)]\tLoss: 4.200477, Accu: 12.50%\n",
      "Train Epoch: 5 [4640/9990 (46%)]\tLoss: 3.671761, Accu: 12.50%\n",
      "Train Epoch: 5 [4720/9990 (47%)]\tLoss: 4.296942, Accu: 12.50%\n",
      "Train Epoch: 5 [4800/9990 (48%)]\tLoss: 4.016819, Accu: 12.50%\n",
      "Train Epoch: 5 [4880/9990 (49%)]\tLoss: 3.655059, Accu: 12.50%\n",
      "Train Epoch: 5 [4960/9990 (50%)]\tLoss: 4.573693, Accu: 0.00%\n",
      "Train Epoch: 5 [5040/9990 (50%)]\tLoss: 4.376940, Accu: 0.00%\n",
      "Train Epoch: 5 [5120/9990 (51%)]\tLoss: 4.260479, Accu: 0.00%\n",
      "Train Epoch: 5 [5200/9990 (52%)]\tLoss: 4.422794, Accu: 0.00%\n",
      "Train Epoch: 5 [5280/9990 (53%)]\tLoss: 5.051322, Accu: 0.00%\n",
      "Train Epoch: 5 [5360/9990 (54%)]\tLoss: 4.312372, Accu: 0.00%\n",
      "Train Epoch: 5 [5440/9990 (54%)]\tLoss: 4.335665, Accu: 0.00%\n",
      "Train Epoch: 5 [5520/9990 (55%)]\tLoss: 4.074205, Accu: 12.50%\n",
      "Train Epoch: 5 [5600/9990 (56%)]\tLoss: 4.507883, Accu: 0.00%\n",
      "Train Epoch: 5 [5680/9990 (57%)]\tLoss: 3.862624, Accu: 0.00%\n",
      "Train Epoch: 5 [5760/9990 (58%)]\tLoss: 4.595666, Accu: 0.00%\n",
      "Train Epoch: 5 [5840/9990 (58%)]\tLoss: 4.330831, Accu: 0.00%\n",
      "Train Epoch: 5 [5920/9990 (59%)]\tLoss: 4.595538, Accu: 12.50%\n",
      "Train Epoch: 5 [6000/9990 (60%)]\tLoss: 3.162750, Accu: 25.00%\n",
      "Train Epoch: 5 [6080/9990 (61%)]\tLoss: 4.216536, Accu: 0.00%\n",
      "Train Epoch: 5 [6160/9990 (62%)]\tLoss: 4.180482, Accu: 0.00%\n",
      "Train Epoch: 5 [6240/9990 (62%)]\tLoss: 4.322556, Accu: 0.00%\n",
      "Train Epoch: 5 [6320/9990 (63%)]\tLoss: 4.530918, Accu: 0.00%\n",
      "Train Epoch: 5 [6400/9990 (64%)]\tLoss: 4.332630, Accu: 0.00%\n",
      "Train Epoch: 5 [6480/9990 (65%)]\tLoss: 3.633509, Accu: 12.50%\n",
      "Train Epoch: 5 [6560/9990 (66%)]\tLoss: 3.922875, Accu: 25.00%\n",
      "Train Epoch: 5 [6640/9990 (66%)]\tLoss: 3.684725, Accu: 12.50%\n",
      "Train Epoch: 5 [6720/9990 (67%)]\tLoss: 4.417105, Accu: 0.00%\n",
      "Train Epoch: 5 [6800/9990 (68%)]\tLoss: 3.130762, Accu: 12.50%\n",
      "Train Epoch: 5 [6880/9990 (69%)]\tLoss: 4.201416, Accu: 0.00%\n",
      "Train Epoch: 5 [6960/9990 (70%)]\tLoss: 4.400023, Accu: 0.00%\n",
      "Train Epoch: 5 [7040/9990 (70%)]\tLoss: 4.649568, Accu: 0.00%\n",
      "Train Epoch: 5 [7120/9990 (71%)]\tLoss: 4.306655, Accu: 0.00%\n",
      "Train Epoch: 5 [7200/9990 (72%)]\tLoss: 3.970236, Accu: 12.50%\n",
      "Train Epoch: 5 [7280/9990 (73%)]\tLoss: 4.222960, Accu: 0.00%\n",
      "Train Epoch: 5 [7360/9990 (74%)]\tLoss: 4.570636, Accu: 0.00%\n",
      "Train Epoch: 5 [7440/9990 (74%)]\tLoss: 3.896765, Accu: 12.50%\n",
      "Train Epoch: 5 [7520/9990 (75%)]\tLoss: 5.497797, Accu: 12.50%\n",
      "Train Epoch: 5 [7600/9990 (76%)]\tLoss: 4.207775, Accu: 0.00%\n",
      "Train Epoch: 5 [7680/9990 (77%)]\tLoss: 4.247538, Accu: 0.00%\n",
      "Train Epoch: 5 [7760/9990 (78%)]\tLoss: 3.928292, Accu: 0.00%\n",
      "Train Epoch: 5 [7840/9990 (78%)]\tLoss: 4.311378, Accu: 0.00%\n",
      "Train Epoch: 5 [7920/9990 (79%)]\tLoss: 4.272588, Accu: 0.00%\n",
      "Train Epoch: 5 [8000/9990 (80%)]\tLoss: 3.029832, Accu: 25.00%\n",
      "Train Epoch: 5 [8080/9990 (81%)]\tLoss: 4.326458, Accu: 0.00%\n",
      "Train Epoch: 5 [8160/9990 (82%)]\tLoss: 3.137331, Accu: 12.50%\n",
      "Train Epoch: 5 [8240/9990 (82%)]\tLoss: 3.973671, Accu: 12.50%\n",
      "Train Epoch: 5 [8320/9990 (83%)]\tLoss: 4.248783, Accu: 0.00%\n",
      "Train Epoch: 5 [8400/9990 (84%)]\tLoss: 4.351023, Accu: 0.00%\n",
      "Train Epoch: 5 [8480/9990 (85%)]\tLoss: 4.024633, Accu: 0.00%\n",
      "Train Epoch: 5 [8560/9990 (86%)]\tLoss: 3.867393, Accu: 12.50%\n",
      "Train Epoch: 5 [8640/9990 (86%)]\tLoss: 4.403071, Accu: 0.00%\n",
      "Train Epoch: 5 [8720/9990 (87%)]\tLoss: 4.190544, Accu: 0.00%\n",
      "Train Epoch: 5 [8800/9990 (88%)]\tLoss: 4.144727, Accu: 12.50%\n",
      "Train Epoch: 5 [8880/9990 (89%)]\tLoss: 4.466386, Accu: 0.00%\n",
      "Train Epoch: 5 [8960/9990 (90%)]\tLoss: 4.555318, Accu: 0.00%\n",
      "Train Epoch: 5 [9040/9990 (90%)]\tLoss: 4.924778, Accu: 0.00%\n",
      "Train Epoch: 5 [9120/9990 (91%)]\tLoss: 3.243420, Accu: 37.50%\n",
      "Train Epoch: 5 [9200/9990 (92%)]\tLoss: 4.044692, Accu: 0.00%\n",
      "Train Epoch: 5 [9280/9990 (93%)]\tLoss: 4.212272, Accu: 0.00%\n",
      "Train Epoch: 5 [9360/9990 (94%)]\tLoss: 3.673062, Accu: 12.50%\n",
      "Train Epoch: 5 [9440/9990 (94%)]\tLoss: 4.148192, Accu: 0.00%\n",
      "Train Epoch: 5 [9520/9990 (95%)]\tLoss: 3.793421, Accu: 12.50%\n",
      "Train Epoch: 5 [9600/9990 (96%)]\tLoss: 4.511114, Accu: 0.00%\n",
      "Train Epoch: 5 [9680/9990 (97%)]\tLoss: 3.291247, Accu: 25.00%\n",
      "Train Epoch: 5 [9760/9990 (98%)]\tLoss: 4.192806, Accu: 0.00%\n",
      "Train Epoch: 5 [9840/9990 (98%)]\tLoss: 3.439895, Accu: 25.00%\n",
      "Train Epoch: 5 [9920/9990 (99%)]\tLoss: 4.273087, Accu: 0.00%\n",
      "\n",
      "Test set (3330 samples): Average loss: 4.1855, Accuracy: 5.53%\n",
      "\n",
      "Epoch 5 model saved!\n",
      "Train Epoch: 6 [80/9990 (1%)]\tLoss: 3.240997, Accu: 12.50%\n",
      "Train Epoch: 6 [160/9990 (2%)]\tLoss: 4.141227, Accu: 0.00%\n",
      "Train Epoch: 6 [240/9990 (2%)]\tLoss: 4.195335, Accu: 0.00%\n",
      "Train Epoch: 6 [320/9990 (3%)]\tLoss: 4.227021, Accu: 0.00%\n",
      "Train Epoch: 6 [400/9990 (4%)]\tLoss: 4.843897, Accu: 0.00%\n",
      "Train Epoch: 6 [480/9990 (5%)]\tLoss: 4.904336, Accu: 0.00%\n",
      "Train Epoch: 6 [560/9990 (6%)]\tLoss: 3.704419, Accu: 0.00%\n",
      "Train Epoch: 6 [640/9990 (6%)]\tLoss: 3.638848, Accu: 25.00%\n",
      "Train Epoch: 6 [720/9990 (7%)]\tLoss: 3.662913, Accu: 12.50%\n",
      "Train Epoch: 6 [800/9990 (8%)]\tLoss: 3.660052, Accu: 0.00%\n",
      "Train Epoch: 6 [880/9990 (9%)]\tLoss: 4.200211, Accu: 12.50%\n",
      "Train Epoch: 6 [960/9990 (10%)]\tLoss: 4.050689, Accu: 0.00%\n",
      "Train Epoch: 6 [1040/9990 (10%)]\tLoss: 4.067035, Accu: 12.50%\n",
      "Train Epoch: 6 [1120/9990 (11%)]\tLoss: 3.489045, Accu: 0.00%\n",
      "Train Epoch: 6 [1200/9990 (12%)]\tLoss: 4.060207, Accu: 0.00%\n",
      "Train Epoch: 6 [1280/9990 (13%)]\tLoss: 4.075983, Accu: 12.50%\n",
      "Train Epoch: 6 [1360/9990 (14%)]\tLoss: 4.078760, Accu: 12.50%\n",
      "Train Epoch: 6 [1440/9990 (14%)]\tLoss: 4.331535, Accu: 0.00%\n",
      "Train Epoch: 6 [1520/9990 (15%)]\tLoss: 3.955593, Accu: 12.50%\n",
      "Train Epoch: 6 [1600/9990 (16%)]\tLoss: 4.141970, Accu: 0.00%\n",
      "Train Epoch: 6 [1680/9990 (17%)]\tLoss: 3.738062, Accu: 0.00%\n",
      "Train Epoch: 6 [1760/9990 (18%)]\tLoss: 3.490703, Accu: 12.50%\n",
      "Train Epoch: 6 [1840/9990 (18%)]\tLoss: 3.573288, Accu: 12.50%\n",
      "Train Epoch: 6 [1920/9990 (19%)]\tLoss: 4.121654, Accu: 0.00%\n",
      "Train Epoch: 6 [2000/9990 (20%)]\tLoss: 3.463341, Accu: 12.50%\n",
      "Train Epoch: 6 [2080/9990 (21%)]\tLoss: 3.406990, Accu: 25.00%\n",
      "Train Epoch: 6 [2160/9990 (22%)]\tLoss: 3.573154, Accu: 25.00%\n",
      "Train Epoch: 6 [2240/9990 (22%)]\tLoss: 3.706822, Accu: 12.50%\n",
      "Train Epoch: 6 [2320/9990 (23%)]\tLoss: 3.892734, Accu: 0.00%\n",
      "Train Epoch: 6 [2400/9990 (24%)]\tLoss: 4.446375, Accu: 0.00%\n",
      "Train Epoch: 6 [2480/9990 (25%)]\tLoss: 3.910024, Accu: 12.50%\n",
      "Train Epoch: 6 [2560/9990 (26%)]\tLoss: 4.192548, Accu: 0.00%\n",
      "Train Epoch: 6 [2640/9990 (26%)]\tLoss: 4.131842, Accu: 12.50%\n",
      "Train Epoch: 6 [2720/9990 (27%)]\tLoss: 3.853567, Accu: 0.00%\n",
      "Train Epoch: 6 [2800/9990 (28%)]\tLoss: 3.988840, Accu: 12.50%\n",
      "Train Epoch: 6 [2880/9990 (29%)]\tLoss: 3.503625, Accu: 12.50%\n",
      "Train Epoch: 6 [2960/9990 (30%)]\tLoss: 4.303104, Accu: 0.00%\n",
      "Train Epoch: 6 [3040/9990 (30%)]\tLoss: 3.897993, Accu: 12.50%\n",
      "Train Epoch: 6 [3120/9990 (31%)]\tLoss: 4.068102, Accu: 12.50%\n",
      "Train Epoch: 6 [3200/9990 (32%)]\tLoss: 4.530748, Accu: 0.00%\n",
      "Train Epoch: 6 [3280/9990 (33%)]\tLoss: 4.165870, Accu: 12.50%\n",
      "Train Epoch: 6 [3360/9990 (34%)]\tLoss: 4.003332, Accu: 0.00%\n",
      "Train Epoch: 6 [3440/9990 (34%)]\tLoss: 3.796114, Accu: 0.00%\n",
      "Train Epoch: 6 [3520/9990 (35%)]\tLoss: 3.313265, Accu: 37.50%\n",
      "Train Epoch: 6 [3600/9990 (36%)]\tLoss: 3.557528, Accu: 12.50%\n",
      "Train Epoch: 6 [3680/9990 (37%)]\tLoss: 4.511492, Accu: 0.00%\n",
      "Train Epoch: 6 [3760/9990 (38%)]\tLoss: 3.765958, Accu: 12.50%\n"
     ]
    },
    {
     "name": "stdout",
     "output_type": "stream",
     "text": [
      "Train Epoch: 6 [3840/9990 (38%)]\tLoss: 3.076571, Accu: 25.00%\n",
      "Train Epoch: 6 [3920/9990 (39%)]\tLoss: 3.937233, Accu: 25.00%\n",
      "Train Epoch: 6 [4000/9990 (40%)]\tLoss: 4.096372, Accu: 0.00%\n",
      "Train Epoch: 6 [4080/9990 (41%)]\tLoss: 3.641487, Accu: 12.50%\n",
      "Train Epoch: 6 [4160/9990 (42%)]\tLoss: 4.158954, Accu: 12.50%\n",
      "Train Epoch: 6 [4240/9990 (42%)]\tLoss: 3.713282, Accu: 12.50%\n",
      "Train Epoch: 6 [4320/9990 (43%)]\tLoss: 3.651453, Accu: 12.50%\n",
      "Train Epoch: 6 [4400/9990 (44%)]\tLoss: 3.936202, Accu: 0.00%\n",
      "Train Epoch: 6 [4480/9990 (45%)]\tLoss: 4.028073, Accu: 0.00%\n",
      "Train Epoch: 6 [4560/9990 (46%)]\tLoss: 3.857390, Accu: 0.00%\n",
      "Train Epoch: 6 [4640/9990 (46%)]\tLoss: 4.428849, Accu: 0.00%\n",
      "Train Epoch: 6 [4720/9990 (47%)]\tLoss: 4.173972, Accu: 0.00%\n",
      "Train Epoch: 6 [4800/9990 (48%)]\tLoss: 3.596612, Accu: 12.50%\n",
      "Train Epoch: 6 [4880/9990 (49%)]\tLoss: 4.027411, Accu: 12.50%\n",
      "Train Epoch: 6 [4960/9990 (50%)]\tLoss: 4.382493, Accu: 0.00%\n",
      "Train Epoch: 6 [5040/9990 (50%)]\tLoss: 4.321440, Accu: 25.00%\n",
      "Train Epoch: 6 [5120/9990 (51%)]\tLoss: 3.815839, Accu: 12.50%\n",
      "Train Epoch: 6 [5200/9990 (52%)]\tLoss: 3.960217, Accu: 0.00%\n",
      "Train Epoch: 6 [5280/9990 (53%)]\tLoss: 3.864370, Accu: 0.00%\n",
      "Train Epoch: 6 [5360/9990 (54%)]\tLoss: 3.771973, Accu: 0.00%\n",
      "Train Epoch: 6 [5440/9990 (54%)]\tLoss: 3.724508, Accu: 0.00%\n",
      "Train Epoch: 6 [5520/9990 (55%)]\tLoss: 4.110825, Accu: 0.00%\n",
      "Train Epoch: 6 [5600/9990 (56%)]\tLoss: 4.574647, Accu: 0.00%\n",
      "Train Epoch: 6 [5680/9990 (57%)]\tLoss: 4.237307, Accu: 0.00%\n",
      "Train Epoch: 6 [5760/9990 (58%)]\tLoss: 4.490108, Accu: 0.00%\n",
      "Train Epoch: 6 [5840/9990 (58%)]\tLoss: 4.126247, Accu: 0.00%\n",
      "Train Epoch: 6 [5920/9990 (59%)]\tLoss: 3.741950, Accu: 12.50%\n",
      "Train Epoch: 6 [6000/9990 (60%)]\tLoss: 3.571693, Accu: 25.00%\n",
      "Train Epoch: 6 [6080/9990 (61%)]\tLoss: 3.238216, Accu: 37.50%\n",
      "Train Epoch: 6 [6160/9990 (62%)]\tLoss: 3.479918, Accu: 25.00%\n",
      "Train Epoch: 6 [6240/9990 (62%)]\tLoss: 3.839978, Accu: 12.50%\n",
      "Train Epoch: 6 [6320/9990 (63%)]\tLoss: 3.815510, Accu: 12.50%\n",
      "Train Epoch: 6 [6400/9990 (64%)]\tLoss: 3.805974, Accu: 12.50%\n",
      "Train Epoch: 6 [6480/9990 (65%)]\tLoss: 4.225408, Accu: 0.00%\n",
      "Train Epoch: 6 [6560/9990 (66%)]\tLoss: 4.268630, Accu: 0.00%\n",
      "Train Epoch: 6 [6640/9990 (66%)]\tLoss: 4.209461, Accu: 0.00%\n",
      "Train Epoch: 6 [6720/9990 (67%)]\tLoss: 3.705582, Accu: 12.50%\n",
      "Train Epoch: 6 [6800/9990 (68%)]\tLoss: 3.588136, Accu: 12.50%\n",
      "Train Epoch: 6 [6880/9990 (69%)]\tLoss: 4.510292, Accu: 0.00%\n",
      "Train Epoch: 6 [6960/9990 (70%)]\tLoss: 3.583735, Accu: 25.00%\n",
      "Train Epoch: 6 [7040/9990 (70%)]\tLoss: 3.488395, Accu: 12.50%\n",
      "Train Epoch: 6 [7120/9990 (71%)]\tLoss: 4.417135, Accu: 0.00%\n",
      "Train Epoch: 6 [7200/9990 (72%)]\tLoss: 3.702386, Accu: 12.50%\n",
      "Train Epoch: 6 [7280/9990 (73%)]\tLoss: 3.982027, Accu: 12.50%\n",
      "Train Epoch: 6 [7360/9990 (74%)]\tLoss: 4.275187, Accu: 12.50%\n",
      "Train Epoch: 6 [7440/9990 (74%)]\tLoss: 3.616984, Accu: 0.00%\n",
      "Train Epoch: 6 [7520/9990 (75%)]\tLoss: 3.639941, Accu: 0.00%\n",
      "Train Epoch: 6 [7600/9990 (76%)]\tLoss: 3.781778, Accu: 0.00%\n",
      "Train Epoch: 6 [7680/9990 (77%)]\tLoss: 3.573709, Accu: 12.50%\n",
      "Train Epoch: 6 [7760/9990 (78%)]\tLoss: 3.609816, Accu: 12.50%\n",
      "Train Epoch: 6 [7840/9990 (78%)]\tLoss: 3.485043, Accu: 12.50%\n",
      "Train Epoch: 6 [7920/9990 (79%)]\tLoss: 3.617631, Accu: 25.00%\n",
      "Train Epoch: 6 [8000/9990 (80%)]\tLoss: 4.356899, Accu: 0.00%\n",
      "Train Epoch: 6 [8080/9990 (81%)]\tLoss: 3.797460, Accu: 0.00%\n",
      "Train Epoch: 6 [8160/9990 (82%)]\tLoss: 4.507084, Accu: 0.00%\n",
      "Train Epoch: 6 [8240/9990 (82%)]\tLoss: 4.548909, Accu: 12.50%\n",
      "Train Epoch: 6 [8320/9990 (83%)]\tLoss: 2.950935, Accu: 25.00%\n",
      "Train Epoch: 6 [8400/9990 (84%)]\tLoss: 4.299605, Accu: 0.00%\n",
      "Train Epoch: 6 [8480/9990 (85%)]\tLoss: 4.347683, Accu: 0.00%\n",
      "Train Epoch: 6 [8560/9990 (86%)]\tLoss: 3.928760, Accu: 0.00%\n",
      "Train Epoch: 6 [8640/9990 (86%)]\tLoss: 4.291857, Accu: 0.00%\n",
      "Train Epoch: 6 [8720/9990 (87%)]\tLoss: 3.820875, Accu: 12.50%\n",
      "Train Epoch: 6 [8800/9990 (88%)]\tLoss: 3.859245, Accu: 12.50%\n",
      "Train Epoch: 6 [8880/9990 (89%)]\tLoss: 4.581540, Accu: 0.00%\n",
      "Train Epoch: 6 [8960/9990 (90%)]\tLoss: 4.576235, Accu: 0.00%\n",
      "Train Epoch: 6 [9040/9990 (90%)]\tLoss: 3.938949, Accu: 0.00%\n",
      "Train Epoch: 6 [9120/9990 (91%)]\tLoss: 3.895452, Accu: 12.50%\n",
      "Train Epoch: 6 [9200/9990 (92%)]\tLoss: 3.967132, Accu: 0.00%\n",
      "Train Epoch: 6 [9280/9990 (93%)]\tLoss: 4.113973, Accu: 0.00%\n",
      "Train Epoch: 6 [9360/9990 (94%)]\tLoss: 3.653334, Accu: 0.00%\n",
      "Train Epoch: 6 [9440/9990 (94%)]\tLoss: 3.516873, Accu: 0.00%\n",
      "Train Epoch: 6 [9520/9990 (95%)]\tLoss: 4.014814, Accu: 0.00%\n",
      "Train Epoch: 6 [9600/9990 (96%)]\tLoss: 3.659061, Accu: 0.00%\n",
      "Train Epoch: 6 [9680/9990 (97%)]\tLoss: 3.773590, Accu: 0.00%\n",
      "Train Epoch: 6 [9760/9990 (98%)]\tLoss: 4.282934, Accu: 0.00%\n",
      "Train Epoch: 6 [9840/9990 (98%)]\tLoss: 3.703686, Accu: 12.50%\n",
      "Train Epoch: 6 [9920/9990 (99%)]\tLoss: 3.335004, Accu: 12.50%\n",
      "\n",
      "Test set (3330 samples): Average loss: 4.2243, Accuracy: 6.25%\n",
      "\n",
      "Epoch 6 model saved!\n",
      "Train Epoch: 7 [80/9990 (1%)]\tLoss: 4.071501, Accu: 25.00%\n",
      "Train Epoch: 7 [160/9990 (2%)]\tLoss: 3.452831, Accu: 12.50%\n",
      "Train Epoch: 7 [240/9990 (2%)]\tLoss: 4.128945, Accu: 0.00%\n",
      "Train Epoch: 7 [320/9990 (3%)]\tLoss: 4.311967, Accu: 12.50%\n",
      "Train Epoch: 7 [400/9990 (4%)]\tLoss: 3.796562, Accu: 0.00%\n",
      "Train Epoch: 7 [480/9990 (5%)]\tLoss: 3.940558, Accu: 0.00%\n",
      "Train Epoch: 7 [560/9990 (6%)]\tLoss: 3.813996, Accu: 0.00%\n",
      "Train Epoch: 7 [640/9990 (6%)]\tLoss: 3.141061, Accu: 12.50%\n",
      "Train Epoch: 7 [720/9990 (7%)]\tLoss: 3.347623, Accu: 12.50%\n",
      "Train Epoch: 7 [800/9990 (8%)]\tLoss: 3.601695, Accu: 0.00%\n",
      "Train Epoch: 7 [880/9990 (9%)]\tLoss: 3.950120, Accu: 0.00%\n",
      "Train Epoch: 7 [960/9990 (10%)]\tLoss: 3.395596, Accu: 12.50%\n",
      "Train Epoch: 7 [1040/9990 (10%)]\tLoss: 3.660893, Accu: 0.00%\n",
      "Train Epoch: 7 [1120/9990 (11%)]\tLoss: 4.136509, Accu: 0.00%\n",
      "Train Epoch: 7 [1200/9990 (12%)]\tLoss: 3.648956, Accu: 25.00%\n",
      "Train Epoch: 7 [1280/9990 (13%)]\tLoss: 3.763382, Accu: 0.00%\n",
      "Train Epoch: 7 [1360/9990 (14%)]\tLoss: 3.749701, Accu: 12.50%\n",
      "Train Epoch: 7 [1440/9990 (14%)]\tLoss: 3.438554, Accu: 25.00%\n",
      "Train Epoch: 7 [1520/9990 (15%)]\tLoss: 3.502163, Accu: 0.00%\n",
      "Train Epoch: 7 [1600/9990 (16%)]\tLoss: 3.738684, Accu: 12.50%\n",
      "Train Epoch: 7 [1680/9990 (17%)]\tLoss: 4.203768, Accu: 0.00%\n",
      "Train Epoch: 7 [1760/9990 (18%)]\tLoss: 4.025766, Accu: 12.50%\n",
      "Train Epoch: 7 [1840/9990 (18%)]\tLoss: 4.088506, Accu: 0.00%\n",
      "Train Epoch: 7 [1920/9990 (19%)]\tLoss: 4.140844, Accu: 12.50%\n",
      "Train Epoch: 7 [2000/9990 (20%)]\tLoss: 3.999327, Accu: 0.00%\n",
      "Train Epoch: 7 [2080/9990 (21%)]\tLoss: 3.160566, Accu: 0.00%\n",
      "Train Epoch: 7 [2160/9990 (22%)]\tLoss: 4.111237, Accu: 0.00%\n",
      "Train Epoch: 7 [2240/9990 (22%)]\tLoss: 4.130215, Accu: 12.50%\n",
      "Train Epoch: 7 [2320/9990 (23%)]\tLoss: 4.290881, Accu: 0.00%\n",
      "Train Epoch: 7 [2400/9990 (24%)]\tLoss: 3.744359, Accu: 12.50%\n",
      "Train Epoch: 7 [2480/9990 (25%)]\tLoss: 3.400440, Accu: 25.00%\n",
      "Train Epoch: 7 [2560/9990 (26%)]\tLoss: 3.248355, Accu: 25.00%\n",
      "Train Epoch: 7 [2640/9990 (26%)]\tLoss: 4.207774, Accu: 0.00%\n",
      "Train Epoch: 7 [2720/9990 (27%)]\tLoss: 4.113938, Accu: 0.00%\n",
      "Train Epoch: 7 [2800/9990 (28%)]\tLoss: 3.913535, Accu: 0.00%\n",
      "Train Epoch: 7 [2880/9990 (29%)]\tLoss: 3.073395, Accu: 25.00%\n",
      "Train Epoch: 7 [2960/9990 (30%)]\tLoss: 4.049897, Accu: 12.50%\n",
      "Train Epoch: 7 [3040/9990 (30%)]\tLoss: 3.624049, Accu: 12.50%\n",
      "Train Epoch: 7 [3120/9990 (31%)]\tLoss: 3.673098, Accu: 37.50%\n",
      "Train Epoch: 7 [3200/9990 (32%)]\tLoss: 3.806180, Accu: 12.50%\n",
      "Train Epoch: 7 [3280/9990 (33%)]\tLoss: 3.158935, Accu: 12.50%\n",
      "Train Epoch: 7 [3360/9990 (34%)]\tLoss: 3.829156, Accu: 12.50%\n",
      "Train Epoch: 7 [3440/9990 (34%)]\tLoss: 3.853141, Accu: 12.50%\n",
      "Train Epoch: 7 [3520/9990 (35%)]\tLoss: 3.412777, Accu: 12.50%\n",
      "Train Epoch: 7 [3600/9990 (36%)]\tLoss: 3.795286, Accu: 12.50%\n",
      "Train Epoch: 7 [3680/9990 (37%)]\tLoss: 3.583981, Accu: 12.50%\n",
      "Train Epoch: 7 [3760/9990 (38%)]\tLoss: 3.895817, Accu: 0.00%\n",
      "Train Epoch: 7 [3840/9990 (38%)]\tLoss: 3.921500, Accu: 0.00%\n",
      "Train Epoch: 7 [3920/9990 (39%)]\tLoss: 3.702797, Accu: 0.00%\n",
      "Train Epoch: 7 [4000/9990 (40%)]\tLoss: 3.783357, Accu: 12.50%\n",
      "Train Epoch: 7 [4080/9990 (41%)]\tLoss: 3.525470, Accu: 12.50%\n",
      "Train Epoch: 7 [4160/9990 (42%)]\tLoss: 3.710893, Accu: 25.00%\n",
      "Train Epoch: 7 [4240/9990 (42%)]\tLoss: 3.929876, Accu: 12.50%\n",
      "Train Epoch: 7 [4320/9990 (43%)]\tLoss: 3.199666, Accu: 12.50%\n",
      "Train Epoch: 7 [4400/9990 (44%)]\tLoss: 4.030219, Accu: 0.00%\n",
      "Train Epoch: 7 [4480/9990 (45%)]\tLoss: 3.952297, Accu: 12.50%\n"
     ]
    },
    {
     "name": "stdout",
     "output_type": "stream",
     "text": [
      "Train Epoch: 7 [4560/9990 (46%)]\tLoss: 4.249915, Accu: 12.50%\n",
      "Train Epoch: 7 [4640/9990 (46%)]\tLoss: 3.941081, Accu: 0.00%\n",
      "Train Epoch: 7 [4720/9990 (47%)]\tLoss: 3.148960, Accu: 25.00%\n",
      "Train Epoch: 7 [4800/9990 (48%)]\tLoss: 4.100327, Accu: 0.00%\n",
      "Train Epoch: 7 [4880/9990 (49%)]\tLoss: 3.934328, Accu: 0.00%\n",
      "Train Epoch: 7 [4960/9990 (50%)]\tLoss: 4.106094, Accu: 0.00%\n",
      "Train Epoch: 7 [5040/9990 (50%)]\tLoss: 3.775548, Accu: 12.50%\n",
      "Train Epoch: 7 [5120/9990 (51%)]\tLoss: 4.385810, Accu: 12.50%\n",
      "Train Epoch: 7 [5200/9990 (52%)]\tLoss: 3.576228, Accu: 0.00%\n",
      "Train Epoch: 7 [5280/9990 (53%)]\tLoss: 3.597230, Accu: 0.00%\n",
      "Train Epoch: 7 [5360/9990 (54%)]\tLoss: 3.610330, Accu: 12.50%\n",
      "Train Epoch: 7 [5440/9990 (54%)]\tLoss: 3.570132, Accu: 0.00%\n",
      "Train Epoch: 7 [5520/9990 (55%)]\tLoss: 3.563711, Accu: 12.50%\n",
      "Train Epoch: 7 [5600/9990 (56%)]\tLoss: 3.801090, Accu: 12.50%\n",
      "Train Epoch: 7 [5680/9990 (57%)]\tLoss: 3.917407, Accu: 0.00%\n",
      "Train Epoch: 7 [5760/9990 (58%)]\tLoss: 4.108805, Accu: 12.50%\n",
      "Train Epoch: 7 [5840/9990 (58%)]\tLoss: 3.467851, Accu: 12.50%\n",
      "Train Epoch: 7 [5920/9990 (59%)]\tLoss: 3.790366, Accu: 12.50%\n",
      "Train Epoch: 7 [6000/9990 (60%)]\tLoss: 4.015283, Accu: 0.00%\n",
      "Train Epoch: 7 [6080/9990 (61%)]\tLoss: 3.877245, Accu: 0.00%\n",
      "Train Epoch: 7 [6160/9990 (62%)]\tLoss: 3.274727, Accu: 25.00%\n",
      "Train Epoch: 7 [6240/9990 (62%)]\tLoss: 3.706676, Accu: 25.00%\n",
      "Train Epoch: 7 [6320/9990 (63%)]\tLoss: 3.719557, Accu: 12.50%\n",
      "Train Epoch: 7 [6400/9990 (64%)]\tLoss: 3.448667, Accu: 12.50%\n",
      "Train Epoch: 7 [6480/9990 (65%)]\tLoss: 4.182666, Accu: 12.50%\n",
      "Train Epoch: 7 [6560/9990 (66%)]\tLoss: 3.607368, Accu: 12.50%\n",
      "Train Epoch: 7 [6640/9990 (66%)]\tLoss: 3.278604, Accu: 25.00%\n",
      "Train Epoch: 7 [6720/9990 (67%)]\tLoss: 3.034230, Accu: 25.00%\n",
      "Train Epoch: 7 [6800/9990 (68%)]\tLoss: 4.062829, Accu: 0.00%\n",
      "Train Epoch: 7 [6880/9990 (69%)]\tLoss: 3.604179, Accu: 12.50%\n",
      "Train Epoch: 7 [6960/9990 (70%)]\tLoss: 3.103920, Accu: 37.50%\n",
      "Train Epoch: 7 [7040/9990 (70%)]\tLoss: 4.069661, Accu: 0.00%\n",
      "Train Epoch: 7 [7120/9990 (71%)]\tLoss: 3.879756, Accu: 0.00%\n",
      "Train Epoch: 7 [7200/9990 (72%)]\tLoss: 3.784580, Accu: 0.00%\n",
      "Train Epoch: 7 [7280/9990 (73%)]\tLoss: 3.909478, Accu: 0.00%\n",
      "Train Epoch: 7 [7360/9990 (74%)]\tLoss: 4.178925, Accu: 0.00%\n",
      "Train Epoch: 7 [7440/9990 (74%)]\tLoss: 3.748493, Accu: 12.50%\n",
      "Train Epoch: 7 [7520/9990 (75%)]\tLoss: 3.170791, Accu: 25.00%\n",
      "Train Epoch: 7 [7600/9990 (76%)]\tLoss: 4.481952, Accu: 12.50%\n",
      "Train Epoch: 7 [7680/9990 (77%)]\tLoss: 4.329255, Accu: 0.00%\n",
      "Train Epoch: 7 [7760/9990 (78%)]\tLoss: 4.168022, Accu: 12.50%\n",
      "Train Epoch: 7 [7840/9990 (78%)]\tLoss: 3.888749, Accu: 12.50%\n",
      "Train Epoch: 7 [7920/9990 (79%)]\tLoss: 4.033063, Accu: 12.50%\n",
      "Train Epoch: 7 [8000/9990 (80%)]\tLoss: 3.625143, Accu: 0.00%\n",
      "Train Epoch: 7 [8080/9990 (81%)]\tLoss: 2.806538, Accu: 37.50%\n",
      "Train Epoch: 7 [8160/9990 (82%)]\tLoss: 3.646455, Accu: 0.00%\n",
      "Train Epoch: 7 [8240/9990 (82%)]\tLoss: 4.689734, Accu: 0.00%\n",
      "Train Epoch: 7 [8320/9990 (83%)]\tLoss: 3.791632, Accu: 0.00%\n",
      "Train Epoch: 7 [8400/9990 (84%)]\tLoss: 3.936584, Accu: 0.00%\n",
      "Train Epoch: 7 [8480/9990 (85%)]\tLoss: 3.194980, Accu: 12.50%\n",
      "Train Epoch: 7 [8560/9990 (86%)]\tLoss: 4.456377, Accu: 0.00%\n",
      "Train Epoch: 7 [8640/9990 (86%)]\tLoss: 3.940398, Accu: 0.00%\n",
      "Train Epoch: 7 [8720/9990 (87%)]\tLoss: 3.915103, Accu: 0.00%\n",
      "Train Epoch: 7 [8800/9990 (88%)]\tLoss: 3.883958, Accu: 12.50%\n",
      "Train Epoch: 7 [8880/9990 (89%)]\tLoss: 4.332388, Accu: 0.00%\n",
      "Train Epoch: 7 [8960/9990 (90%)]\tLoss: 4.014741, Accu: 0.00%\n",
      "Train Epoch: 7 [9040/9990 (90%)]\tLoss: 4.116199, Accu: 12.50%\n",
      "Train Epoch: 7 [9120/9990 (91%)]\tLoss: 3.742101, Accu: 12.50%\n",
      "Train Epoch: 7 [9200/9990 (92%)]\tLoss: 3.263305, Accu: 25.00%\n",
      "Train Epoch: 7 [9280/9990 (93%)]\tLoss: 4.114775, Accu: 0.00%\n",
      "Train Epoch: 7 [9360/9990 (94%)]\tLoss: 3.866684, Accu: 0.00%\n",
      "Train Epoch: 7 [9440/9990 (94%)]\tLoss: 3.639824, Accu: 12.50%\n",
      "Train Epoch: 7 [9520/9990 (95%)]\tLoss: 3.522492, Accu: 12.50%\n",
      "Train Epoch: 7 [9600/9990 (96%)]\tLoss: 2.978311, Accu: 25.00%\n",
      "Train Epoch: 7 [9680/9990 (97%)]\tLoss: 4.322939, Accu: 0.00%\n",
      "Train Epoch: 7 [9760/9990 (98%)]\tLoss: 3.396620, Accu: 0.00%\n",
      "Train Epoch: 7 [9840/9990 (98%)]\tLoss: 3.940528, Accu: 12.50%\n",
      "Train Epoch: 7 [9920/9990 (99%)]\tLoss: 3.857054, Accu: 12.50%\n",
      "\n",
      "Test set (3330 samples): Average loss: 4.0454, Accuracy: 8.08%\n",
      "\n",
      "Epoch 7 model saved!\n",
      "Train Epoch: 8 [80/9990 (1%)]\tLoss: 3.880172, Accu: 0.00%\n",
      "Train Epoch: 8 [160/9990 (2%)]\tLoss: 3.985906, Accu: 0.00%\n",
      "Train Epoch: 8 [240/9990 (2%)]\tLoss: 3.233483, Accu: 12.50%\n",
      "Train Epoch: 8 [320/9990 (3%)]\tLoss: 4.061061, Accu: 0.00%\n",
      "Train Epoch: 8 [400/9990 (4%)]\tLoss: 3.988648, Accu: 0.00%\n",
      "Train Epoch: 8 [480/9990 (5%)]\tLoss: 4.228415, Accu: 0.00%\n",
      "Train Epoch: 8 [560/9990 (6%)]\tLoss: 3.762305, Accu: 0.00%\n",
      "Train Epoch: 8 [640/9990 (6%)]\tLoss: 3.784652, Accu: 12.50%\n",
      "Train Epoch: 8 [720/9990 (7%)]\tLoss: 3.668172, Accu: 0.00%\n",
      "Train Epoch: 8 [800/9990 (8%)]\tLoss: 3.335512, Accu: 12.50%\n",
      "Train Epoch: 8 [880/9990 (9%)]\tLoss: 4.248395, Accu: 12.50%\n",
      "Train Epoch: 8 [960/9990 (10%)]\tLoss: 3.742506, Accu: 0.00%\n",
      "Train Epoch: 8 [1040/9990 (10%)]\tLoss: 3.488695, Accu: 0.00%\n",
      "Train Epoch: 8 [1120/9990 (11%)]\tLoss: 3.360949, Accu: 12.50%\n",
      "Train Epoch: 8 [1200/9990 (12%)]\tLoss: 3.416868, Accu: 12.50%\n",
      "Train Epoch: 8 [1280/9990 (13%)]\tLoss: 4.554571, Accu: 12.50%\n",
      "Train Epoch: 8 [1360/9990 (14%)]\tLoss: 3.923255, Accu: 12.50%\n",
      "Train Epoch: 8 [1440/9990 (14%)]\tLoss: 4.143064, Accu: 12.50%\n",
      "Train Epoch: 8 [1520/9990 (15%)]\tLoss: 3.261786, Accu: 12.50%\n",
      "Train Epoch: 8 [1600/9990 (16%)]\tLoss: 3.522366, Accu: 12.50%\n",
      "Train Epoch: 8 [1680/9990 (17%)]\tLoss: 3.890334, Accu: 12.50%\n",
      "Train Epoch: 8 [1760/9990 (18%)]\tLoss: 4.281936, Accu: 0.00%\n",
      "Train Epoch: 8 [1840/9990 (18%)]\tLoss: 3.160075, Accu: 12.50%\n",
      "Train Epoch: 8 [1920/9990 (19%)]\tLoss: 3.514336, Accu: 12.50%\n",
      "Train Epoch: 8 [2000/9990 (20%)]\tLoss: 3.968004, Accu: 12.50%\n",
      "Train Epoch: 8 [2080/9990 (21%)]\tLoss: 4.220219, Accu: 0.00%\n",
      "Train Epoch: 8 [2160/9990 (22%)]\tLoss: 3.563251, Accu: 0.00%\n",
      "Train Epoch: 8 [2240/9990 (22%)]\tLoss: 3.526503, Accu: 12.50%\n",
      "Train Epoch: 8 [2320/9990 (23%)]\tLoss: 3.371998, Accu: 25.00%\n",
      "Train Epoch: 8 [2400/9990 (24%)]\tLoss: 3.894094, Accu: 25.00%\n",
      "Train Epoch: 8 [2480/9990 (25%)]\tLoss: 2.435719, Accu: 25.00%\n",
      "Train Epoch: 8 [2560/9990 (26%)]\tLoss: 3.025193, Accu: 25.00%\n",
      "Train Epoch: 8 [2640/9990 (26%)]\tLoss: 3.542158, Accu: 12.50%\n",
      "Train Epoch: 8 [2720/9990 (27%)]\tLoss: 3.428360, Accu: 25.00%\n",
      "Train Epoch: 8 [2800/9990 (28%)]\tLoss: 4.229917, Accu: 0.00%\n",
      "Train Epoch: 8 [2880/9990 (29%)]\tLoss: 3.092317, Accu: 12.50%\n",
      "Train Epoch: 8 [2960/9990 (30%)]\tLoss: 3.826520, Accu: 0.00%\n",
      "Train Epoch: 8 [3040/9990 (30%)]\tLoss: 3.762929, Accu: 12.50%\n",
      "Train Epoch: 8 [3120/9990 (31%)]\tLoss: 3.376827, Accu: 12.50%\n",
      "Train Epoch: 8 [3200/9990 (32%)]\tLoss: 3.646503, Accu: 0.00%\n",
      "Train Epoch: 8 [3280/9990 (33%)]\tLoss: 3.095477, Accu: 0.00%\n",
      "Train Epoch: 8 [3360/9990 (34%)]\tLoss: 3.817678, Accu: 0.00%\n",
      "Train Epoch: 8 [3440/9990 (34%)]\tLoss: 3.178024, Accu: 25.00%\n",
      "Train Epoch: 8 [3520/9990 (35%)]\tLoss: 3.557490, Accu: 12.50%\n",
      "Train Epoch: 8 [3600/9990 (36%)]\tLoss: 3.243543, Accu: 25.00%\n",
      "Train Epoch: 8 [3680/9990 (37%)]\tLoss: 3.117256, Accu: 12.50%\n",
      "Train Epoch: 8 [3760/9990 (38%)]\tLoss: 3.936240, Accu: 0.00%\n",
      "Train Epoch: 8 [3840/9990 (38%)]\tLoss: 3.507249, Accu: 12.50%\n",
      "Train Epoch: 8 [3920/9990 (39%)]\tLoss: 3.687345, Accu: 0.00%\n",
      "Train Epoch: 8 [4000/9990 (40%)]\tLoss: 3.634619, Accu: 12.50%\n",
      "Train Epoch: 8 [4080/9990 (41%)]\tLoss: 3.968192, Accu: 0.00%\n",
      "Train Epoch: 8 [4160/9990 (42%)]\tLoss: 3.928212, Accu: 0.00%\n",
      "Train Epoch: 8 [4240/9990 (42%)]\tLoss: 3.196077, Accu: 25.00%\n",
      "Train Epoch: 8 [4320/9990 (43%)]\tLoss: 3.862211, Accu: 0.00%\n",
      "Train Epoch: 8 [4400/9990 (44%)]\tLoss: 3.650667, Accu: 0.00%\n",
      "Train Epoch: 8 [4480/9990 (45%)]\tLoss: 2.922556, Accu: 37.50%\n",
      "Train Epoch: 8 [4560/9990 (46%)]\tLoss: 3.311910, Accu: 12.50%\n",
      "Train Epoch: 8 [4640/9990 (46%)]\tLoss: 3.875816, Accu: 0.00%\n",
      "Train Epoch: 8 [4720/9990 (47%)]\tLoss: 3.824432, Accu: 25.00%\n",
      "Train Epoch: 8 [4800/9990 (48%)]\tLoss: 3.562664, Accu: 12.50%\n",
      "Train Epoch: 8 [4880/9990 (49%)]\tLoss: 2.986481, Accu: 12.50%\n",
      "Train Epoch: 8 [4960/9990 (50%)]\tLoss: 3.112860, Accu: 12.50%\n",
      "Train Epoch: 8 [5040/9990 (50%)]\tLoss: 3.111140, Accu: 12.50%\n",
      "Train Epoch: 8 [5120/9990 (51%)]\tLoss: 3.296376, Accu: 25.00%\n",
      "Train Epoch: 8 [5200/9990 (52%)]\tLoss: 3.851938, Accu: 0.00%\n"
     ]
    },
    {
     "name": "stdout",
     "output_type": "stream",
     "text": [
      "Train Epoch: 8 [5280/9990 (53%)]\tLoss: 3.973389, Accu: 0.00%\n",
      "Train Epoch: 8 [5360/9990 (54%)]\tLoss: 4.182382, Accu: 0.00%\n",
      "Train Epoch: 8 [5440/9990 (54%)]\tLoss: 3.537487, Accu: 0.00%\n",
      "Train Epoch: 8 [5520/9990 (55%)]\tLoss: 2.972217, Accu: 12.50%\n",
      "Train Epoch: 8 [5600/9990 (56%)]\tLoss: 3.215393, Accu: 25.00%\n",
      "Train Epoch: 8 [5680/9990 (57%)]\tLoss: 3.841029, Accu: 12.50%\n",
      "Train Epoch: 8 [5760/9990 (58%)]\tLoss: 3.496909, Accu: 12.50%\n",
      "Train Epoch: 8 [5840/9990 (58%)]\tLoss: 3.231971, Accu: 25.00%\n",
      "Train Epoch: 8 [5920/9990 (59%)]\tLoss: 3.457627, Accu: 12.50%\n",
      "Train Epoch: 8 [6000/9990 (60%)]\tLoss: 3.595877, Accu: 12.50%\n",
      "Train Epoch: 8 [6080/9990 (61%)]\tLoss: 3.589037, Accu: 0.00%\n",
      "Train Epoch: 8 [6160/9990 (62%)]\tLoss: 3.879872, Accu: 0.00%\n",
      "Train Epoch: 8 [6240/9990 (62%)]\tLoss: 3.647556, Accu: 0.00%\n",
      "Train Epoch: 8 [6320/9990 (63%)]\tLoss: 3.696981, Accu: 12.50%\n",
      "Train Epoch: 8 [6400/9990 (64%)]\tLoss: 3.271348, Accu: 0.00%\n",
      "Train Epoch: 8 [6480/9990 (65%)]\tLoss: 4.382608, Accu: 0.00%\n",
      "Train Epoch: 8 [6560/9990 (66%)]\tLoss: 4.312266, Accu: 0.00%\n",
      "Train Epoch: 8 [6640/9990 (66%)]\tLoss: 2.699439, Accu: 37.50%\n",
      "Train Epoch: 8 [6720/9990 (67%)]\tLoss: 3.940312, Accu: 0.00%\n",
      "Train Epoch: 8 [6800/9990 (68%)]\tLoss: 3.030849, Accu: 12.50%\n",
      "Train Epoch: 8 [6880/9990 (69%)]\tLoss: 3.511978, Accu: 12.50%\n",
      "Train Epoch: 8 [6960/9990 (70%)]\tLoss: 3.038783, Accu: 25.00%\n",
      "Train Epoch: 8 [7040/9990 (70%)]\tLoss: 3.819075, Accu: 12.50%\n",
      "Train Epoch: 8 [7120/9990 (71%)]\tLoss: 4.353406, Accu: 0.00%\n",
      "Train Epoch: 8 [7200/9990 (72%)]\tLoss: 3.822557, Accu: 0.00%\n",
      "Train Epoch: 8 [7280/9990 (73%)]\tLoss: 3.847888, Accu: 0.00%\n",
      "Train Epoch: 8 [7360/9990 (74%)]\tLoss: 3.930700, Accu: 0.00%\n",
      "Train Epoch: 8 [7440/9990 (74%)]\tLoss: 3.297688, Accu: 12.50%\n",
      "Train Epoch: 8 [7520/9990 (75%)]\tLoss: 2.701459, Accu: 37.50%\n",
      "Train Epoch: 8 [7600/9990 (76%)]\tLoss: 2.996652, Accu: 12.50%\n",
      "Train Epoch: 8 [7680/9990 (77%)]\tLoss: 4.280943, Accu: 0.00%\n",
      "Train Epoch: 8 [7760/9990 (78%)]\tLoss: 3.541164, Accu: 12.50%\n",
      "Train Epoch: 8 [7840/9990 (78%)]\tLoss: 3.934948, Accu: 0.00%\n",
      "Train Epoch: 8 [7920/9990 (79%)]\tLoss: 4.089152, Accu: 0.00%\n",
      "Train Epoch: 8 [8000/9990 (80%)]\tLoss: 3.531507, Accu: 12.50%\n",
      "Train Epoch: 8 [8080/9990 (81%)]\tLoss: 3.410815, Accu: 12.50%\n",
      "Train Epoch: 8 [8160/9990 (82%)]\tLoss: 3.087929, Accu: 12.50%\n",
      "Train Epoch: 8 [8240/9990 (82%)]\tLoss: 4.285701, Accu: 0.00%\n",
      "Train Epoch: 8 [8320/9990 (83%)]\tLoss: 3.819468, Accu: 0.00%\n",
      "Train Epoch: 8 [8400/9990 (84%)]\tLoss: 3.927316, Accu: 0.00%\n",
      "Train Epoch: 8 [8480/9990 (85%)]\tLoss: 3.578020, Accu: 0.00%\n",
      "Train Epoch: 8 [8560/9990 (86%)]\tLoss: 3.502441, Accu: 25.00%\n",
      "Train Epoch: 8 [8640/9990 (86%)]\tLoss: 4.040497, Accu: 0.00%\n",
      "Train Epoch: 8 [8720/9990 (87%)]\tLoss: 3.744088, Accu: 12.50%\n",
      "Train Epoch: 8 [8800/9990 (88%)]\tLoss: 3.836993, Accu: 0.00%\n",
      "Train Epoch: 8 [8880/9990 (89%)]\tLoss: 3.742646, Accu: 12.50%\n",
      "Train Epoch: 8 [8960/9990 (90%)]\tLoss: 4.167836, Accu: 0.00%\n",
      "Train Epoch: 8 [9040/9990 (90%)]\tLoss: 3.538347, Accu: 25.00%\n",
      "Train Epoch: 8 [9120/9990 (91%)]\tLoss: 3.248546, Accu: 25.00%\n",
      "Train Epoch: 8 [9200/9990 (92%)]\tLoss: 3.943742, Accu: 12.50%\n",
      "Train Epoch: 8 [9280/9990 (93%)]\tLoss: 2.956867, Accu: 12.50%\n",
      "Train Epoch: 8 [9360/9990 (94%)]\tLoss: 4.227211, Accu: 12.50%\n",
      "Train Epoch: 8 [9440/9990 (94%)]\tLoss: 3.518915, Accu: 25.00%\n",
      "Train Epoch: 8 [9520/9990 (95%)]\tLoss: 3.728958, Accu: 0.00%\n",
      "Train Epoch: 8 [9600/9990 (96%)]\tLoss: 3.229015, Accu: 12.50%\n",
      "Train Epoch: 8 [9680/9990 (97%)]\tLoss: 3.925429, Accu: 12.50%\n",
      "Train Epoch: 8 [9760/9990 (98%)]\tLoss: 3.372419, Accu: 0.00%\n",
      "Train Epoch: 8 [9840/9990 (98%)]\tLoss: 3.825509, Accu: 12.50%\n",
      "Train Epoch: 8 [9920/9990 (99%)]\tLoss: 3.750060, Accu: 0.00%\n",
      "\n",
      "Test set (3330 samples): Average loss: 3.9918, Accuracy: 8.38%\n",
      "\n",
      "Epoch 8 model saved!\n",
      "Train Epoch: 9 [80/9990 (1%)]\tLoss: 3.737626, Accu: 0.00%\n",
      "Train Epoch: 9 [160/9990 (2%)]\tLoss: 2.982601, Accu: 25.00%\n",
      "Train Epoch: 9 [240/9990 (2%)]\tLoss: 3.763547, Accu: 0.00%\n",
      "Train Epoch: 9 [320/9990 (3%)]\tLoss: 3.423136, Accu: 12.50%\n",
      "Train Epoch: 9 [400/9990 (4%)]\tLoss: 2.928808, Accu: 50.00%\n",
      "Train Epoch: 9 [480/9990 (5%)]\tLoss: 3.497714, Accu: 12.50%\n",
      "Train Epoch: 9 [560/9990 (6%)]\tLoss: 4.038046, Accu: 0.00%\n",
      "Train Epoch: 9 [640/9990 (6%)]\tLoss: 3.595603, Accu: 25.00%\n",
      "Train Epoch: 9 [720/9990 (7%)]\tLoss: 3.545459, Accu: 25.00%\n",
      "Train Epoch: 9 [800/9990 (8%)]\tLoss: 3.864107, Accu: 12.50%\n",
      "Train Epoch: 9 [880/9990 (9%)]\tLoss: 3.522741, Accu: 0.00%\n",
      "Train Epoch: 9 [960/9990 (10%)]\tLoss: 4.024683, Accu: 12.50%\n",
      "Train Epoch: 9 [1040/9990 (10%)]\tLoss: 3.218832, Accu: 12.50%\n",
      "Train Epoch: 9 [1120/9990 (11%)]\tLoss: 3.835132, Accu: 0.00%\n",
      "Train Epoch: 9 [1200/9990 (12%)]\tLoss: 4.021520, Accu: 0.00%\n",
      "Train Epoch: 9 [1280/9990 (13%)]\tLoss: 3.554986, Accu: 0.00%\n",
      "Train Epoch: 9 [1360/9990 (14%)]\tLoss: 3.366167, Accu: 12.50%\n",
      "Train Epoch: 9 [1440/9990 (14%)]\tLoss: 3.334095, Accu: 12.50%\n",
      "Train Epoch: 9 [1520/9990 (15%)]\tLoss: 3.967130, Accu: 0.00%\n",
      "Train Epoch: 9 [1600/9990 (16%)]\tLoss: 4.311683, Accu: 12.50%\n",
      "Train Epoch: 9 [1680/9990 (17%)]\tLoss: 3.347486, Accu: 12.50%\n",
      "Train Epoch: 9 [1760/9990 (18%)]\tLoss: 3.672402, Accu: 12.50%\n",
      "Train Epoch: 9 [1840/9990 (18%)]\tLoss: 3.676284, Accu: 0.00%\n",
      "Train Epoch: 9 [1920/9990 (19%)]\tLoss: 3.562187, Accu: 12.50%\n",
      "Train Epoch: 9 [2000/9990 (20%)]\tLoss: 2.807865, Accu: 12.50%\n",
      "Train Epoch: 9 [2080/9990 (21%)]\tLoss: 3.184525, Accu: 12.50%\n",
      "Train Epoch: 9 [2160/9990 (22%)]\tLoss: 3.718287, Accu: 0.00%\n",
      "Train Epoch: 9 [2240/9990 (22%)]\tLoss: 2.435985, Accu: 25.00%\n",
      "Train Epoch: 9 [2320/9990 (23%)]\tLoss: 3.279333, Accu: 12.50%\n",
      "Train Epoch: 9 [2400/9990 (24%)]\tLoss: 3.732139, Accu: 12.50%\n",
      "Train Epoch: 9 [2480/9990 (25%)]\tLoss: 3.298552, Accu: 0.00%\n",
      "Train Epoch: 9 [2560/9990 (26%)]\tLoss: 3.426748, Accu: 37.50%\n",
      "Train Epoch: 9 [2640/9990 (26%)]\tLoss: 3.613895, Accu: 25.00%\n",
      "Train Epoch: 9 [2720/9990 (27%)]\tLoss: 3.950204, Accu: 12.50%\n",
      "Train Epoch: 9 [2800/9990 (28%)]\tLoss: 3.749441, Accu: 0.00%\n",
      "Train Epoch: 9 [2880/9990 (29%)]\tLoss: 3.538270, Accu: 0.00%\n",
      "Train Epoch: 9 [2960/9990 (30%)]\tLoss: 3.314660, Accu: 12.50%\n",
      "Train Epoch: 9 [3040/9990 (30%)]\tLoss: 2.985548, Accu: 25.00%\n",
      "Train Epoch: 9 [3120/9990 (31%)]\tLoss: 2.252112, Accu: 37.50%\n",
      "Train Epoch: 9 [3200/9990 (32%)]\tLoss: 3.507487, Accu: 25.00%\n",
      "Train Epoch: 9 [3280/9990 (33%)]\tLoss: 3.363093, Accu: 12.50%\n",
      "Train Epoch: 9 [3360/9990 (34%)]\tLoss: 3.789091, Accu: 0.00%\n",
      "Train Epoch: 9 [3440/9990 (34%)]\tLoss: 3.851662, Accu: 0.00%\n",
      "Train Epoch: 9 [3520/9990 (35%)]\tLoss: 3.658364, Accu: 12.50%\n",
      "Train Epoch: 9 [3600/9990 (36%)]\tLoss: 3.385171, Accu: 12.50%\n",
      "Train Epoch: 9 [3680/9990 (37%)]\tLoss: 4.313141, Accu: 0.00%\n",
      "Train Epoch: 9 [3760/9990 (38%)]\tLoss: 3.063553, Accu: 25.00%\n",
      "Train Epoch: 9 [3840/9990 (38%)]\tLoss: 3.131586, Accu: 0.00%\n",
      "Train Epoch: 9 [3920/9990 (39%)]\tLoss: 3.793416, Accu: 12.50%\n",
      "Train Epoch: 9 [4000/9990 (40%)]\tLoss: 3.843638, Accu: 12.50%\n",
      "Train Epoch: 9 [4080/9990 (41%)]\tLoss: 3.085061, Accu: 25.00%\n",
      "Train Epoch: 9 [4160/9990 (42%)]\tLoss: 3.542063, Accu: 0.00%\n",
      "Train Epoch: 9 [4240/9990 (42%)]\tLoss: 3.204880, Accu: 12.50%\n",
      "Train Epoch: 9 [4320/9990 (43%)]\tLoss: 3.155828, Accu: 12.50%\n",
      "Train Epoch: 9 [4400/9990 (44%)]\tLoss: 2.754113, Accu: 37.50%\n",
      "Train Epoch: 9 [4480/9990 (45%)]\tLoss: 4.221921, Accu: 12.50%\n",
      "Train Epoch: 9 [4560/9990 (46%)]\tLoss: 3.076319, Accu: 12.50%\n",
      "Train Epoch: 9 [4640/9990 (46%)]\tLoss: 2.819859, Accu: 25.00%\n",
      "Train Epoch: 9 [4720/9990 (47%)]\tLoss: 3.993960, Accu: 0.00%\n",
      "Train Epoch: 9 [4800/9990 (48%)]\tLoss: 3.451727, Accu: 12.50%\n",
      "Train Epoch: 9 [4880/9990 (49%)]\tLoss: 2.468596, Accu: 37.50%\n",
      "Train Epoch: 9 [4960/9990 (50%)]\tLoss: 2.945195, Accu: 37.50%\n",
      "Train Epoch: 9 [5040/9990 (50%)]\tLoss: 3.615637, Accu: 25.00%\n",
      "Train Epoch: 9 [5120/9990 (51%)]\tLoss: 3.380119, Accu: 0.00%\n",
      "Train Epoch: 9 [5200/9990 (52%)]\tLoss: 3.045108, Accu: 25.00%\n",
      "Train Epoch: 9 [5280/9990 (53%)]\tLoss: 3.532002, Accu: 0.00%\n",
      "Train Epoch: 9 [5360/9990 (54%)]\tLoss: 3.785895, Accu: 0.00%\n",
      "Train Epoch: 9 [5440/9990 (54%)]\tLoss: 3.607427, Accu: 12.50%\n",
      "Train Epoch: 9 [5520/9990 (55%)]\tLoss: 3.661823, Accu: 12.50%\n",
      "Train Epoch: 9 [5600/9990 (56%)]\tLoss: 3.513370, Accu: 25.00%\n",
      "Train Epoch: 9 [5680/9990 (57%)]\tLoss: 4.148473, Accu: 0.00%\n",
      "Train Epoch: 9 [5760/9990 (58%)]\tLoss: 3.328011, Accu: 12.50%\n",
      "Train Epoch: 9 [5840/9990 (58%)]\tLoss: 3.475048, Accu: 25.00%\n"
     ]
    },
    {
     "name": "stdout",
     "output_type": "stream",
     "text": [
      "Train Epoch: 9 [5920/9990 (59%)]\tLoss: 3.560338, Accu: 0.00%\n",
      "Train Epoch: 9 [6000/9990 (60%)]\tLoss: 3.273227, Accu: 12.50%\n",
      "Train Epoch: 9 [6080/9990 (61%)]\tLoss: 3.808896, Accu: 12.50%\n",
      "Train Epoch: 9 [6160/9990 (62%)]\tLoss: 3.426151, Accu: 12.50%\n",
      "Train Epoch: 9 [6240/9990 (62%)]\tLoss: 3.756327, Accu: 12.50%\n",
      "Train Epoch: 9 [6320/9990 (63%)]\tLoss: 3.555383, Accu: 0.00%\n",
      "Train Epoch: 9 [6400/9990 (64%)]\tLoss: 4.021924, Accu: 0.00%\n",
      "Train Epoch: 9 [6480/9990 (65%)]\tLoss: 3.215153, Accu: 0.00%\n",
      "Train Epoch: 9 [6560/9990 (66%)]\tLoss: 3.823401, Accu: 0.00%\n",
      "Train Epoch: 9 [6640/9990 (66%)]\tLoss: 3.097967, Accu: 25.00%\n",
      "Train Epoch: 9 [6720/9990 (67%)]\tLoss: 3.395052, Accu: 12.50%\n",
      "Train Epoch: 9 [6800/9990 (68%)]\tLoss: 3.670346, Accu: 12.50%\n",
      "Train Epoch: 9 [6880/9990 (69%)]\tLoss: 3.796576, Accu: 12.50%\n",
      "Train Epoch: 9 [6960/9990 (70%)]\tLoss: 3.203130, Accu: 25.00%\n",
      "Train Epoch: 9 [7040/9990 (70%)]\tLoss: 4.017239, Accu: 0.00%\n",
      "Train Epoch: 9 [7120/9990 (71%)]\tLoss: 3.661064, Accu: 0.00%\n",
      "Train Epoch: 9 [7200/9990 (72%)]\tLoss: 3.177495, Accu: 25.00%\n",
      "Train Epoch: 9 [7280/9990 (73%)]\tLoss: 2.959579, Accu: 12.50%\n",
      "Train Epoch: 9 [7360/9990 (74%)]\tLoss: 3.382297, Accu: 12.50%\n",
      "Train Epoch: 9 [7440/9990 (74%)]\tLoss: 3.579201, Accu: 0.00%\n",
      "Train Epoch: 9 [7520/9990 (75%)]\tLoss: 3.533940, Accu: 0.00%\n",
      "Train Epoch: 9 [7600/9990 (76%)]\tLoss: 3.681374, Accu: 0.00%\n",
      "Train Epoch: 9 [7680/9990 (77%)]\tLoss: 3.482184, Accu: 12.50%\n",
      "Train Epoch: 9 [7760/9990 (78%)]\tLoss: 3.388409, Accu: 12.50%\n",
      "Train Epoch: 9 [7840/9990 (78%)]\tLoss: 3.201502, Accu: 12.50%\n",
      "Train Epoch: 9 [7920/9990 (79%)]\tLoss: 3.235511, Accu: 0.00%\n",
      "Train Epoch: 9 [8000/9990 (80%)]\tLoss: 3.456638, Accu: 12.50%\n",
      "Train Epoch: 9 [8080/9990 (81%)]\tLoss: 3.297870, Accu: 37.50%\n",
      "Train Epoch: 9 [8160/9990 (82%)]\tLoss: 3.697051, Accu: 0.00%\n",
      "Train Epoch: 9 [8240/9990 (82%)]\tLoss: 3.645585, Accu: 0.00%\n",
      "Train Epoch: 9 [8320/9990 (83%)]\tLoss: 3.960947, Accu: 0.00%\n",
      "Train Epoch: 9 [8400/9990 (84%)]\tLoss: 3.503626, Accu: 12.50%\n",
      "Train Epoch: 9 [8480/9990 (85%)]\tLoss: 3.832572, Accu: 0.00%\n",
      "Train Epoch: 9 [8560/9990 (86%)]\tLoss: 3.617691, Accu: 0.00%\n",
      "Train Epoch: 9 [8640/9990 (86%)]\tLoss: 3.200228, Accu: 12.50%\n",
      "Train Epoch: 9 [8720/9990 (87%)]\tLoss: 3.665090, Accu: 12.50%\n",
      "Train Epoch: 9 [8800/9990 (88%)]\tLoss: 3.412159, Accu: 12.50%\n",
      "Train Epoch: 9 [8880/9990 (89%)]\tLoss: 3.374829, Accu: 0.00%\n",
      "Train Epoch: 9 [8960/9990 (90%)]\tLoss: 2.947232, Accu: 12.50%\n",
      "Train Epoch: 9 [9040/9990 (90%)]\tLoss: 4.153974, Accu: 0.00%\n",
      "Train Epoch: 9 [9120/9990 (91%)]\tLoss: 2.689660, Accu: 37.50%\n",
      "Train Epoch: 9 [9200/9990 (92%)]\tLoss: 3.082173, Accu: 25.00%\n",
      "Train Epoch: 9 [9280/9990 (93%)]\tLoss: 3.598359, Accu: 12.50%\n",
      "Train Epoch: 9 [9360/9990 (94%)]\tLoss: 2.809828, Accu: 37.50%\n",
      "Train Epoch: 9 [9440/9990 (94%)]\tLoss: 3.564679, Accu: 0.00%\n",
      "Train Epoch: 9 [9520/9990 (95%)]\tLoss: 2.673032, Accu: 12.50%\n",
      "Train Epoch: 9 [9600/9990 (96%)]\tLoss: 2.688187, Accu: 12.50%\n",
      "Train Epoch: 9 [9680/9990 (97%)]\tLoss: 3.416254, Accu: 12.50%\n",
      "Train Epoch: 9 [9760/9990 (98%)]\tLoss: 3.208723, Accu: 12.50%\n",
      "Train Epoch: 9 [9840/9990 (98%)]\tLoss: 3.372447, Accu: 0.00%\n",
      "Train Epoch: 9 [9920/9990 (99%)]\tLoss: 3.274828, Accu: 25.00%\n",
      "\n",
      "Test set (3330 samples): Average loss: 3.9377, Accuracy: 9.22%\n",
      "\n",
      "Epoch 9 model saved!\n",
      "Train Epoch: 10 [80/9990 (1%)]\tLoss: 3.151052, Accu: 25.00%\n",
      "Train Epoch: 10 [160/9990 (2%)]\tLoss: 4.898789, Accu: 0.00%\n",
      "Train Epoch: 10 [240/9990 (2%)]\tLoss: 3.051364, Accu: 12.50%\n",
      "Train Epoch: 10 [320/9990 (3%)]\tLoss: 3.644523, Accu: 12.50%\n",
      "Train Epoch: 10 [400/9990 (4%)]\tLoss: 3.491584, Accu: 12.50%\n",
      "Train Epoch: 10 [480/9990 (5%)]\tLoss: 2.355600, Accu: 50.00%\n",
      "Train Epoch: 10 [560/9990 (6%)]\tLoss: 3.660093, Accu: 12.50%\n",
      "Train Epoch: 10 [640/9990 (6%)]\tLoss: 3.854712, Accu: 12.50%\n",
      "Train Epoch: 10 [720/9990 (7%)]\tLoss: 2.899782, Accu: 37.50%\n",
      "Train Epoch: 10 [800/9990 (8%)]\tLoss: 2.138752, Accu: 50.00%\n",
      "Train Epoch: 10 [880/9990 (9%)]\tLoss: 3.357851, Accu: 12.50%\n",
      "Train Epoch: 10 [960/9990 (10%)]\tLoss: 3.200758, Accu: 12.50%\n",
      "Train Epoch: 10 [1040/9990 (10%)]\tLoss: 3.336465, Accu: 25.00%\n",
      "Train Epoch: 10 [1120/9990 (11%)]\tLoss: 2.920692, Accu: 37.50%\n",
      "Train Epoch: 10 [1200/9990 (12%)]\tLoss: 2.845823, Accu: 12.50%\n",
      "Train Epoch: 10 [1280/9990 (13%)]\tLoss: 3.556575, Accu: 12.50%\n",
      "Train Epoch: 10 [1360/9990 (14%)]\tLoss: 3.963681, Accu: 0.00%\n",
      "Train Epoch: 10 [1440/9990 (14%)]\tLoss: 3.088906, Accu: 12.50%\n",
      "Train Epoch: 10 [1520/9990 (15%)]\tLoss: 2.388157, Accu: 37.50%\n",
      "Train Epoch: 10 [1600/9990 (16%)]\tLoss: 3.074087, Accu: 25.00%\n",
      "Train Epoch: 10 [1680/9990 (17%)]\tLoss: 3.210533, Accu: 12.50%\n",
      "Train Epoch: 10 [1760/9990 (18%)]\tLoss: 3.308437, Accu: 0.00%\n",
      "Train Epoch: 10 [1840/9990 (18%)]\tLoss: 2.493662, Accu: 37.50%\n",
      "Train Epoch: 10 [1920/9990 (19%)]\tLoss: 3.739585, Accu: 25.00%\n",
      "Train Epoch: 10 [2000/9990 (20%)]\tLoss: 2.413467, Accu: 37.50%\n",
      "Train Epoch: 10 [2080/9990 (21%)]\tLoss: 3.421478, Accu: 0.00%\n",
      "Train Epoch: 10 [2160/9990 (22%)]\tLoss: 3.814686, Accu: 0.00%\n",
      "Train Epoch: 10 [2240/9990 (22%)]\tLoss: 3.234846, Accu: 12.50%\n",
      "Train Epoch: 10 [2320/9990 (23%)]\tLoss: 3.233525, Accu: 25.00%\n",
      "Train Epoch: 10 [2400/9990 (24%)]\tLoss: 3.442439, Accu: 12.50%\n",
      "Train Epoch: 10 [2480/9990 (25%)]\tLoss: 2.695948, Accu: 12.50%\n",
      "Train Epoch: 10 [2560/9990 (26%)]\tLoss: 2.765261, Accu: 25.00%\n",
      "Train Epoch: 10 [2640/9990 (26%)]\tLoss: 4.253921, Accu: 0.00%\n",
      "Train Epoch: 10 [2720/9990 (27%)]\tLoss: 2.746827, Accu: 25.00%\n",
      "Train Epoch: 10 [2800/9990 (28%)]\tLoss: 3.799458, Accu: 0.00%\n",
      "Train Epoch: 10 [2880/9990 (29%)]\tLoss: 3.407517, Accu: 12.50%\n",
      "Train Epoch: 10 [2960/9990 (30%)]\tLoss: 3.713734, Accu: 0.00%\n",
      "Train Epoch: 10 [3040/9990 (30%)]\tLoss: 3.526422, Accu: 25.00%\n",
      "Train Epoch: 10 [3120/9990 (31%)]\tLoss: 2.994555, Accu: 12.50%\n",
      "Train Epoch: 10 [3200/9990 (32%)]\tLoss: 2.636467, Accu: 25.00%\n",
      "Train Epoch: 10 [3280/9990 (33%)]\tLoss: 2.378542, Accu: 37.50%\n",
      "Train Epoch: 10 [3360/9990 (34%)]\tLoss: 3.259325, Accu: 12.50%\n",
      "Train Epoch: 10 [3440/9990 (34%)]\tLoss: 3.564557, Accu: 0.00%\n",
      "Train Epoch: 10 [3520/9990 (35%)]\tLoss: 3.623813, Accu: 12.50%\n",
      "Train Epoch: 10 [3600/9990 (36%)]\tLoss: 3.322681, Accu: 12.50%\n",
      "Train Epoch: 10 [3680/9990 (37%)]\tLoss: 2.771956, Accu: 37.50%\n",
      "Train Epoch: 10 [3760/9990 (38%)]\tLoss: 2.644647, Accu: 25.00%\n",
      "Train Epoch: 10 [3840/9990 (38%)]\tLoss: 4.080167, Accu: 0.00%\n",
      "Train Epoch: 10 [3920/9990 (39%)]\tLoss: 2.789632, Accu: 25.00%\n",
      "Train Epoch: 10 [4000/9990 (40%)]\tLoss: 3.238571, Accu: 12.50%\n",
      "Train Epoch: 10 [4080/9990 (41%)]\tLoss: 3.488020, Accu: 0.00%\n",
      "Train Epoch: 10 [4160/9990 (42%)]\tLoss: 3.507813, Accu: 0.00%\n",
      "Train Epoch: 10 [4240/9990 (42%)]\tLoss: 3.383254, Accu: 0.00%\n",
      "Train Epoch: 10 [4320/9990 (43%)]\tLoss: 3.205360, Accu: 0.00%\n",
      "Train Epoch: 10 [4400/9990 (44%)]\tLoss: 3.835794, Accu: 0.00%\n",
      "Train Epoch: 10 [4480/9990 (45%)]\tLoss: 3.216486, Accu: 12.50%\n",
      "Train Epoch: 10 [4560/9990 (46%)]\tLoss: 3.913170, Accu: 12.50%\n",
      "Train Epoch: 10 [4640/9990 (46%)]\tLoss: 2.451116, Accu: 12.50%\n",
      "Train Epoch: 10 [4720/9990 (47%)]\tLoss: 2.594919, Accu: 25.00%\n",
      "Train Epoch: 10 [4800/9990 (48%)]\tLoss: 3.338154, Accu: 25.00%\n",
      "Train Epoch: 10 [4880/9990 (49%)]\tLoss: 3.078641, Accu: 12.50%\n",
      "Train Epoch: 10 [4960/9990 (50%)]\tLoss: 3.613493, Accu: 12.50%\n",
      "Train Epoch: 10 [5040/9990 (50%)]\tLoss: 3.201335, Accu: 0.00%\n",
      "Train Epoch: 10 [5120/9990 (51%)]\tLoss: 2.739774, Accu: 12.50%\n",
      "Train Epoch: 10 [5200/9990 (52%)]\tLoss: 3.147868, Accu: 25.00%\n",
      "Train Epoch: 10 [5280/9990 (53%)]\tLoss: 3.021449, Accu: 25.00%\n",
      "Train Epoch: 10 [5360/9990 (54%)]\tLoss: 2.718304, Accu: 12.50%\n",
      "Train Epoch: 10 [5440/9990 (54%)]\tLoss: 2.594642, Accu: 25.00%\n",
      "Train Epoch: 10 [5520/9990 (55%)]\tLoss: 3.762104, Accu: 12.50%\n",
      "Train Epoch: 10 [5600/9990 (56%)]\tLoss: 2.760075, Accu: 12.50%\n",
      "Train Epoch: 10 [5680/9990 (57%)]\tLoss: 3.652438, Accu: 25.00%\n",
      "Train Epoch: 10 [5760/9990 (58%)]\tLoss: 2.931550, Accu: 12.50%\n",
      "Train Epoch: 10 [5840/9990 (58%)]\tLoss: 3.347565, Accu: 12.50%\n",
      "Train Epoch: 10 [5920/9990 (59%)]\tLoss: 3.414750, Accu: 0.00%\n",
      "Train Epoch: 10 [6000/9990 (60%)]\tLoss: 2.443385, Accu: 50.00%\n",
      "Train Epoch: 10 [6080/9990 (61%)]\tLoss: 4.567089, Accu: 0.00%\n",
      "Train Epoch: 10 [6160/9990 (62%)]\tLoss: 3.049363, Accu: 25.00%\n",
      "Train Epoch: 10 [6240/9990 (62%)]\tLoss: 2.665936, Accu: 37.50%\n",
      "Train Epoch: 10 [6320/9990 (63%)]\tLoss: 2.950483, Accu: 25.00%\n",
      "Train Epoch: 10 [6400/9990 (64%)]\tLoss: 3.184381, Accu: 12.50%\n"
     ]
    },
    {
     "name": "stdout",
     "output_type": "stream",
     "text": [
      "Train Epoch: 10 [6480/9990 (65%)]\tLoss: 3.820816, Accu: 12.50%\n",
      "Train Epoch: 10 [6560/9990 (66%)]\tLoss: 2.843784, Accu: 12.50%\n",
      "Train Epoch: 10 [6640/9990 (66%)]\tLoss: 2.801195, Accu: 12.50%\n",
      "Train Epoch: 10 [6720/9990 (67%)]\tLoss: 4.022091, Accu: 0.00%\n",
      "Train Epoch: 10 [6800/9990 (68%)]\tLoss: 3.248911, Accu: 25.00%\n",
      "Train Epoch: 10 [6880/9990 (69%)]\tLoss: 3.190311, Accu: 0.00%\n",
      "Train Epoch: 10 [6960/9990 (70%)]\tLoss: 3.543031, Accu: 12.50%\n",
      "Train Epoch: 10 [7040/9990 (70%)]\tLoss: 4.172112, Accu: 12.50%\n",
      "Train Epoch: 10 [7120/9990 (71%)]\tLoss: 3.706785, Accu: 25.00%\n",
      "Train Epoch: 10 [7200/9990 (72%)]\tLoss: 3.449738, Accu: 12.50%\n",
      "Train Epoch: 10 [7280/9990 (73%)]\tLoss: 3.093054, Accu: 12.50%\n",
      "Train Epoch: 10 [7360/9990 (74%)]\tLoss: 3.063791, Accu: 25.00%\n",
      "Train Epoch: 10 [7440/9990 (74%)]\tLoss: 3.777728, Accu: 12.50%\n",
      "Train Epoch: 10 [7520/9990 (75%)]\tLoss: 3.023390, Accu: 12.50%\n",
      "Train Epoch: 10 [7600/9990 (76%)]\tLoss: 3.015187, Accu: 12.50%\n",
      "Train Epoch: 10 [7680/9990 (77%)]\tLoss: 3.320672, Accu: 12.50%\n",
      "Train Epoch: 10 [7760/9990 (78%)]\tLoss: 3.481414, Accu: 12.50%\n",
      "Train Epoch: 10 [7840/9990 (78%)]\tLoss: 3.181681, Accu: 12.50%\n",
      "Train Epoch: 10 [7920/9990 (79%)]\tLoss: 3.351911, Accu: 37.50%\n",
      "Train Epoch: 10 [8000/9990 (80%)]\tLoss: 2.758100, Accu: 25.00%\n",
      "Train Epoch: 10 [8080/9990 (81%)]\tLoss: 3.561279, Accu: 12.50%\n",
      "Train Epoch: 10 [8160/9990 (82%)]\tLoss: 3.357536, Accu: 12.50%\n",
      "Train Epoch: 10 [8240/9990 (82%)]\tLoss: 3.053957, Accu: 25.00%\n",
      "Train Epoch: 10 [8320/9990 (83%)]\tLoss: 2.504460, Accu: 25.00%\n",
      "Train Epoch: 10 [8400/9990 (84%)]\tLoss: 3.013117, Accu: 12.50%\n",
      "Train Epoch: 10 [8480/9990 (85%)]\tLoss: 4.034392, Accu: 0.00%\n",
      "Train Epoch: 10 [8560/9990 (86%)]\tLoss: 3.187916, Accu: 12.50%\n",
      "Train Epoch: 10 [8640/9990 (86%)]\tLoss: 3.530201, Accu: 12.50%\n",
      "Train Epoch: 10 [8720/9990 (87%)]\tLoss: 3.325342, Accu: 12.50%\n",
      "Train Epoch: 10 [8800/9990 (88%)]\tLoss: 3.094553, Accu: 0.00%\n",
      "Train Epoch: 10 [8880/9990 (89%)]\tLoss: 3.305929, Accu: 25.00%\n",
      "Train Epoch: 10 [8960/9990 (90%)]\tLoss: 3.984555, Accu: 0.00%\n",
      "Train Epoch: 10 [9040/9990 (90%)]\tLoss: 2.171705, Accu: 37.50%\n",
      "Train Epoch: 10 [9120/9990 (91%)]\tLoss: 3.972393, Accu: 0.00%\n",
      "Train Epoch: 10 [9200/9990 (92%)]\tLoss: 3.775603, Accu: 12.50%\n",
      "Train Epoch: 10 [9280/9990 (93%)]\tLoss: 3.494084, Accu: 0.00%\n",
      "Train Epoch: 10 [9360/9990 (94%)]\tLoss: 3.591289, Accu: 12.50%\n",
      "Train Epoch: 10 [9440/9990 (94%)]\tLoss: 2.488214, Accu: 25.00%\n",
      "Train Epoch: 10 [9520/9990 (95%)]\tLoss: 2.996358, Accu: 25.00%\n",
      "Train Epoch: 10 [9600/9990 (96%)]\tLoss: 3.471806, Accu: 12.50%\n",
      "Train Epoch: 10 [9680/9990 (97%)]\tLoss: 3.568020, Accu: 12.50%\n",
      "Train Epoch: 10 [9760/9990 (98%)]\tLoss: 3.411685, Accu: 12.50%\n",
      "Train Epoch: 10 [9840/9990 (98%)]\tLoss: 3.194095, Accu: 0.00%\n",
      "Train Epoch: 10 [9920/9990 (99%)]\tLoss: 3.543259, Accu: 12.50%\n",
      "\n",
      "Test set (3330 samples): Average loss: 3.9640, Accuracy: 9.22%\n",
      "\n",
      "Epoch 10 model saved!\n"
     ]
    }
   ],
   "source": [
    "# record training process\n",
    "epoch_train_losses = []\n",
    "epoch_train_scores = []\n",
    "epoch_test_losses = []\n",
    "epoch_test_scores = []\n",
    "\n",
    "# start training\n",
    "for epoch in range(epochs):\n",
    "    # train, test model\n",
    "    train_losses, train_scores = train(log_interval, cnn3d, device, train_loader, optimizer, epoch)\n",
    "    epoch_test_loss, epoch_test_score = validation(cnn3d, device, optimizer, valid_loader)\n",
    "\n",
    "    # save results\n",
    "    epoch_train_losses.append(train_losses)\n",
    "    epoch_train_scores.append(train_scores)\n",
    "    epoch_test_losses.append(epoch_test_loss)\n",
    "    epoch_test_scores.append(epoch_test_score)\n",
    "\n",
    "    # save all train test results\n",
    "    A = np.array(epoch_train_losses)\n",
    "    B = np.array(epoch_train_scores)\n",
    "    C = np.array(epoch_test_losses)\n",
    "    D = np.array(epoch_test_scores)\n",
    "    np.save('./3DCNN_epoch_training_losses.npy', A)\n",
    "    np.save('./3DCNN_epoch_training_scores.npy', B)\n",
    "    np.save('./3DCNN_epoch_test_loss.npy', C)\n",
    "    np.save('./3DCNN_epoch_test_score.npy', D)"
   ]
  },
  {
   "cell_type": "code",
   "execution_count": 13,
   "metadata": {},
   "outputs": [
    {
     "data": {
      "image/png": "[encoded data removed]",
      "text/plain": [
       "<Figure size 720x288 with 2 Axes>"
      ]
     },
     "metadata": {
      "needs_background": "light"
     },
     "output_type": "display_data"
    }
   ],
   "source": [
    "# plot\n",
    "fig = plt.figure(figsize=(10, 4))\n",
    "plt.subplot(121)\n",
    "plt.plot(np.arange(1, epochs + 1), A[:, -1])  # train loss (on epoch end)\n",
    "plt.plot(np.arange(1, epochs + 1), C)         #  test loss (on epoch end)\n",
    "plt.title(\"model loss\")\n",
    "plt.xlabel('epochs')\n",
    "plt.ylabel('loss')\n",
    "plt.legend(['train', 'test'], loc=\"upper left\")\n",
    "# 2nd figure\n",
    "plt.subplot(122)\n",
    "plt.plot(np.arange(1, epochs + 1), B[:, -1])  # train accuracy (on epoch end)\n",
    "plt.plot(np.arange(1, epochs + 1), D)         #  test accuracy (on epoch end)\n",
    "# plt.plot(histories.losses_val)\n",
    "plt.title(\"training scores\")\n",
    "plt.xlabel('epochs')\n",
    "plt.ylabel('accuracy')\n",
    "plt.legend(['train', 'test'], loc=\"upper left\")\n",
    "title = \"./fig_UCF101_3DCNN.png\"\n",
    "plt.savefig(title, dpi=600)\n",
    "# plt.close(fig)\n",
    "plt.show()"
   ]
  },
  {
   "cell_type": "code",
   "execution_count": null,
   "metadata": {},
   "outputs": [],
   "source": []
  },
  {
   "cell_type": "code",
   "execution_count": null,
   "metadata": {},
   "outputs": [],
   "source": []
  }
 ],
 "metadata": {
  "kernelspec": {
   "display_name": "Python 3",
   "language": "python",
   "name": "python3"
  },
  "language_info": {
   "codemirror_mode": {
    "name": "ipython",
    "version": 3
   },
   "file_extension": ".py",
   "mimetype": "text/x-python",
   "name": "python",
   "nbconvert_exporter": "python",
   "pygments_lexer": "ipython3",
   "version": "3.6.8"
  }
 },
 "nbformat": 4,
 "nbformat_minor": 4
}
